{
 "cells": [
  {
   "cell_type": "code",
   "execution_count": 1,
   "metadata": {},
   "outputs": [],
   "source": [
    "# def try_to():\n",
    "#     s = \"Ada Lovelace\"\n",
    "#     up = s.replace(\"a\", \"A\")\n",
    "#     print(up)\n",
    "# try_to()\n"
   ]
  },
  {
   "cell_type": "code",
   "execution_count": 2,
   "metadata": {},
   "outputs": [
    {
     "name": "stdout",
     "output_type": "stream",
     "text": [
      "[True, True, False]\n",
      "[True, True, False, False]\n",
      "[True, True, True, False, False]\n",
      "[True, True, True, False, False, False]\n",
      "8\n"
     ]
    }
   ],
   "source": [
    "a=0\n",
    "for i in range(4,8):\n",
    "    b = []\n",
    "    for j in range(1,i):\n",
    "        b.append(i//j >= 2)\n",
    "    print(b)\n",
    "    a += b.count(False)\n",
    "print(a)"
   ]
  },
  {
   "cell_type": "code",
   "execution_count": 6,
   "metadata": {},
   "outputs": [
    {
     "name": "stdout",
     "output_type": "stream",
     "text": [
      "r\n",
      "u\n",
      "l\n",
      "f\n",
      "h\n",
      "l\n",
      "e\n"
     ]
    },
    {
     "ename": "IndexError",
     "evalue": "string index out of range",
     "output_type": "error",
     "traceback": [
      "\u001b[1;31m---------------------------------------------------------------------------\u001b[0m",
      "\u001b[1;31mIndexError\u001b[0m                                Traceback (most recent call last)",
      "\u001b[1;32m<ipython-input-6-edf213ff50eb>\u001b[0m in \u001b[0;36m<module>\u001b[1;34m()\u001b[0m\n\u001b[0;32m      3\u001b[0m \u001b[1;32mfor\u001b[0m \u001b[0mi\u001b[0m \u001b[1;32min\u001b[0m \u001b[0mrange\u001b[0m\u001b[1;33m(\u001b[0m\u001b[1;36m0\u001b[0m\u001b[1;33m,\u001b[0m \u001b[0mlen\u001b[0m\u001b[1;33m(\u001b[0m\u001b[0mx\u001b[0m\u001b[1;33m)\u001b[0m\u001b[1;33m,\u001b[0m\u001b[1;36m2\u001b[0m\u001b[1;33m)\u001b[0m\u001b[1;33m:\u001b[0m\u001b[1;33m\u001b[0m\u001b[0m\n\u001b[0;32m      4\u001b[0m     \u001b[0mprint\u001b[0m\u001b[1;33m(\u001b[0m\u001b[0mx\u001b[0m\u001b[1;33m[\u001b[0m\u001b[0mi\u001b[0m\u001b[1;33m]\u001b[0m\u001b[1;33m)\u001b[0m\u001b[1;33m\u001b[0m\u001b[0m\n\u001b[1;32m----> 5\u001b[1;33m     \u001b[0mprint\u001b[0m\u001b[1;33m(\u001b[0m\u001b[0my\u001b[0m\u001b[1;33m[\u001b[0m\u001b[0mi\u001b[0m\u001b[1;33m+\u001b[0m\u001b[1;36m1\u001b[0m\u001b[1;33m]\u001b[0m\u001b[1;33m)\u001b[0m\u001b[1;33m\u001b[0m\u001b[0m\n\u001b[0m",
      "\u001b[1;31mIndexError\u001b[0m: string index out of range"
     ]
    }
   ],
   "source": [
    "x = \"ralphie\"\n",
    "y = \"buffalo\"\n",
    "for i in range(0, len(x),2):\n",
    "    print(x[i])\n",
    "    print(y[i+1])"
   ]
  },
  {
   "cell_type": "raw",
   "metadata": {},
   "source": [
    "u = \"ZebRa\"\n",
    "low = u.lower()\n",
    "up = u.upper()\n",
    "\n",
    "s = \"\"\n",
    "for c in u:\n",
    "    if c in low:\n",
    "        s = s + c\n",
    "    else:\n",
    "        s = c + s\n",
    "print(s)"
   ]
  },
  {
   "cell_type": "code",
   "execution_count": 26,
   "metadata": {},
   "outputs": [
    {
     "name": "stdout",
     "output_type": "stream",
     "text": [
      "False\n"
     ]
    }
   ],
   "source": [
    "def sorted_ls(ls):\n",
    "    for i in range(len(ls)+1):\n",
    "        count = 0\n",
    "        if (i+1) >= i:\n",
    "            count += 1 \n",
    "        else:\n",
    "            count = count\n",
    "            \n",
    "        if count == (len(ls)-1):\n",
    "            return True\n",
    "        else:\n",
    "            return False\n",
    "        \n",
    "print(sorted_ls([1,2,2,3]))"
   ]
  },
  {
   "cell_type": "code",
   "execution_count": 16,
   "metadata": {},
   "outputs": [
    {
     "name": "stdout",
     "output_type": "stream",
     "text": [
      "7.0\n",
      "True\n",
      "hi False\n"
     ]
    }
   ],
   "source": [
    "n = float(7.2)//1\n",
    "print(n)\n",
    "judge = n < 40\n",
    "print(judge)\n",
    "judge = not judge or n > 7\n",
    "# print(type(y))\n",
    "print(\"hi \" + str(judge))"
   ]
  },
  {
   "cell_type": "code",
   "execution_count": 42,
   "metadata": {},
   "outputs": [
    {
     "name": "stdout",
     "output_type": "stream",
     "text": [
      "p\n",
      "p\n",
      "p\n",
      "u\n",
      "p\n",
      "r\n",
      "p\n",
      "p\n",
      "p\n",
      "l\n",
      "p\n",
      "e\n"
     ]
    }
   ],
   "source": [
    "w = \"purple\"\n",
    "x = 0\n",
    "for index in range(len(w)):\n",
    "    print(w[x])\n",
    "    print(w[index])\n",
    "    \n"
   ]
  },
  {
   "cell_type": "code",
   "execution_count": 17,
   "metadata": {},
   "outputs": [
    {
     "name": "stdout",
     "output_type": "stream",
     "text": [
      "pow!4\n",
      "pow!5\n",
      "6\n"
     ]
    }
   ],
   "source": [
    "s = 4\n",
    "e = 10\n",
    "times = 0\n",
    "for num in range(s,e):\n",
    "    if num + s < e:\n",
    "        print(\"pow!\" + str(num))\n",
    "    times = times + 1\n",
    "    \n",
    "print(times)"
   ]
  }
 ],
 "metadata": {
  "kernelspec": {
   "display_name": "Python 3",
   "language": "python",
   "name": "python3"
  },
  "language_info": {
   "codemirror_mode": {
    "name": "ipython",
    "version": 3
   },
   "file_extension": ".py",
   "mimetype": "text/x-python",
   "name": "python",
   "nbconvert_exporter": "python",
   "pygments_lexer": "ipython3",
   "version": "3.6.5"
  }
 },
 "nbformat": 4,
 "nbformat_minor": 2
}
