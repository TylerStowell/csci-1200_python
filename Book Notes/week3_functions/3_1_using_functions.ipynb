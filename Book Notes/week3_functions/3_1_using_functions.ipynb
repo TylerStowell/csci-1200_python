{
 "cells": [
  {
   "cell_type": "markdown",
   "metadata": {},
   "source": [
    "Using functions\n",
    "==========\n",
    "\n",
    "In previous installments of the course notes, we've seen the `print` and `input` functions.\n",
    "\n",
    "Functions make up the main building blocks of our programs—they are re-usable pieces of code that are nicely wrapped up for us. For instance, the implementation of the `print` function may have 50 lines of code, it may only have 2. We don't know and we don't care. To use it, we just have to write `print(\"my fantastic message\")`.\n",
    "\n",
    "We can give the general format for using functions as:\n",
    "\n",
    "```python\n",
    "return_value = function_name(parameters)\n",
    "```\n",
    "\n",
    "Not all functions have all parts of this general format, but __all functions do have: `function_name()`__ (a name and parentheses).\n",
    "\n",
    "If we forgot the parentheses, python would interpret `function_name` as a variable, which we don't want."
   ]
  },
  {
   "cell_type": "markdown",
   "metadata": {},
   "source": [
    "Parameters/Arguments\n",
    "------------\n",
    "\n",
    "You'll notice that we use the words \"parameters\" and \"arguments\" pretty much interchangeably to refer to the same thing. This is ok!\n",
    "\n",
    "__Parameters__: the values that a function takes and uses to perform its task.\n",
    "\n",
    "For instance, `print(\"my message\")` will print out `my message`.\n",
    "\n",
    "Some functions have a fixed number of parameters that they take. For example, the `len()` function only takes 1 parameter.\n",
    "\n",
    "Some functions can take a variable number of parameters. For example, we can write `print()`, `print(\"hello\")`, and `print(\"hello\", \"there\")`. These function calls all do slightly different things.\n",
    "\n",
    "Notice that when we provide multiple parameters to a function, we use a comma (`,`) to separate them."
   ]
  },
  {
   "cell_type": "code",
   "execution_count": 1,
   "metadata": {},
   "outputs": [
    {
     "name": "stdout",
     "output_type": "stream",
     "text": [
      "5\n"
     ]
    }
   ],
   "source": [
    "# TODO: run this cell, what does the len() function do?\n",
    "# Answer: \n",
    "print(len(\"hello\"))"
   ]
  },
  {
   "cell_type": "code",
   "execution_count": 2,
   "metadata": {},
   "outputs": [
    {
     "ename": "TypeError",
     "evalue": "len() takes exactly one argument (2 given)",
     "output_type": "error",
     "traceback": [
      "\u001b[1;31m---------------------------------------------------------------------------\u001b[0m",
      "\u001b[1;31mTypeError\u001b[0m                                 Traceback (most recent call last)",
      "\u001b[1;32m<ipython-input-2-d6437bf93eed>\u001b[0m in \u001b[0;36m<module>\u001b[1;34m()\u001b[0m\n\u001b[0;32m      2\u001b[0m \u001b[1;31m# with more than one parameter?\u001b[0m\u001b[1;33m\u001b[0m\u001b[1;33m\u001b[0m\u001b[0m\n\u001b[0;32m      3\u001b[0m \u001b[1;31m# Answer:\u001b[0m\u001b[1;33m\u001b[0m\u001b[1;33m\u001b[0m\u001b[0m\n\u001b[1;32m----> 4\u001b[1;33m \u001b[0mprint\u001b[0m\u001b[1;33m(\u001b[0m\u001b[0mlen\u001b[0m\u001b[1;33m(\u001b[0m\u001b[1;34m\"hello\"\u001b[0m\u001b[1;33m,\u001b[0m \u001b[1;34m\"there\"\u001b[0m\u001b[1;33m)\u001b[0m\u001b[1;33m)\u001b[0m\u001b[1;33m\u001b[0m\u001b[0m\n\u001b[0m",
      "\u001b[1;31mTypeError\u001b[0m: len() takes exactly one argument (2 given)"
     ]
    }
   ],
   "source": [
    "# TODO: run this cell, what happens if you run the len function \n",
    "# with more than one parameter?\n",
    "# Answer: \n",
    "print(len(\"hello\", \"there\"))"
   ]
  },
  {
   "cell_type": "code",
   "execution_count": 3,
   "metadata": {},
   "outputs": [
    {
     "ename": "TypeError",
     "evalue": "len() takes exactly one argument (0 given)",
     "output_type": "error",
     "traceback": [
      "\u001b[1;31m---------------------------------------------------------------------------\u001b[0m",
      "\u001b[1;31mTypeError\u001b[0m                                 Traceback (most recent call last)",
      "\u001b[1;32m<ipython-input-3-c848eb80ccf0>\u001b[0m in \u001b[0;36m<module>\u001b[1;34m()\u001b[0m\n\u001b[0;32m      2\u001b[0m \u001b[1;31m# with no parameters?\u001b[0m\u001b[1;33m\u001b[0m\u001b[1;33m\u001b[0m\u001b[0m\n\u001b[0;32m      3\u001b[0m \u001b[1;31m# Answer:\u001b[0m\u001b[1;33m\u001b[0m\u001b[1;33m\u001b[0m\u001b[0m\n\u001b[1;32m----> 4\u001b[1;33m \u001b[0mprint\u001b[0m\u001b[1;33m(\u001b[0m\u001b[0mlen\u001b[0m\u001b[1;33m(\u001b[0m\u001b[1;33m)\u001b[0m\u001b[1;33m)\u001b[0m\u001b[1;33m\u001b[0m\u001b[0m\n\u001b[0m",
      "\u001b[1;31mTypeError\u001b[0m: len() takes exactly one argument (0 given)"
     ]
    }
   ],
   "source": [
    "# TODO: run this cell, what happens if you run the len function \n",
    "# with no parameters?\n",
    "# Answer: \n",
    "print(len())"
   ]
  },
  {
   "cell_type": "code",
   "execution_count": 4,
   "metadata": {},
   "outputs": [
    {
     "name": "stdout",
     "output_type": "stream",
     "text": [
      "\n",
      "hello\n",
      "hello there\n"
     ]
    }
   ],
   "source": [
    "# TODO: compare and contrast calls to print() with variable numbers of\n",
    "# parameters\n",
    "print()\n",
    "print(\"hello\")\n",
    "print(\"hello\", \"there\")"
   ]
  },
  {
   "cell_type": "markdown",
   "metadata": {},
   "source": [
    "Functions without return values\n",
    "----------------\n",
    "\n",
    "Our best example of a function without a return value is `print()`. \n",
    "\n",
    "We call functions without return values like:\n",
    "\n",
    "```python\n",
    "function_name(parameters)\n",
    "```\n",
    "\n",
    "\n",
    "Out of curiousity, let's investigate this lack-of-return-value more."
   ]
  },
  {
   "cell_type": "code",
   "execution_count": 6,
   "metadata": {},
   "outputs": [
    {
     "name": "stdout",
     "output_type": "stream",
     "text": [
      "first message\n",
      "second message\n",
      "None\n"
     ]
    }
   ],
   "source": [
    "# TODO: run me. If we try to save a return value for a function that doesn't\n",
    "# have one, what happens?\n",
    "# Answer:\n",
    "\n",
    "print(\"first message\")\n",
    "print_return = print(\"second message\")\n",
    "print(print_return)"
   ]
  },
  {
   "cell_type": "code",
   "execution_count": 7,
   "metadata": {},
   "outputs": [
    {
     "name": "stdout",
     "output_type": "stream",
     "text": [
      "None\n"
     ]
    }
   ],
   "source": [
    "# now let's investigate the value of the print_return variable\n",
    "# TODO: print out the value of print_return\n",
    "print(print_return)"
   ]
  },
  {
   "cell_type": "markdown",
   "metadata": {},
   "source": [
    "This shows us that if a function doesn't have a return value and we try to save it anyways, we get a special python value called `None`."
   ]
  },
  {
   "cell_type": "code",
   "execution_count": 8,
   "metadata": {},
   "outputs": [
    {
     "name": "stdout",
     "output_type": "stream",
     "text": [
      "<class 'NoneType'>\n"
     ]
    }
   ],
   "source": [
    "# TODO: run me\n",
    "print(type(None))"
   ]
  },
  {
   "cell_type": "markdown",
   "metadata": {},
   "source": [
    "`None` is a value that doesn't have any of our 4 basic types (`int`, `float`, `string`, `boolean`). In fact, it has its own type only for itself! `None` is a special value that literally represents nothing. We'll get into this more later in the course."
   ]
  },
  {
   "cell_type": "markdown",
   "metadata": {},
   "source": [
    "Functions with return values\n",
    "----------------\n",
    "\n",
    "A great example of a function _with_ a return value is `input()`. `len()` also has a return value. In fact, _most_ functions that we will use in this course, and especially [python's built-in functions](3_2_builtin_functions.ipynb) have return values.\n",
    "\n",
    "*__Remember: if you do not save a return value in a variable, you cannot use it later!__*"
   ]
  },
  {
   "cell_type": "code",
   "execution_count": 9,
   "metadata": {},
   "outputs": [
    {
     "name": "stdout",
     "output_type": "stream",
     "text": [
      "Do you own a labradoodle?yes\n"
     ]
    },
    {
     "ename": "NameError",
     "evalue": "name 'answer' is not defined",
     "output_type": "error",
     "traceback": [
      "\u001b[1;31m---------------------------------------------------------------------------\u001b[0m",
      "\u001b[1;31mNameError\u001b[0m                                 Traceback (most recent call last)",
      "\u001b[1;32m<ipython-input-9-59772d738cfb>\u001b[0m in \u001b[0;36m<module>\u001b[1;34m()\u001b[0m\n\u001b[0;32m      2\u001b[0m \u001b[1;31m# Answer:\u001b[0m\u001b[1;33m\u001b[0m\u001b[1;33m\u001b[0m\u001b[0m\n\u001b[0;32m      3\u001b[0m \u001b[0minput\u001b[0m\u001b[1;33m(\u001b[0m\u001b[1;34m\"Do you own a labradoodle?\"\u001b[0m\u001b[1;33m)\u001b[0m\u001b[1;33m\u001b[0m\u001b[0m\n\u001b[1;32m----> 4\u001b[1;33m \u001b[0mprint\u001b[0m\u001b[1;33m(\u001b[0m\u001b[0manswer\u001b[0m\u001b[1;33m)\u001b[0m\u001b[1;33m\u001b[0m\u001b[0m\n\u001b[0m",
      "\u001b[1;31mNameError\u001b[0m: name 'answer' is not defined"
     ]
    }
   ],
   "source": [
    "# TODO: run this cell, why do you get an error?\n",
    "# Answer:\n",
    "input(\"Do you own a labradoodle?\")\n",
    "print(answer)"
   ]
  },
  {
   "cell_type": "markdown",
   "metadata": {},
   "source": [
    "When we call functions with return values, we use the format:\n",
    "\n",
    "```python\n",
    "return_value = function_name(parameters)\n",
    "```"
   ]
  },
  {
   "cell_type": "code",
   "execution_count": 13,
   "metadata": {},
   "outputs": [
    {
     "name": "stdout",
     "output_type": "stream",
     "text": [
      "what is your favorite word? Blayn\n",
      "what is your other favorite word? Masoner\n",
      "12\n"
     ]
    }
   ],
   "source": [
    "# TODO: use the len() function to find the length of your favorite \n",
    "# strings, then add these lengths together and report them to the user.\n",
    "word= input(\"what is your favorite word? \")\n",
    "word2= input(\"what is your other favorite word? \")\n",
    "word= len(word)\n",
    "word2= len(word2)\n",
    "answer= word + word2\n",
    "print(answer)"
   ]
  },
  {
   "cell_type": "markdown",
   "metadata": {},
   "source": [
    "String functions\n",
    "-----------\n",
    "\n",
    "Of course, it would be too simple if all functions worked exactly the same way. We'll take more about exactly why this is, but string functions are formatted slightly differently. The general format for string functions is:\n",
    "\n",
    "```python\n",
    "return_value = string_var.function_name(parameters)\n",
    "```\n",
    "\n",
    "Let's look at an example: the `islower()` function.\n",
    "\n",
    "```python\n",
    "my_string = \"I am a string!\"\n",
    "result = my_string.islower()\n",
    "print(result)\n",
    "```\n",
    "\n",
    "What this string is doing is saying \"Hey, `my_string` variable! I want you to tell me if you are lower case!\"\n",
    "\n",
    "Another example: the `lower()` function.\n",
    "\n",
    "```python\n",
    "my_string = \"I am a string!\"\n",
    "result = my_string.lower()\n",
    "print(result)\n",
    "```\n",
    "\n",
    "What this string is doing is saying \"Hey, `my_string` variable! I want you to give me back the lower case version of yourself!\""
   ]
  },
  {
   "cell_type": "code",
   "execution_count": null,
   "metadata": {
    "collapsed": true
   },
   "outputs": [],
   "source": []
  },
  {
   "cell_type": "code",
   "execution_count": 14,
   "metadata": {},
   "outputs": [
    {
     "name": "stdout",
     "output_type": "stream",
     "text": [
      "False\n"
     ]
    }
   ],
   "source": [
    "\n",
    "\n",
    "# TODO: run me\n",
    "my_string = \"I am a string!\"\n",
    "result = my_string.islower()\n",
    "print(result)"
   ]
  },
  {
   "cell_type": "code",
   "execution_count": 16,
   "metadata": {},
   "outputs": [
    {
     "name": "stdout",
     "output_type": "stream",
     "text": [
      "False\n"
     ]
    }
   ],
   "source": [
    "# TODO: run me, then modify this code to test whether the variable\n",
    "# result is lower case or not. Print out your final assessment.\n",
    "my_string = \"I am a string!\"\n",
    "result = my_string.islower()\n",
    "print(result)"
   ]
  },
  {
   "cell_type": "code",
   "execution_count": 17,
   "metadata": {},
   "outputs": [
    {
     "ename": "SyntaxError",
     "evalue": "Missing parentheses in call to 'print'. Did you mean print(length)? (<ipython-input-17-10edbcf9c87d>, line 6)",
     "output_type": "error",
     "traceback": [
      "\u001b[1;36m  File \u001b[1;32m\"<ipython-input-17-10edbcf9c87d>\"\u001b[1;36m, line \u001b[1;32m6\u001b[0m\n\u001b[1;33m    print length\u001b[0m\n\u001b[1;37m               ^\u001b[0m\n\u001b[1;31mSyntaxError\u001b[0m\u001b[1;31m:\u001b[0m Missing parentheses in call to 'print'. Did you mean print(length)?\n"
     ]
    }
   ],
   "source": [
    "# TODO: now let's look at a tricky strings trap.\n",
    "# print out the length of the following string, then print out the lower\n",
    "# case version of it.\n",
    "s = \"I AM A STRING SUCH A STRINGY STRING STRING\"\n",
    "length= len(s)\n",
    "print length"
   ]
  },
  {
   "cell_type": "code",
   "execution_count": null,
   "metadata": {},
   "outputs": [],
   "source": []
  }
 ],
 "metadata": {
  "kernelspec": {
   "display_name": "Python 3",
   "language": "python",
   "name": "python3"
  },
  "language_info": {
   "codemirror_mode": {
    "name": "ipython",
    "version": 3
   },
   "file_extension": ".py",
   "mimetype": "text/x-python",
   "name": "python",
   "nbconvert_exporter": "python",
   "pygments_lexer": "ipython3",
   "version": "3.6.5"
  }
 },
 "nbformat": 4,
 "nbformat_minor": 2
}
