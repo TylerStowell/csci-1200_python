{
 "cells": [
  {
   "cell_type": "markdown",
   "metadata": {},
   "source": [
    "`for` Loops\n",
    "=======\n",
    "\n",
    "A `for` loop is a control structure that we use to repeat certain pieces of code (and avoid all that copy-pasting).\n",
    "\n",
    "__control structure__: a part of the language that allows us to dictate when and how (and how many times) certain pieces of code are run. We can consider functions to be one time of control structure. (Though they are so important that they just get to be called functions most of the time).\n",
    "\n",
    "Let's take a look at the syntax of a `for` loop.\n",
    "\n",
    "```python\n",
    "for variable_name in [options_list]:\n",
    "    # do things\n",
    "    print(variable_name) # for example, print each element\n",
    "\n",
    "print(\"done\") # this is outside of the for loop\n",
    "```\n",
    "\n",
    "There are a few important pieces here:\n",
    "1. `variable_name` this will be how we access the next value in the sequence that we are iterating over.\n",
    "2. `[options_list]` this is a sequence of values. The `for` loop will iterate (repeat) once per value in this list.\n",
    "3. __indentation__: notice that everything that we want repeated __must__ be indented \"inside\" the `for` loop. Once we return to our base level of indentation, the code will no longer be repeated.\n",
    "\n",
    "Let's take a look at an example that we can run."
   ]
  },
  {
   "cell_type": "code",
   "execution_count": 1,
   "metadata": {},
   "outputs": [
    {
     "name": "stdout",
     "output_type": "stream",
     "text": [
      "red\n",
      "blue\n",
      "yellow\n",
      "done!\n"
     ]
    }
   ],
   "source": [
    "# TODO: run me!\n",
    "\n",
    "for color in [\"red\", \"blue\", \"yellow\"]:\n",
    "    # imagine that there is a secret line of code here that says:\n",
    "    # color = next color in the list\n",
    "    print(color)\n",
    "    \n",
    "print(\"done!\")  # how many times is this printed out?"
   ]
  },
  {
   "cell_type": "code",
   "execution_count": 2,
   "metadata": {},
   "outputs": [
    {
     "name": "stdout",
     "output_type": "stream",
     "text": [
      "1.2\n",
      "2.4\n",
      "2.0\n",
      "4.0\n",
      "-13.5\n",
      "-27.0\n",
      "100.34\n",
      "200.68\n",
      "12.0\n",
      "24.0\n",
      "done!\n"
     ]
    }
   ],
   "source": [
    "# TODO: run me! What order are the values iterated over?\n",
    "# Answer:\n",
    "\n",
    "for number in [1.2, 2.0, -13.5, 100.34, 12.0]:\n",
    "    print(number)\n",
    "    print(number * 2) # what does this line do?\n",
    "    \n",
    "print(\"done!\")"
   ]
  },
  {
   "cell_type": "code",
   "execution_count": 3,
   "metadata": {},
   "outputs": [
    {
     "name": "stdout",
     "output_type": "stream",
     "text": [
      "*\n",
      "*\n",
      "*\n",
      "*\n",
      "*\n",
      "done!\n"
     ]
    }
   ],
   "source": [
    "# TODO: run me! How many \"*\" will be printed out?\n",
    "# Answer:\n",
    "for number in [1.2, 2.0, -13.5, 100.34, 12.0]:\n",
    "    print(\"*\")\n",
    "    \n",
    "print(\"done!\")"
   ]
  },
  {
   "cell_type": "markdown",
   "metadata": {},
   "source": [
    "`for` loops with `range()` \n",
    "------------\n",
    "\n",
    "Remember when we made you explore the `range()` function earlier in the course? You may have wondered what possible use its wacky return value would serve.\n",
    "\n",
    "```python\n",
    "range_return = range(10)\n",
    "print(range_return)  # range(0, 10)\n",
    "print(type(range_return))  # <class 'range'>\n",
    "```\n",
    "\n",
    "It turns out that this function is __extremely__ useful (and extremely commonly used) with `for` loops!\n",
    "\n",
    "Take a look at the following code:"
   ]
  },
  {
   "cell_type": "code",
   "execution_count": 4,
   "metadata": {},
   "outputs": [
    {
     "name": "stdout",
     "output_type": "stream",
     "text": [
      "range(0, 10)\n",
      "<class 'range'>\n",
      "\n",
      "[0, 1, 2, 3, 4, 5, 6, 7, 8, 9]\n"
     ]
    }
   ],
   "source": [
    "# TODO: run me\n",
    "range_return = range(10)\n",
    "print(range_return)  # range(0, 10)\n",
    "print(type(range_return))  # <class 'range'>\n",
    "print()\n",
    "# Now look what happens\n",
    "print(list(range_return))  # this line of code is a casting function to a list"
   ]
  },
  {
   "cell_type": "markdown",
   "metadata": {},
   "source": [
    "We can use the `range()` function to easily produce long lists of integers that we can use to control how many times a `for` loop iterates.\n",
    "\n",
    "Say, for example, that we want to repeat the same code 10 times:\n",
    "\n",
    "```python\n",
    "for num in range(10):\n",
    "    print(\"yay!\")\n",
    "```\n",
    "\n",
    "Say we want to repeat the same code 1000 times:\n",
    "```python\n",
    "for num in range(1000):\n",
    "    print(\"yay1000!\")\n",
    "```\n",
    "\n",
    "That's a whole lot easier than typing out a list with 1000 elements!\n",
    "\n",
    "__parameters with `range()`__: you can pass the range function 1, 2, or 3 ints. Let's take a look."
   ]
  },
  {
   "cell_type": "code",
   "execution_count": 5,
   "metadata": {},
   "outputs": [
    {
     "name": "stdout",
     "output_type": "stream",
     "text": [
      "0\n",
      "1\n",
      "2\n",
      "3\n",
      "4\n"
     ]
    }
   ],
   "source": [
    "# TODO: explore the parameter configurations of the range() function\n",
    "for num in range(5):\n",
    "    print(num)\n",
    "    \n",
    "# What number does this start at? end at?"
   ]
  },
  {
   "cell_type": "code",
   "execution_count": 6,
   "metadata": {},
   "outputs": [
    {
     "name": "stdout",
     "output_type": "stream",
     "text": [
      "2\n",
      "3\n",
      "4\n"
     ]
    }
   ],
   "source": [
    "for num in range(2, 5):\n",
    "    print(num)\n",
    "    \n",
    "# What number does this start at? end at?"
   ]
  },
  {
   "cell_type": "code",
   "execution_count": 7,
   "metadata": {},
   "outputs": [
    {
     "name": "stdout",
     "output_type": "stream",
     "text": [
      "1\n",
      "3\n",
      "5\n",
      "7\n",
      "9\n",
      "finish example 1\n",
      "6\n",
      "9\n",
      "12\n",
      "15\n",
      "finish example 2\n"
     ]
    }
   ],
   "source": [
    "# example 1\n",
    "for num in range(1, 10, 2):\n",
    "    print(num)\n",
    "print(\"finish example 1\")\n",
    "    \n",
    "# exmaple 2\n",
    "for num in range(6, 18, 3):\n",
    "    print(num)\n",
    "print(\"finish example 2\")\n",
    "    \n",
    "# What number does this start at? end at? what does the third number represent?"
   ]
  },
  {
   "cell_type": "markdown",
   "metadata": {},
   "source": [
    "`for` loops over strings\n",
    "-----------------\n",
    "\n",
    "We can also iterate over strings as if they were lists of characters using a `for` loop.\n",
    "\n",
    "```python\n",
    "for letter in \"my string\":\n",
    "    print(letter)\n",
    "```\n",
    "\n",
    "Notice that we can also iterate over a string that has been saved in a variable in this way."
   ]
  },
  {
   "cell_type": "code",
   "execution_count": 8,
   "metadata": {},
   "outputs": [
    {
     "name": "stdout",
     "output_type": "stream",
     "text": [
      "G\n",
      "w\n",
      "e\n",
      "n\n",
      "i\n",
      "v\n",
      "e\n",
      "r\n",
      "e\n"
     ]
    }
   ],
   "source": [
    "name = \"Gwenivere\"\n",
    "for letter in name:\n",
    "    print(letter)"
   ]
  },
  {
   "cell_type": "code",
   "execution_count": 9,
   "metadata": {},
   "outputs": [
    {
     "name": "stdout",
     "output_type": "stream",
     "text": [
      "s\n",
      "p\n",
      "a\n",
      "c\n",
      "e\n",
      "s\n",
      " \n",
      "w\n",
      "i\n",
      "l\n",
      "l\n",
      " \n",
      "a\n",
      "l\n",
      "s\n",
      "o\n",
      " \n",
      "b\n",
      "e\n",
      " \n",
      "i\n",
      "t\n",
      "e\n",
      "r\n",
      "a\n",
      "t\n",
      "e\n",
      "d\n",
      " \n",
      "o\n",
      "v\n",
      "e\n",
      "r\n"
     ]
    }
   ],
   "source": [
    "text = \"spaces will also be iterated over\"\n",
    "for letter in text:\n",
    "    print(letter)"
   ]
  },
  {
   "cell_type": "markdown",
   "metadata": {},
   "source": [
    "Iterating over strings and lists using indices\n",
    "------------------\n",
    "\n",
    "Lastly, let's take a look at combining these strategies. We'll write for loops that do the same things as the examples above, but using the `range()` function and the `len()` function."
   ]
  },
  {
   "cell_type": "code",
   "execution_count": 10,
   "metadata": {},
   "outputs": [
    {
     "name": "stdout",
     "output_type": "stream",
     "text": [
      "0\n",
      "G\n",
      "1\n",
      "w\n",
      "2\n",
      "e\n",
      "3\n",
      "n\n",
      "4\n",
      "i\n",
      "5\n",
      "v\n",
      "6\n",
      "e\n",
      "7\n",
      "r\n",
      "8\n",
      "e\n"
     ]
    }
   ],
   "source": [
    "name = \"Gwenivere\"\n",
    "for index in range(len(name)):\n",
    "    print(index)  # the index\n",
    "    print(name[index])  # the letter at this index"
   ]
  },
  {
   "cell_type": "markdown",
   "metadata": {},
   "source": [
    "There are some instances in which we __must__ use this this strategy with strings. Say, for instance that we want to write a function that takes a string and returns the last half of that string to the user. (Without using tools that we haven't learned about yet)."
   ]
  },
  {
   "cell_type": "code",
   "execution_count": 1,
   "metadata": {},
   "outputs": [
    {
     "name": "stdout",
     "output_type": "stream",
     "text": [
      "mbi\n",
      "lan\n"
     ]
    }
   ],
   "source": [
    "# this for loop uses something called the accumulator pattern\n",
    "# we go into detail with this pattern in the next set of notes!\n",
    "def last_half(word):\n",
    "    new_word = \"\"\n",
    "    for num in range(len(word) // 2, len(word)):\n",
    "        new_word += word[num]\n",
    "    return new_word\n",
    "\n",
    "print(last_half(\"bambi\"))\n",
    "print(last_half(\"mulan\"))"
   ]
  },
  {
   "cell_type": "code",
   "execution_count": null,
   "metadata": {},
   "outputs": [],
   "source": []
  }
 ],
 "metadata": {
  "kernelspec": {
   "display_name": "Python 3",
   "language": "python",
   "name": "python3"
  },
  "language_info": {
   "codemirror_mode": {
    "name": "ipython",
    "version": 3
   },
   "file_extension": ".py",
   "mimetype": "text/x-python",
   "name": "python",
   "nbconvert_exporter": "python",
   "pygments_lexer": "ipython3",
   "version": "3.6.5"
  }
 },
 "nbformat": 4,
 "nbformat_minor": 2
}
