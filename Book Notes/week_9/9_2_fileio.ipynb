{
 "cells": [
  {
   "cell_type": "markdown",
   "metadata": {},
   "source": [
    "File input/output (i/o)\n",
    "=============\n",
    "\n",
    "It is frequently the case that we want to be able to interact with files programmatically. This is where file i/o comes in.\n",
    "\n",
    "__input__: The file *being read/processed* by the program.  \n",
    "__output__: The file that the program *produces*.\n",
    "\n",
    "In python, we'll use the [`open()` function](https://docs.python.org/3/library/functions.html#open) to interact with files:\n",
    "\n",
    "```python\n",
    "\n",
    "file_obj = open(filename, mode)\n",
    "# do things with the file_obj\n",
    "file_obj.close()  # always close any files that you've opened!\n",
    "\n",
    "```\n",
    "\n",
    "The parameters and return value are as follows:\n",
    "- `filename` : a string indicating the location of the file\n",
    "- `mode` : a string indicating what we want to do with this file (the three modes we care about for this class are listed below)\n",
    "    - \"w\" : write\n",
    "    - \"r\" : read\n",
    "    - \"a\" : append\n",
    "- `file_obj` : the return value of this function is an object called a \"TextIOWrapper\" -- we'll refer to this as our \"file object\". See [notes 9.1](9_1_using_objects_part1) for more information on objects. You can also look [at the python documentation](https://docs.python.org/3/tutorial/inputoutput.html#reading-and-writing-files) for more info on interacting with file objects.\n",
    "\n",
    "Let's look at an example. For all of these examples, you should run them then go look at the contents of the file!"
   ]
  },
  {
   "cell_type": "code",
   "execution_count": 6,
   "metadata": {},
   "outputs": [],
   "source": [
    "# TODO: run me! This cell will create a file \"course_notes_demo.txt\"\n",
    "# that is empty\n",
    "f = open(\"course_notes_demo.txt\", \"w\")\n",
    "f.close()"
   ]
  },
  {
   "cell_type": "markdown",
   "metadata": {},
   "source": [
    "Writing to files\n",
    "----------\n",
    "\n",
    "To write to a file in python, you need to do two things:\n",
    "1. Use the `open(filename, mode)` function in the write mode (\"w\").\n",
    "2. Use the `file.write(text)` function to actually write to the file. This function takes a string parameter to write to the file."
   ]
  },
  {
   "cell_type": "code",
   "execution_count": 7,
   "metadata": {},
   "outputs": [],
   "source": [
    "# TODO: run me! This cell will create a file \"course_notes_demo.txt\"\n",
    "# What is in the file now?\n",
    "f = open(\"course_notes_demo.txt\", \"w\")\n",
    "f.write(\"pineapples\")\n",
    "f.write(\"kiwis\")\n",
    "f.close()"
   ]
  },
  {
   "cell_type": "code",
   "execution_count": 8,
   "metadata": {},
   "outputs": [],
   "source": [
    "# TODO: run me! This cell will create a file \"course_notes_demo.txt\"\n",
    "# What is in the file now?\n",
    "f = open(\"course_notes_demo.txt\", \"w\")\n",
    "f.write(\"mangos\")\n",
    "f.close()"
   ]
  },
  {
   "cell_type": "markdown",
   "metadata": {},
   "source": [
    "Notice two things:\n",
    "1. `file.write(text)` does __not__ include a newline character by default. \n",
    "2. If we open the file again in write mode, we will __overwrite__ the previous contents."
   ]
  },
  {
   "cell_type": "markdown",
   "metadata": {},
   "source": [
    "Appending to files\n",
    "----------\n",
    "\n",
    "To append to a file in python, you need to do two things:\n",
    "1. Use the `open(filename, mode)` function in the append mode (\"a\").\n",
    "2. Use the `file.write(text)` function to actually write to the file. This function takes a string parameter to write to the file.\n",
    "\n",
    "__The difference between write and append is that append will *add* to the end of the file rather than overwriting the contents.__"
   ]
  },
  {
   "cell_type": "code",
   "execution_count": 9,
   "metadata": {},
   "outputs": [],
   "source": [
    "# TODO: run me! This cell will create a file \"course_notes_demo.txt\"\n",
    "# What is in the file now?\n",
    "f = open(\"course_notes_demo.txt\", \"a\")\n",
    "f.write(\"Fruits fruits fruits\\n\")\n",
    "f.close()"
   ]
  },
  {
   "cell_type": "code",
   "execution_count": 10,
   "metadata": {},
   "outputs": [],
   "source": [
    "# TODO: run me! This cell will create a file \"course_notes_demo.txt\"\n",
    "# What is in the file now?\n",
    "f = open(\"course_notes_demo.txt\", \"a\")\n",
    "f.write(\"veggies veggies veggies\\n\")\n",
    "f.close()"
   ]
  },
  {
   "cell_type": "markdown",
   "metadata": {},
   "source": [
    "Reading from files\n",
    "----------\n",
    "\n",
    "To read from a file in python, you need to do one thing, then you have lots of options:\n",
    "1. Use the `open(filename, mode)` function in the append mode (\"r\").\n",
    "\n",
    "There are three ways to read a file's contents that we will cover:\n",
    "1. Use the `file.read()` function.\n",
    "2. Use the `file.readline()` function.\n",
    "3. Use a `for` loop."
   ]
  },
  {
   "cell_type": "code",
   "execution_count": 11,
   "metadata": {},
   "outputs": [
    {
     "name": "stdout",
     "output_type": "stream",
     "text": [
      "mangosFruits fruits fruits\n",
      "veggies veggies veggies\n",
      "\n"
     ]
    }
   ],
   "source": [
    "# TODO: run me! \n",
    "# What happens?\n",
    "f = open(\"course_notes_demo.txt\", \"r\")\n",
    "print(f.read())  # returns the entire contents of a file as one string\n",
    "f.close()"
   ]
  },
  {
   "cell_type": "code",
   "execution_count": 12,
   "metadata": {},
   "outputs": [
    {
     "name": "stdout",
     "output_type": "stream",
     "text": [
      "first:mangosFruits fruits fruits\n",
      "veggies veggies veggies\n",
      "\n",
      "second: \n"
     ]
    }
   ],
   "source": [
    "# TODO: run me! \n",
    "# What happens?\n",
    "f = open(\"course_notes_demo.txt\", \"r\")\n",
    "print(\"first:\" + f.read())  \n",
    "print(\"second: \" + f.read())  # what if we do it again?\n",
    "f.close()"
   ]
  },
  {
   "cell_type": "markdown",
   "metadata": {},
   "source": [
    "Imagine that when we are reading the file, we are advancing a cursor through its contents. Which function we use just determines how far through the file we advance the cursor each time. If we've already read data in, unless we close and re-open the file (or use some different functions that we won't talk about here), we won't be able to read it again.\n",
    "\n",
    "The `file.readline()` function advances our cursor one line at a time."
   ]
  },
  {
   "cell_type": "code",
   "execution_count": 13,
   "metadata": {},
   "outputs": [
    {
     "name": "stdout",
     "output_type": "stream",
     "text": [
      "mangosFruits fruits fruits\n",
      "\n",
      "veggies veggies veggies\n",
      "\n"
     ]
    }
   ],
   "source": [
    "# TODO: run me!\n",
    "# What happens?\n",
    "f = open(\"course_notes_demo.txt\", \"r\")\n",
    "print(f.readline())  # returns the first line\n",
    "print(f.readline())  # returns the second line\n",
    "f.close()"
   ]
  },
  {
   "cell_type": "code",
   "execution_count": 14,
   "metadata": {},
   "outputs": [
    {
     "name": "stdout",
     "output_type": "stream",
     "text": [
      "mangosFruits fruits fruits\n",
      "\n",
      "veggies veggies veggies\n",
      "\n",
      "\n",
      "\n",
      "\n",
      "\n",
      "\n",
      "\n",
      "\n",
      "\n"
     ]
    }
   ],
   "source": [
    "# TODO: run me! \n",
    "# What happens if you try to readline when you've \n",
    "# already reached the end of the file?\n",
    "f = open(\"course_notes_demo.txt\", \"r\")\n",
    "print(f.readline())\n",
    "print(f.readline())\n",
    "print(f.readline())\n",
    "print(f.readline())\n",
    "print(f.readline())\n",
    "print(f.readline())\n",
    "print(f.readline())\n",
    "print(f.readline())\n",
    "print(f.readline())\n",
    "print(f.readline())\n",
    "f.close()"
   ]
  },
  {
   "cell_type": "code",
   "execution_count": 15,
   "metadata": {},
   "outputs": [
    {
     "name": "stdout",
     "output_type": "stream",
     "text": [
      "mangosFruits fruits fruits\n",
      "\n",
      "veggies veggies veggies\n",
      "\n"
     ]
    }
   ],
   "source": [
    "# TODO: run me! This is the last way we'll cover in this notebook\n",
    "# to read the contents of a file\n",
    "f = open(\"course_notes_demo.txt\", \"r\")\n",
    "for line in f:\n",
    "    # imagine that at the beginning of this list there is code\n",
    "    # that says\n",
    "    # line = f.readline()\n",
    "    print(line)\n",
    "f.close()"
   ]
  },
  {
   "cell_type": "code",
   "execution_count": 16,
   "metadata": {},
   "outputs": [
    {
     "name": "stdout",
     "output_type": "stream",
     "text": [
      "veggies veggies veggies\n",
      "\n"
     ]
    }
   ],
   "source": [
    "# TODO: run me! What happens if we uncomment the line = f.readline()?\n",
    "f = open(\"course_notes_demo.txt\", \"r\")\n",
    "for line in f:\n",
    "    line = f.readline()\n",
    "    print(line)\n",
    "f.close()"
   ]
  },
  {
   "cell_type": "code",
   "execution_count": 17,
   "metadata": {},
   "outputs": [
    {
     "ename": "FileNotFoundError",
     "evalue": "[Errno 2] No such file or directory: 'doesntexist.txt'",
     "output_type": "error",
     "traceback": [
      "\u001b[1;31m---------------------------------------------------------------------------\u001b[0m",
      "\u001b[1;31mFileNotFoundError\u001b[0m                         Traceback (most recent call last)",
      "\u001b[1;32m<ipython-input-17-da42c77e8240>\u001b[0m in \u001b[0;36m<module>\u001b[1;34m()\u001b[0m\n\u001b[0;32m      1\u001b[0m \u001b[1;31m# TODO: run me!\u001b[0m\u001b[1;33m\u001b[0m\u001b[1;33m\u001b[0m\u001b[0m\n\u001b[0;32m      2\u001b[0m \u001b[1;31m# What happens if the file that we try to open doesn't exist?\u001b[0m\u001b[1;33m\u001b[0m\u001b[1;33m\u001b[0m\u001b[0m\n\u001b[1;32m----> 3\u001b[1;33m \u001b[0mf\u001b[0m \u001b[1;33m=\u001b[0m \u001b[0mopen\u001b[0m\u001b[1;33m(\u001b[0m\u001b[1;34m\"doesntexist.txt\"\u001b[0m\u001b[1;33m,\u001b[0m \u001b[1;34m\"r\"\u001b[0m\u001b[1;33m)\u001b[0m\u001b[1;33m\u001b[0m\u001b[0m\n\u001b[0m\u001b[0;32m      4\u001b[0m \u001b[0mf\u001b[0m\u001b[1;33m.\u001b[0m\u001b[0mclose\u001b[0m\u001b[1;33m(\u001b[0m\u001b[1;33m)\u001b[0m\u001b[1;33m\u001b[0m\u001b[0m\n",
      "\u001b[1;31mFileNotFoundError\u001b[0m: [Errno 2] No such file or directory: 'doesntexist.txt'"
     ]
    }
   ],
   "source": [
    "# TODO: run me!\n",
    "# What happens if the file that we try to open doesn't exist?\n",
    "f = open(\"doesntexist.txt\", \"r\")\n",
    "f.close()"
   ]
  },
  {
   "cell_type": "code",
   "execution_count": null,
   "metadata": {},
   "outputs": [],
   "source": []
  },
  {
   "cell_type": "code",
   "execution_count": null,
   "metadata": {},
   "outputs": [],
   "source": []
  }
 ],
 "metadata": {
  "kernelspec": {
   "display_name": "Python 3",
   "language": "python",
   "name": "python3"
  },
  "language_info": {
   "codemirror_mode": {
    "name": "ipython",
    "version": 3
   },
   "file_extension": ".py",
   "mimetype": "text/x-python",
   "name": "python",
   "nbconvert_exporter": "python",
   "pygments_lexer": "ipython3",
   "version": "3.6.5"
  }
 },
 "nbformat": 4,
 "nbformat_minor": 2
}
