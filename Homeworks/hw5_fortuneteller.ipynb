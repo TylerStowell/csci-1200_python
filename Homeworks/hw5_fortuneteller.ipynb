{
 "cells": [
  {
   "cell_type": "code",
   "execution_count": 1,
   "metadata": {},
   "outputs": [],
   "source": [
    "# TODO: delete this comment and replace it with the header comment\n",
    "# that includes your name: Tyler Stowell \n",
    "# section: 008\n",
    "# hw5_fortuneteller\n",
    "# description: In this program we are asking the user for information about the day of the month and then based on that\n",
    "# the program asks the user more information and uses that to print out different fortunes based on info of their lines\n",
    "# on their hand."
   ]
  },
  {
   "cell_type": "markdown",
   "metadata": {},
   "source": [
    "Madame Maxine's Fortune Palace\n",
    "-------------------------\n",
    "\n"
   ]
  },
  {
   "cell_type": "code",
   "execution_count": 2,
   "metadata": {},
   "outputs": [],
   "source": [
    "# this function prints the introduction to the user. There are not parameters or returns.\n",
    "def introduction():\n",
    "    print(\"Welcome to Madame Maxine's Fortune palace.\\nHere, we gase deeply into your soul and find the\\nsecrets that only destiny has heretofore known!\")\n",
    "    print(\" \")\n",
    "    print(\"The power of my inner eye clouds my ability to keep\\ntrack of mundane things like the date.\")"
   ]
  },
  {
   "cell_type": "code",
   "execution_count": 3,
   "metadata": {},
   "outputs": [],
   "source": [
    "# This function asks the user for what day of the month it is.\n",
    "# Parameters: day - int\n",
    "# Return: int - current day of the month\n",
    "def get_question_answer_int(day):\n",
    "    print(\" \")\n",
    "    day += int(input(\"Tell me, what day of the month is it today: \"))\n",
    "    return day"
   ]
  },
  {
   "cell_type": "code",
   "execution_count": 4,
   "metadata": {},
   "outputs": [],
   "source": [
    "# This function asks the user if they like sea turtles or not.\n",
    "# Parameters: none\n",
    "# Return: boolian - true if they answer yes and false if they answer anything besides yes \n",
    "def like_sea_turtles():\n",
    "    answer = input(\"Do you like Sea Turtles? (yes/no): \")\n",
    "    if answer in ('yes','YES','Yes','yEs','yeS','YEs','yES','YeS'):\n",
    "        return True\n",
    "    else:\n",
    "        return False\n"
   ]
  },
  {
   "cell_type": "code",
   "execution_count": 5,
   "metadata": {},
   "outputs": [],
   "source": [
    "# This function takes the boolian answer of the likes function and prints one fortune if their answer was yes\n",
    "# or a different fortune if they answered no.\n",
    "# Parameters: answer_turtles - boolian from likes function\n",
    "def read_lifeline(answer_turtles):\n",
    "    if answer_turtles == True:\n",
    "        print(\"\")\n",
    "        print(\"You have a long, deep life line. You have strong vitality.\")\n",
    "    elif answer_turtles == False:\n",
    "        print(\"\")\n",
    "        print(\"Your life line is forked and branching. You have plenty of energy.\")\n",
    "    "
   ]
  },
  {
   "cell_type": "code",
   "execution_count": 6,
   "metadata": {},
   "outputs": [],
   "source": [
    "# This function takes the day of the month and the number of people the user talked to that day to read their heartline\n",
    "# Parameters: day - int of the day it is, talked_to - int of the number of people the user talked to today\n",
    "# Return: prints the different fortunes \n",
    "def read_heartline(day,talked_to):\n",
    "    difference = day - talked_to\n",
    "    if difference == 0:\n",
    "        print(\"\")\n",
    "        print(\"Your heartline is the perfect example of long. You expres feelings and emotions freely.\")\n",
    "    elif difference < (-10) or difference > 10:\n",
    "        print(\"\")\n",
    "        print(\"You have a faint heartline. You have emotional trauma.\")\n",
    "    else:\n",
    "        print(\"\")\n",
    "        print(\"The deepness of your heartline will express emotions and feeling.\")\n",
    "    \n",
    "    "
   ]
  },
  {
   "cell_type": "code",
   "execution_count": 7,
   "metadata": {},
   "outputs": [],
   "source": [
    "# This function takes the user's birth day and birth month to read the user's headline\n",
    "# Parameters: birth_month - int user's birth month, birth_day - int user's birth day\n",
    "# Return: prints the fortunes from the combination of birth day and birth month\n",
    "def read_headline(birth_month,birth_day):\n",
    "    if birth_month == 3 and birth_day == 15:\n",
    "        print(\"\")\n",
    "        print(\"I'm afraid the crosses that I see here you make momentous decisions.\")\n",
    "    elif birth_month == birth_day:\n",
    "        print(\"\")\n",
    "        print(\"The deep and wavy line here shows you have a short attention span.\")\n",
    "    elif (birth_month % 2 == 0 and birth_day % 2 == 0) or (birth_month % 2 != 0 and birth_day % 2 != 0):\n",
    "        print(\"\")\n",
    "        print(\"The branched and upwards line here shows you prefer physical achievements over mental ones.\")\n",
    "    else:\n",
    "        print(\"\")\n",
    "        print(\"The branched line here shows you are creative.\")\n",
    "    "
   ]
  },
  {
   "cell_type": "code",
   "execution_count": 8,
   "metadata": {},
   "outputs": [],
   "source": [
    "# This function askes the user if their thumb is straight or bent\n",
    "# Parameters: none\n",
    "# Return: bool - true if thumb is straight, bool - false if thumb is bent\n",
    "def thumb_character():\n",
    "    thumb = input(\"Does your thumb on your dominant hand stick straight up or bend far back? (straight/bend): \")\n",
    "    if thumb == \"straight\":\n",
    "        return True\n",
    "    elif thumb == \"bend\":\n",
    "        return False\n",
    "    \n",
    "# This function takes the user's answer to the question if  their thumb is straight or bent and returns\n",
    "# a different fortune based on their answer\n",
    "# Parameters: thumb_answer - bool value for straight or bent\n",
    "# Return: prints the fortunes for straight or bent thumb   \n",
    "def read_fateline(thumb_answer):\n",
    "    if thumb_answer == True:\n",
    "        print(\"\")\n",
    "        print(\"You have a boring human thumb. Live long puny human.\")\n",
    "    elif thumb_answer == False:\n",
    "        print(\"\")\n",
    "        print(\"You have a special hitch hiker thumb and may be partialy alien. Brush up on your hitch hiker's guide to the galaxy.\")\n",
    "    "
   ]
  },
  {
   "cell_type": "code",
   "execution_count": 13,
   "metadata": {},
   "outputs": [
    {
     "name": "stdout",
     "output_type": "stream",
     "text": [
      "Welcome to Madame Maxine's Fortune palace.\n",
      "Here, we gase deeply into your soul and find the\n",
      "secrets that only destiny has heretofore known!\n",
      " \n",
      "The power of my inner eye clouds my ability to keep\n",
      "track of mundane things like the date.\n",
      " \n",
      "Tell me, what day of them month is it today: 31\n",
      "Does your thumb on your dominant hand stick straight up or bend far back? (straight/bend): straight\n",
      "\n",
      "You have a boring human thumb. Live long puny human.\n",
      "Goodbye.\n"
     ]
    }
   ],
   "source": [
    "# define your main function here\n",
    "def main():\n",
    "    introduction()\n",
    "    day = 0\n",
    "    day = get_question_answer_int(day)\n",
    "    if day == 31:\n",
    "        thumb_answer = thumb_character()\n",
    "        read_fateline(thumb_answer)\n",
    "    elif day <= 9:\n",
    "        answer = like_sea_turtles()\n",
    "        read_lifeline(answer)\n",
    "    elif day >= 10 and day <= 19:\n",
    "        talked_to = int(input(\"How many people have you talked to today? \"))\n",
    "        read_heartline(day,talked_to)\n",
    "    elif day >= 20 and day <= 29:\n",
    "        birth_month = int(input(\"What is your birth month? (1-12): \"))\n",
    "        birth_day = int(input(\"What is your birthday? \"))\n",
    "        read_headline(birth_month, birth_day)\n",
    "    elif day == 30 or day == 31:\n",
    "        print(\"Today is a bad day for fortune telling.\")\n",
    "    print(\"Goodbye.\")\n",
    "    \n",
    "if __name__ == \"__main__\":\n",
    "    main()"
   ]
  },
  {
   "cell_type": "code",
   "execution_count": null,
   "metadata": {},
   "outputs": [],
   "source": []
  }
 ],
 "metadata": {
  "kernelspec": {
   "display_name": "Python 3",
   "language": "python",
   "name": "python3"
  },
  "language_info": {
   "codemirror_mode": {
    "name": "ipython",
    "version": 3
   },
   "file_extension": ".py",
   "mimetype": "text/x-python",
   "name": "python",
   "nbconvert_exporter": "python",
   "pygments_lexer": "ipython3",
   "version": "3.6.5"
  }
 },
 "nbformat": 4,
 "nbformat_minor": 2
}
