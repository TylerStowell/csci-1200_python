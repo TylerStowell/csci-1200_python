{
 "cells": [
  {
   "cell_type": "code",
   "execution_count": 1,
   "metadata": {},
   "outputs": [],
   "source": [
    "#name: Tyler Stowell\n",
    "#section: 104\n",
    "#homework name: Timed Calculator\n",
    "#description: this program completes tasks based on the option picked by the user and completes this in two ways. The first\n",
    "#             is by using the built in functions and the second is by using functions we make with conditionals and for loops.\n",
    "#             Then the program calculates how long it took to complete the two tasks and compairs the times. If the times\n",
    "#             are equal, the program prints out saying they are equal and the value they equal. If not, then it prints that\n",
    "#             they are not equal and prints the two different values of time elapsed."
   ]
  },
  {
   "cell_type": "markdown",
   "metadata": {},
   "source": [
    "Timed Calculator\n",
    "==============="
   ]
  },
  {
   "cell_type": "code",
   "execution_count": 2,
   "metadata": {},
   "outputs": [],
   "source": [
    "# This cell imports the modules we need for this program\n",
    "import time\n",
    "import random\n",
    "import statistics"
   ]
  },
  {
   "cell_type": "code",
   "execution_count": 3,
   "metadata": {},
   "outputs": [],
   "source": [
    "# This function prints the possible options the user can choose to do with their list.\n",
    "# Parameters: none\n",
    "# Return: none\n",
    "def questions():\n",
    "    print(\"Here are your statistics options: \")\n",
    "    print(\"0) Sort the values in the list\")\n",
    "    print(\"1) Length of the list\")\n",
    "    print(\"2) Sum the values in the list\")\n",
    "    print(\"3) Find the minimum of the values in the list\")\n",
    "    print(\"4) Find the maximum of the values in the list\")\n",
    "    print(\"5) Find the mean of the values in the list\")\n",
    "    print(\"6) Find the median of the values in the list\")"
   ]
  },
  {
   "cell_type": "code",
   "execution_count": 4,
   "metadata": {},
   "outputs": [],
   "source": [
    "# This function makes the list of random valuses that the length of the list is determined by the number that the user imputs.\n",
    "# Parameters: values - int for the number of values the user wants the list to have.\n",
    "# Return: ls - list of random values with lengh 'valuse'\n",
    "def make_list(values):\n",
    "    ls = []\n",
    "    for i in range(values):\n",
    "        ls.append(random.randrange(-10,120))\n",
    "    return ls"
   ]
  },
  {
   "cell_type": "code",
   "execution_count": 5,
   "metadata": {},
   "outputs": [],
   "source": [
    "# This function sorts the list or random integers into order from smallest to largest value.\n",
    "# Parameters: k - list of random integers.\n",
    "# Return: k_sorted - the list 'k' in order from smallest value to largest value.\n",
    "def sort_list(k):\n",
    "    k_sorted = sorted(k)\n",
    "    return k_sorted"
   ]
  },
  {
   "cell_type": "code",
   "execution_count": 6,
   "metadata": {},
   "outputs": [],
   "source": [
    "# This function finds the length of the list.\n",
    "# Parameters: k - list of values\n",
    "# Return: lenght - number of values in the list\n",
    "def length(k):\n",
    "    length = 0\n",
    "    for i in k:\n",
    "        length = length + 1\n",
    "    return length"
   ]
  },
  {
   "cell_type": "code",
   "execution_count": 7,
   "metadata": {},
   "outputs": [],
   "source": [
    "# This function  finds the sum of the numbers in the list\n",
    "# Parameters: k - list of values\n",
    "# Return: num - int, sumation of the values in the list\n",
    "def sum_values(k):\n",
    "    num = 0\n",
    "    for i in range(len(k)):\n",
    "        num += k[i]\n",
    "    return num"
   ]
  },
  {
   "cell_type": "code",
   "execution_count": 8,
   "metadata": {},
   "outputs": [],
   "source": [
    "# This function finds the minimum of the lalues in the list\n",
    "# Parameters: k - list of values\n",
    "# Return: mini - minimum value in the list of values\n",
    "def minimum_value(k):\n",
    "    mini = k[0]\n",
    "    for i in k[0:]:\n",
    "        if i < mini:\n",
    "            mini = i\n",
    "        else:\n",
    "            mini = k[0]\n",
    "    return mini"
   ]
  },
  {
   "cell_type": "code",
   "execution_count": 9,
   "metadata": {},
   "outputs": [],
   "source": [
    "# This function finds the maximum value out of the list of values. \n",
    "# Parameters: k - list of values\n",
    "# Return: maxi - int, maximum value of the list of values\n",
    "def maximum(k):\n",
    "    maxi = k[0]\n",
    "    for i in k[0:]:\n",
    "        if i > maxi:\n",
    "            maxi = i\n",
    "        else:\n",
    "            maxi = k[0]\n",
    "    return maxi"
   ]
  },
  {
   "cell_type": "code",
   "execution_count": 10,
   "metadata": {},
   "outputs": [],
   "source": [
    "# This function  finds the mean number in the list of values\n",
    "# Parameters: k - list of values\n",
    "# Return: num - the number of times the greatest occuring number shows up\n",
    "def mean(k):\n",
    "    num = 0\n",
    "    for i in range(len(k)):\n",
    "        num += k[i]\n",
    "    num = num / len(k)\n",
    "    return num"
   ]
  },
  {
   "cell_type": "code",
   "execution_count": 11,
   "metadata": {},
   "outputs": [],
   "source": [
    "# This function finds the median number in the list of values\n",
    "# Parameters: k - list of values\n",
    "# Return: med - int, middle number of the values in the list if the list has an odd number of values and the\n",
    "#         average of the middle two terms if the list has an even number of values\n",
    "def median(k):\n",
    "    k = sorted(k)\n",
    "    mid = len(k)//2\n",
    "    if len(k) % 2:\n",
    "        return k[mid]\n",
    "    else:\n",
    "        med = (k[mid] + k[mid-1]) / 2\n",
    "        return med"
   ]
  },
  {
   "cell_type": "code",
   "execution_count": 18,
   "metadata": {},
   "outputs": [],
   "source": [
    "# This function takes the list that user inputed into the make_list function and the answer to the options and produces\n",
    "#     to deside what action to take. Then it does the coresponding action to the list.\n",
    "# Parameters: k - list of values. answer - int of the option they want to do to the list.\n",
    "# Return: elapsed - the time that it took to complete the desired action.\n",
    "def built_in(k,answer):\n",
    "    start = time.time()\n",
    "    \n",
    "#     questions()\n",
    "#     values = int(input(\"How many values do you want in your list? \"))\n",
    "#     ls = make_list(values)\n",
    "#     answer = int(input(\"Pick an option: \"))\n",
    "    if answer == 0:\n",
    "        k_sorted = sorted(k)\n",
    "    elif answer == 1:\n",
    "        counting = len(k)\n",
    "    elif answer == 2:\n",
    "        sum_values = sum(k)\n",
    "    elif answer == 3:\n",
    "        minimum = min(k)\n",
    "    elif answer == 4:\n",
    "        maximum = max(k)\n",
    "    elif answer == 5:\n",
    "        mean = statistics.mean(k)\n",
    "    elif answer == 6:\n",
    "        median = statistics.median(k)\n",
    "    \n",
    "    end = time.time()\n",
    "    elapsed = end-start\n",
    "    return elapsed\n",
    "    \n",
    "    return answer"
   ]
  },
  {
   "cell_type": "code",
   "execution_count": 22,
   "metadata": {},
   "outputs": [],
   "source": [
    "# This function takes the list that user inputed into the make_list function and the answer to the options and produces\n",
    "#     to deside what action to take. Then it does the coresponding action to the list.\n",
    "# Parameters: k - list of values. answer - int of the option they want to do to the list.\n",
    "# Return: elapsed - the time that it took to complete the desired action.\n",
    "def re_defined(k,answer):\n",
    "    start = time.time()\n",
    "    if answer == 0:\n",
    "        sort_list(k)\n",
    "    elif answer == 1:\n",
    "        length(k)\n",
    "    elif answer == 2:\n",
    "        sum_values(k)\n",
    "    elif answer == 3:\n",
    "        minimum_value(k)\n",
    "    elif answer == 4:\n",
    "        maximum(k)\n",
    "    elif answer == 5:\n",
    "        mean(k)\n",
    "    elif answer == 6:\n",
    "        median(k)\n",
    "    end = time.time()\n",
    "    elapsed = end-start\n",
    "    return elapsed"
   ]
  },
  {
   "cell_type": "code",
   "execution_count": 20,
   "metadata": {},
   "outputs": [],
   "source": [
    "# This function compairs the time it took for the built in functions to complete the task and the time the functions\n",
    "#    I made took to complete the tasks. Then if the t ime is the same, it prints out that the results match. If they don't match\n",
    "#    then it says they don't match and prints the times of each process.\n",
    "# Parameters: v1 - float, time it took the built in functions to complete the task. v2 - float, time it took my functions to \n",
    "#             complete the task.\n",
    "# Return: none\n",
    "def comparison(v1,v2):\n",
    "    if v1 != v2:\n",
    "        print(\"Results don't match!\")\n",
    "        print(\"value 1: \" + str(v1))\n",
    "        print(\"value 2: \" + str(v2))\n",
    "    else:\n",
    "        if type(v1) is list:\n",
    "            print(\"Results match!\")\n",
    "        else:\n",
    "            print(\"Results match!\")\n",
    "            print(\"value: \" + str(v1))"
   ]
  },
  {
   "cell_type": "code",
   "execution_count": 23,
   "metadata": {},
   "outputs": [
    {
     "name": "stdout",
     "output_type": "stream",
     "text": [
      "How many values do you want in your list? 4\n",
      "\n",
      "Here are your statistics options: \n",
      "0) Sort the values in the list\n",
      "1) Length of the list\n",
      "2) Sum the values in the list\n",
      "3) Find the minimum of the values in the list\n",
      "4) Find the maximum of the values in the list\n",
      "5) Find the mean of the values in the list\n",
      "6) Find the median of the values in the list\n",
      "\n",
      "Pick an option: 2\n",
      "\n",
      "Built-in functions timing\n",
      "Time elapsed (seconds): 0.0\n",
      "\n",
      "Re-implemented functions timing\n",
      "Time elapsed (seconds): 0.0\n",
      "\n",
      "Results match!\n",
      "value: 0.0\n"
     ]
    }
   ],
   "source": [
    "# This function is the main function where I define the value and answer. Then I call all of the functions needed to do\n",
    "#     the calculations and print what's needed\n",
    "# Parameters: none\n",
    "# Return: none\n",
    "def main():\n",
    "    values = int(input(\"How many values do you want in your list? \"))\n",
    "    print(\"\")\n",
    "    \n",
    "    questions()\n",
    "    k = make_list(values)\n",
    "    print(\"\")\n",
    "    \n",
    "    answer = int(input(\"Pick an option: \"))\n",
    "    print(\"\")\n",
    "    \n",
    "    v1 = str(built_in(k,answer))\n",
    "    v2 = str(re_defined(k,answer))\n",
    "    print(\"Built-in functions timing\")\n",
    "    print(\"Time elapsed (seconds): \" + v1)\n",
    "    print(\"\")\n",
    "    print(\"Re-implemented functions timing\")\n",
    "    print(\"Time elapsed (seconds): \" + v2)\n",
    "    print(\"\")\n",
    "    comparison(v1,v2)\n",
    "        \n",
    "if __name__ == \"__main__\":\n",
    "    main()"
   ]
  },
  {
   "cell_type": "markdown",
   "metadata": {},
   "source": [
    "STOP\n",
    "========\n",
    "Before turning this notebook in: click \"Kernel\", then click \"Restart & Run all\". You should not produce any errors.\n",
    "\n",
    "Make sure you have renamed this notebook according to the homework write-up!"
   ]
  },
  {
   "cell_type": "code",
   "execution_count": null,
   "metadata": {},
   "outputs": [],
   "source": []
  }
 ],
 "metadata": {
  "kernelspec": {
   "display_name": "Python 3",
   "language": "python",
   "name": "python3"
  },
  "language_info": {
   "codemirror_mode": {
    "name": "ipython",
    "version": 3
   },
   "file_extension": ".py",
   "mimetype": "text/x-python",
   "name": "python",
   "nbconvert_exporter": "python",
   "pygments_lexer": "ipython3",
   "version": "3.6.5"
  }
 },
 "nbformat": 4,
 "nbformat_minor": 2
}
