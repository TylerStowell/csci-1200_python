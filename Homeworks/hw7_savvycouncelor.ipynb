{
 "cells": [
  {
   "cell_type": "code",
   "execution_count": 1,
   "metadata": {},
   "outputs": [],
   "source": [
    "# Name: Tyler Stowell\n",
    "# Section: 104\n",
    "# Homework name: savvycouncelor\n",
    "# Description: In this program, we take the info from a .csv file and process the info to print on a .txt file thee student's\n",
    "#              name and grades for their classes they are concerned about or in trouble with. If they are fine their name doesn't\n",
    "#              turn up on the report. Individual classes the student is fine in is not reported either."
   ]
  },
  {
   "cell_type": "markdown",
   "metadata": {},
   "source": [
    "Savvy School Counselor\n",
    "==============="
   ]
  },
  {
   "cell_type": "code",
   "execution_count": 2,
   "metadata": {},
   "outputs": [],
   "source": [
    "# This function takes the user's imput for what file they want to read from.\n",
    "# Parameters: none\n",
    "# Return: imput_file - the file that you are reading from.\n",
    "def imput_file():\n",
    "    imput_file = input(\"Input file name: \")\n",
    "    return imput_file"
   ]
  },
  {
   "cell_type": "code",
   "execution_count": 3,
   "metadata": {},
   "outputs": [],
   "source": [
    "# This function takes the user's imput for what file they want to write to.\n",
    "# Parameters: none\n",
    "# Return: output_file - the file that you are writing to.\n",
    "def output_file():\n",
    "    output_file = input(\"Output file name: \")\n",
    "    return output_file"
   ]
  },
  {
   "cell_type": "code",
   "execution_count": 4,
   "metadata": {},
   "outputs": [],
   "source": [
    "# This function takes the user's imput for the objective grade they want to test the grades against.\n",
    "# Parameters: none\n",
    "# Return: objective_grade - int for the grade they will compair the other grades to.\n",
    "def objective_grade():\n",
    "    objective_grade = input(\"Objective grade: \")\n",
    "    return objective_grade"
   ]
  },
  {
   "cell_type": "code",
   "execution_count": 5,
   "metadata": {},
   "outputs": [],
   "source": [
    "# This function is my biggest where I incorperate opening my read file and my report file to get the data in and print out\n",
    "# on the report file. The function opend the read file and reads the lines. From there, I loop throught each line and have\n",
    "# a nested loop in that loops to then loop throught the words in each line. Then I use a if and elif to see if the student's\n",
    "# grade is concerning ot troubled and that determins what to print. Then I take the list values of the words and numbers\n",
    "# to put it in to my writing function and write what is needed.\n",
    "# Parameters:file_name - file that I read from. output_file - file that I write to.\n",
    "# Return: none. returns ecerything on the .txt file.\n",
    "def file_to_list(file_name, output_file):\n",
    "    file = open(file_name,\"r\")\n",
    "    write_file = open(output_file, \"w\")\n",
    "    objective = int(objective_grade())\n",
    "    header = file.readline().strip().split(\",\")\n",
    "    \n",
    "    write_file.write(\"Objective grade: \" + str(objective) + \"\\n\\n\")\n",
    "\n",
    "        \n",
    "    for headers in file:\n",
    "        split = headers.strip().split(\",\")\n",
    "        write_file.write(split[1] + \" \" + split[0] + \": \\n\")\n",
    "        for i in range(2,len(split)):\n",
    "\n",
    "            \n",
    "            if(int(split[i])-objective) <= 3 and (int(split[i])-objective) > 0:\n",
    "                write_file.write(\"\\t\"+ \"Concerning: \" + \"\\n\")\n",
    "                write_file.write(\"\\t\\t\"+ header[i] + \" -- Current: \" + split[i] + \"\\n\")\n",
    "                \n",
    "                                 \n",
    "            elif int(split[i]) <= objective:\n",
    "                write_file.write(\"\\t\"+ \"Trouble: \" + \"\\n\")\n",
    "                write_file.write(\"\\t\\t\"+ header[i] + \" -- Current: \" + split[i] + \"\\n\\n\")\n",
    "                \n",
    "    file.close()\n",
    "    write_file.close()"
   ]
  },
  {
   "cell_type": "code",
   "execution_count": 6,
   "metadata": {},
   "outputs": [],
   "source": [
    "def space():\n",
    "    space = print(\"\")\n",
    "    return space"
   ]
  },
  {
   "cell_type": "code",
   "execution_count": 7,
   "metadata": {},
   "outputs": [
    {
     "name": "stdout",
     "output_type": "stream",
     "text": [
      "Input file name: students_tiny.csv\n",
      "Output file name: report_tiny.txt\n",
      "Objective grade: 80\n"
     ]
    }
   ],
   "source": [
    "# This function is my main function and I call my other functions from here.\n",
    "def main():\n",
    "    file_name = imput_file()\n",
    "    write_file = output_file()  \n",
    "    file_to_list(file_name,write_file)\n",
    "\n",
    "if __name__ == \"__main__\":\n",
    "    main()"
   ]
  },
  {
   "cell_type": "code",
   "execution_count": 8,
   "metadata": {},
   "outputs": [],
   "source": [
    "# # here is some difference checking code that we are providing to you\n",
    "# # so that you can check to see the differences between your file and the one that\n",
    "# # we provided\n",
    "\n",
    "# import subprocess\n",
    "\n",
    "# file1 = \"report_tiny.txt\"  # our provided answer file (edit this to test against different files)\n",
    "# file2 = \"report.txt\"   # the report that you just produced\n",
    "\n",
    "# diffed = subprocess.run([\"diff\", file1, file2], stdout=subprocess.PIPE)\n",
    "# print(diffed.stdout.decode(\"utf-8\"))\n",
    "\n",
    "# # No output means that you match\n",
    "\n",
    "# # lines that start with \">\" indicate text in file2 that isn't in file1\n",
    "# # lines that start with \"<\" indicate text in file1 that isn't in file2"
   ]
  },
  {
   "cell_type": "markdown",
   "metadata": {},
   "source": [
    "STOP\n",
    "========\n",
    "Before turning this notebook in: click \"Kernel\", then click \"Restart & Run all\". You should not produce any errors.\n",
    "\n",
    "Make sure you have renamed this notebook according to the homework write-up!"
   ]
  }
 ],
 "metadata": {
  "kernelspec": {
   "display_name": "Python 3",
   "language": "python",
   "name": "python3"
  },
  "language_info": {
   "codemirror_mode": {
    "name": "ipython",
    "version": 3
   },
   "file_extension": ".py",
   "mimetype": "text/x-python",
   "name": "python",
   "nbconvert_exporter": "python",
   "pygments_lexer": "ipython3",
   "version": "3.6.5"
  }
 },
 "nbformat": 4,
 "nbformat_minor": 2
}
