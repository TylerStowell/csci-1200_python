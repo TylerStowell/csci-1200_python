{
 "cells": [
  {
   "cell_type": "code",
   "execution_count": 1,
   "metadata": {},
   "outputs": [],
   "source": [
    "# Name: Tyler Stowell\n",
    "# Section: 104\n",
    "# Homework: Functions\n",
    "# Description: in the first part, we are making pseudocode to show we can understand the steps that a code \n",
    "#              would fallow to get to a result even if we don't know the code required to do it.\n",
    "#              In the second part, we demonstrate the use of the functions; len(), abs(), round(), bool(),lower(), and range()."
   ]
  },
  {
   "cell_type": "markdown",
   "metadata": {},
   "source": [
    "Part 1: Pseudocode\n",
    "--------\n",
    "\n",
    "Complete part 1 on paper or electronically, then turn it in as a pdf on moodle."
   ]
  },
  {
   "cell_type": "markdown",
   "metadata": {},
   "source": [
    "Part 2: Using Functions\n",
    "--------\n",
    "You do not need to define your own functions for this part of the homework."
   ]
  },
  {
   "cell_type": "markdown",
   "metadata": {},
   "source": [
    "1. Give an example usage of each of the following functions: ```len()```, ```abs()```, ```round()```, ```bool()```,  ```lower()```, and ```range()```. Valid examples must do all of the following: \n",
    "    1. Run\n",
    "    2. Use the function with correct arguments\n",
    "    3. Save any return values in a variable\n",
    "    4. Print out the return value\n",
    "    5. Include a comment describing what this function does. \n",
    "\n",
    "Consult the [python documentation](https://docs.python.org/3/library/functions.html) and course notes section 3.2 for information about how functions work and how to read documentation. Some of these functions may return types that we haven’t worked with yet—that’s okay, the goal of this exercise is exploration!\n",
    "\n",
    "You should have at minimum 2 - 3 lines of code and 1 comment for each example."
   ]
  },
  {
   "cell_type": "code",
   "execution_count": 2,
   "metadata": {},
   "outputs": [
    {
     "name": "stdout",
     "output_type": "stream",
     "text": [
      "5\n"
     ]
    }
   ],
   "source": [
    "# len()\n",
    "len_word= len(\"hello\")\n",
    "print(len_word)\n",
    "# prints the number of characters in the word. Prints this out as a integer."
   ]
  },
  {
   "cell_type": "code",
   "execution_count": 3,
   "metadata": {},
   "outputs": [
    {
     "name": "stdout",
     "output_type": "stream",
     "text": [
      "102\n"
     ]
    }
   ],
   "source": [
    "# abs()\n",
    "absolute = abs(-34*3)\n",
    "print(absolute)\n",
    "# this function takes the absolute value of the number produced. this number would produce a negative number\n",
    "# but the abs() fxn. makes it an even number."
   ]
  },
  {
   "cell_type": "code",
   "execution_count": 4,
   "metadata": {},
   "outputs": [
    {
     "name": "stdout",
     "output_type": "stream",
     "text": [
      "3.1415\n"
     ]
    }
   ],
   "source": [
    "# round()\n",
    "number1 = 3.141529\n",
    "rounded_number1 =round(number1, 4)\n",
    "print(rounded_number1)\n",
    "# this function produces a number to the number of didgets you determing by the number after the comma.\n",
    "# The last number is rounded up if needed."
   ]
  },
  {
   "cell_type": "code",
   "execution_count": 5,
   "metadata": {},
   "outputs": [
    {
     "name": "stdout",
     "output_type": "stream",
     "text": [
      "True\n"
     ]
    }
   ],
   "source": [
    "# bool()\n",
    "boolean_number = bool(34532)\n",
    "print(boolean_number)\n",
    "# this function produces either a true or a false value."
   ]
  },
  {
   "cell_type": "code",
   "execution_count": 6,
   "metadata": {},
   "outputs": [
    {
     "name": "stdout",
     "output_type": "stream",
     "text": [
      "i am a string!\n"
     ]
    }
   ],
   "source": [
    "# lower() [this is a string function!]\n",
    "my_string = \"I am a string!\"\n",
    "result = my_string.lower()\n",
    "print(result)\n",
    "# this function takes the characters of the string represented and prints out the characters in all lower case.\n",
    "# even if the original character is an upper case."
   ]
  },
  {
   "cell_type": "code",
   "execution_count": 7,
   "metadata": {},
   "outputs": [
    {
     "name": "stdout",
     "output_type": "stream",
     "text": [
      "range(0, 450583756)\n"
     ]
    }
   ],
   "source": [
    "# range()\n",
    "number2 = 450583756\n",
    "range_number2 = range(number2)\n",
    "print(range_number2)\n",
    "# this function produces two values that are both the upper and lowe limit of the number."
   ]
  },
  {
   "cell_type": "markdown",
   "metadata": {},
   "source": [
    "2. Write a program the prompts the user for their height in inches, converts that amount to centimeters, and reports back the user’s height in both centimeters and meters. Use the ```round()``` function to round your answers to two decimal places. ```1 inch = 2.54 centimeters```; ```1 meter = 100 centimeters```.        \n",
    "Please check the write-up for examples of output and remember to check your code with different input!"
   ]
  },
  {
   "cell_type": "code",
   "execution_count": 8,
   "metadata": {},
   "outputs": [
    {
     "name": "stdout",
     "output_type": "stream",
     "text": [
      "Whayt is your height? (inches) 50\n",
      "Your height in cm is 123\n",
      "Your height in meters is 1\n"
     ]
    }
   ],
   "source": [
    "height_inches = input(\"Whayt is your height? (inches) \")\n",
    "height_inches = float(height_inches)\n",
    "height_cm = round(height_inches * 2.45)\n",
    "height_meters = round(height_cm / 100)\n",
    "height_cm = str(height_cm)\n",
    "height_meters = str(height_meters)\n",
    "print(\"Your height in cm is \"+ height_cm)\n",
    "print(\"Your height in meters is \"+ height_meters)"
   ]
  },
  {
   "cell_type": "markdown",
   "metadata": {},
   "source": [
    "3. Write a program that helps the user write convery their VERY STRONG EMOTIONS. This program will first ask the user who they are sending the letter to, then will ask the user for a greeting, then for the body of the letter, then ask the user for how they would like to sign the letter. The program will then print out the completed letter. When it is printed, the body of the letter should BE CONVERTED TO UPPER CASE BECAUSE THE USER HAS MANY EMOTIONS.      \n",
    "Please check the write-up for examples of output and remember to check your code with different input!"
   ]
  },
  {
   "cell_type": "code",
   "execution_count": 9,
   "metadata": {},
   "outputs": [
    {
     "name": "stdout",
     "output_type": "stream",
     "text": [
      "Who are you writing to? tod\n",
      "What greeting would you like to say? hi\n",
      "What would you like to say to them? awesome\n",
      "How would you like to sign the letter? Tyler\n",
      "\n",
      "Your letter:\n",
      "Dear,tod\n",
      "\n",
      "hi\n",
      "False\n",
      "\n",
      "VR,Tyler\n"
     ]
    }
   ],
   "source": [
    "Who = input(\"Who are you writing to? \")\n",
    "greeting = input(\"What greeting would you like to say? \")\n",
    "body = input(\"What would you like to say to them? \")\n",
    "sign =input(\"How would you like to sign the letter? \")\n",
    "body = body.isupper()\n",
    "print()\n",
    "print(\"Your letter:\")\n",
    "print(\"Dear,\" + Who)\n",
    "print()\n",
    "print(greeting)\n",
    "print(body)\n",
    "print()\n",
    "print(\"VR,\" + sign)"
   ]
  },
  {
   "cell_type": "markdown",
   "metadata": {},
   "source": [
    "4. Write a program that calculates the maximum occupancy of a room, given its length and width as reported by the user. We will use the following formula to calculate maximum occupancy: ```# of people = area of the room / 20``` ([links](https://idighardware.com/2014/07/decoded-calculating-the-occupant-load/) to documents describing occupancy load [for the curious](http://academics.triton.edu/faculty/fheitzman/occupant%20load%20table%20from%20IBC.pdf)). Make sure that your reported occupancy does not include any partial people! (Hint: the modulus operator will help you here.)  \n",
    "Please check the write-up for examples of output and remember to check your code with different input!"
   ]
  },
  {
   "cell_type": "code",
   "execution_count": 10,
   "metadata": {},
   "outputs": [
    {
     "name": "stdout",
     "output_type": "stream",
     "text": [
      "length of room? (ft)40\n",
      "What is the width of the room? (ft)20\n",
      "40\n"
     ]
    }
   ],
   "source": [
    "length =input(\"length of room? (ft)\")\n",
    "width = input(\"What is the width of the room? (ft)\")\n",
    "length = int(length)\n",
    "width = int(width)\n",
    "a = length * width\n",
    "b = 20\n",
    "occupancy = (a%b-a)/(-b)\n",
    "occupancy = int(occupancy)\n",
    "print(occupancy)"
   ]
  },
  {
   "cell_type": "markdown",
   "metadata": {},
   "source": [
    "Bonus:\n",
    "-----------\n",
    "1. Write a function, `biggest_digits`, that takes an int, `target`, and an int, `n`, and prints out the `n` left-most digits in `target`.\n",
    "\n",
    "2. Write a function, `initials`, that takes three strings, `first`, `middle`, and `last` and prints out this person’s initials, in uppercase with periods between them. You will need to look at [string indexing](https://runestone.csel.io/thinkcspy1200/Strings/IndexOperatorWorkingwiththeCharactersofaString.html) to complete this task.\n",
    "\n",
    "For both functions, you must also demonstrate at least 2 valid calls to these functions."
   ]
  },
  {
   "cell_type": "code",
   "execution_count": 11,
   "metadata": {},
   "outputs": [
    {
     "name": "stdout",
     "output_type": "stream",
     "text": [
      "Inter a number: 472457\n",
      "4\n"
     ]
    }
   ],
   "source": [
    "def biggest_digits():\n",
    "    target = input(\"Inter a number: \")\n",
    "    n = target[0]\n",
    "    print(n)\n",
    "biggest_digits()"
   ]
  },
  {
   "cell_type": "code",
   "execution_count": null,
   "metadata": {},
   "outputs": [],
   "source": []
  },
  {
   "cell_type": "code",
   "execution_count": null,
   "metadata": {},
   "outputs": [],
   "source": []
  },
  {
   "cell_type": "markdown",
   "metadata": {},
   "source": [
    "STOP\n",
    "========\n",
    "Before turning this notebook in: click \"Kernel\", then click \"Restart & Run all\". You should not produce any errors.\n",
    "\n",
    "Make sure you have renamed this notebook according to the homework write-up!"
   ]
  },
  {
   "cell_type": "code",
   "execution_count": null,
   "metadata": {},
   "outputs": [],
   "source": []
  }
 ],
 "metadata": {
  "kernelspec": {
   "display_name": "Python 3",
   "language": "python",
   "name": "python3"
  },
  "language_info": {
   "codemirror_mode": {
    "name": "ipython",
    "version": 3
   },
   "file_extension": ".py",
   "mimetype": "text/x-python",
   "name": "python",
   "nbconvert_exporter": "python",
   "pygments_lexer": "ipython3",
   "version": "3.6.5"
  }
 },
 "nbformat": 4,
 "nbformat_minor": 2
}
