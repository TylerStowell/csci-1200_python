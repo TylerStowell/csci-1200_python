{
 "cells": [
  {
   "cell_type": "code",
   "execution_count": null,
   "metadata": {},
   "outputs": [],
   "source": [
    "# TODO: delete this comment and replace it with the header comment\n",
    "# name: Tyler Stowell\n",
    "# section:104\n",
    "# hw3_Recepies\n",
    "# Dscription: In this homework we are writing a program to scale up the recepie\n",
    "#             for making cupcakes based on the number of people you are making them for. "
   ]
  },
  {
   "cell_type": "markdown",
   "metadata": {},
   "source": [
    "Baking Bonanza!\n",
    "--------\n",
    "Remember that you __must have__ 2 functions that are not your main functions that use __both__ parameters and a return value!\n",
    "\n",
    "See the write-up for hints about what these functions might do.\n",
    "\n",
    "Remember that you __must__ comment your code to receive full credit."
   ]
  },
  {
   "cell_type": "code",
   "execution_count": null,
   "metadata": {},
   "outputs": [],
   "source": [
    "# Use the cells up here to define the other functions that you will use"
   ]
  },
  {
   "cell_type": "code",
   "execution_count": 2,
   "metadata": {},
   "outputs": [
    {
     "name": "stdout",
     "output_type": "stream",
     "text": [
      "How many cupcakes do you want to make? 1\n",
      "8.33 grams flour\n",
      "8.33 grams sugar\n",
      "8.33 grams butter\n",
      "0.17  eggs\n",
      "0.08 teaspoons vanilla\n",
      "0.08 teaspoons baking powder\n",
      " \n",
      "Now in cups!\n",
      "0.07 cups flour\n",
      "0.04 cups sugar\n",
      "0.03 cups butter\n",
      "0.17 eggs\n",
      "0.08 teaspoons vanilla\n",
      "0.08 teaspoons baking powder\n"
     ]
    }
   ],
   "source": [
    "# Flour, sugar, and butter have the same equation needed to scale up the recepie so I made this\n",
    "# function to do this equation for both instead of having three functions for them seperatly.\n",
    "def flour_sugar_butter(people):\n",
    "    ingredients = float((100/12) * people)\n",
    "    return str(round(ingredients,2))\n",
    "\n",
    "# eggs needs it's own function to scale up the recepie for how many cupcakes desired so I made it\n",
    "# have it's own function.\n",
    "def eggs(people):\n",
    "    eggs = float((2/12) * people)\n",
    "    return str(round(eggs,2))\n",
    "\n",
    "# Vanilla and baking powder have the same equation needed to scale up the recepie so I made this\n",
    "# function to do this equation for both instead of having two functions for them seperatly.\n",
    "def vanilla_baking_powder(people):\n",
    "    last_ingredients = float(people/12)\n",
    "    return str(round(last_ingredients, 2))\n",
    "\n",
    "# I use these two parameters to convert the grams of flour, sugar, and butter into cups of each.\n",
    "def conversion(number, conversion_factor):\n",
    "    converted_cups = float(number/conversion_factor) \n",
    "    return str(round(converted_cups,2))\n",
    "\n",
    "# This is my main function where I have the user input how many cupcakes they want to make, call on\n",
    "# the functions I made above and print out the results to the user.\n",
    "def main():\n",
    "    people = float(input(\"How many cupcakes do you want to make? \"))\n",
    "    print(flour_sugar_butter(people) + \" grams flour\")\n",
    "    print(flour_sugar_butter(people) + \" grams sugar\")\n",
    "    print(flour_sugar_butter(people) + \" grams butter\")\n",
    "    print(eggs(people) + \"  eggs\")\n",
    "    print(vanilla_baking_powder(people) + \" teaspoons vanilla\")\n",
    "    print(vanilla_baking_powder(people) + \" teaspoons baking powder\")\n",
    "    \n",
    "    # I say number = float(flour_sugar_butter(people)) so I can just put \"number\" into my conversion\n",
    "    # function instead of the long function name. I do the same consept with conversion_flour and the\n",
    "    # others to make the print(conversion_flour + \" cups flour\") look cleaner and easier to fallow.\n",
    "    number = float(flour_sugar_butter(people))\n",
    "    conversion_flour = str(conversion(number, 120))\n",
    "    conversion_sugar = str(conversion(number, 200))\n",
    "    conversion_butter = str(conversion(number, 240))\n",
    "    \n",
    "    # this is where I print a new line for a space and print out the converted quantities of the\n",
    "    # flour, sugar, and butter because tehey need to be converted into cups.\n",
    "    print(\" \")\n",
    "    print(\"Now in cups!\")\n",
    "    print(conversion_flour + \" cups flour\")\n",
    "    print(conversion_sugar + \" cups sugar\")\n",
    "    print(conversion_butter + \" cups butter\")\n",
    "    \n",
    "    # this is the three print lines for the scaled up ratios of the eggs, vanilla, and baking\n",
    "    # powder because they don't get converted to cups but you still want to know how much of\n",
    "    # each you need for the converted to cups recepie.\n",
    "    print(eggs(people) + \" eggs\")\n",
    "    print(vanilla_baking_powder(people) + \" teaspoons vanilla\")\n",
    "    print(vanilla_baking_powder(people) + \" teaspoons baking powder\")\n",
    "    \n",
    "    \n",
    "if __name__ == \"__main__\":\n",
    "    main()"
   ]
  },
  {
   "cell_type": "code",
   "execution_count": null,
   "metadata": {
    "scrolled": true
   },
   "outputs": [],
   "source": []
  },
  {
   "cell_type": "code",
   "execution_count": null,
   "metadata": {},
   "outputs": [],
   "source": []
  },
  {
   "cell_type": "markdown",
   "metadata": {},
   "source": [
    "Bonus:\n",
    "-----------\n",
    "Add a second recipe to your program! After printing out the cupcakes information, do the same things (ask user for the amount, print the adjusted recipe, print the converted recipe) but with a different recipe. \n",
    "\n",
    "Note! If your original recipe uses cups instead of grams, the adjusted recipe should use cups and the converted recipe should use grams! You may want to write a new function to help yourself out.\n",
    "\n",
    "Consult a website such as: https://www.kingarthurflour.com/learn/ingredient-weight-chart.html to help you find conversions.\n"
   ]
  }
 ],
 "metadata": {
  "kernelspec": {
   "display_name": "Python 3",
   "language": "python",
   "name": "python3"
  },
  "language_info": {
   "codemirror_mode": {
    "name": "ipython",
    "version": 3
   },
   "file_extension": ".py",
   "mimetype": "text/x-python",
   "name": "python",
   "nbconvert_exporter": "python",
   "pygments_lexer": "ipython3",
   "version": "3.6.5"
  }
 },
 "nbformat": 4,
 "nbformat_minor": 2
}
