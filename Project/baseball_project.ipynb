{
 "cells": [
  {
   "cell_type": "code",
   "execution_count": 11,
   "metadata": {},
   "outputs": [],
   "source": [
    "#name: Tyler Stowell, Adam Hayes\n",
    "# section: 104\n",
    "# Homework name: Baseball_project\n",
    "# Description: This project takes information on baseball players and their stats from the .csv file\n",
    "# and makes graphs of their data based on what the user askes the program to do."
   ]
  },
  {
   "cell_type": "code",
   "execution_count": 12,
   "metadata": {},
   "outputs": [],
   "source": [
    "%matplotlib inline\n",
    "\n",
    "\n",
    "import matplotlib.pyplot as plt\n",
    "import statistics\n",
    "\n",
    "# You may add more imports as needed\n",
    "\n",
    "# You must use this object to index into columns\n",
    "class BattingData:\n",
    "    year = 0\n",
    "    player_id = 1\n",
    "    first_name = 2\n",
    "    last_name = 3\n",
    "    team_name = 4\n",
    "    games = 5\n",
    "    at_bats = 6\n",
    "    runs = 7\n",
    "    hits = 8\n",
    "    doubles = 9\n",
    "    triples = 10\n",
    "    home_runs = 11\n",
    "    rbi = 12\n",
    "    walks = 13\n",
    "    hbp = 14\n",
    "    stolen_bases = 15\n",
    "    caught_stealing = 16\n",
    "    strike_outs = 17\n",
    "    sac_flies = 18\n",
    "    position = 19"
   ]
  },
  {
   "cell_type": "markdown",
   "metadata": {},
   "source": [
    "Baseball Data Visualization Project\n",
    "=============\n",
    "\n",
    "Add more cells as needed! Make sure that your notebook runs without errors before turning it in for each checkpoint!"
   ]
  },
  {
   "cell_type": "code",
   "execution_count": 13,
   "metadata": {},
   "outputs": [],
   "source": [
    "# This function opens our batting data file and reads through all the lines\n",
    "# It then turns each row into a list and then creates columns from the row list indices\n",
    "# The function changes empty spaces into 0's and numbers into ints and leaves words as strings\n",
    "# It then returns a new list of lists containing all the data from our file\n",
    "def read_data():\n",
    "    f = open(\"battingData1950Present.csv\",\"r\")\n",
    "    header = f.readline()\n",
    "    ls = [] # column\n",
    "    for line in f:\n",
    "        split = line.strip().split(\",\") # rows\n",
    "        for i in range(len(split)):\n",
    "            if split[i] == \"\":\n",
    "                split[i] = 0\n",
    "            elif split[i].isnumeric():\n",
    "                split[i] = int(split[i])\n",
    "        ls.append(split)\n",
    "    f.close()\n",
    "    return ls"
   ]
  },
  {
   "cell_type": "code",
   "execution_count": 14,
   "metadata": {},
   "outputs": [],
   "source": [
    "# This function takes our list of lists, an index column, and a target value as parameters\n",
    "# It then finds all the similar target values in that column and returns the full row for each\n",
    "def get_matching_rows(ls, integer, target):\n",
    "    ls_matching = []\n",
    "    for i in ls:\n",
    "        if i[integer] == target:\n",
    "            ls_matching.append(i)\n",
    "    return ls_matching\n",
    "    "
   ]
  },
  {
   "cell_type": "code",
   "execution_count": 15,
   "metadata": {},
   "outputs": [],
   "source": [
    "# This function takes our list of lists and an index column as parameters\n",
    "# It then returns all the values in the specified column\n",
    "def get_column_values(ls, index):\n",
    "    ls_column = []\n",
    "    for i in range(ls[index]):\n",
    "        ls_column.append(ls[0][i])\n",
    "    return ls_column"
   ]
  },
  {
   "cell_type": "code",
   "execution_count": 16,
   "metadata": {},
   "outputs": [],
   "source": [
    "# This function takes our list of lists as a parameter and identifies all the unique values in the\n",
    "# original list and returns them\n",
    "def get_unique_values(ls):\n",
    "    ls_unique = []\n",
    "    for i in ls:\n",
    "        if i not in ls_unique:\n",
    "            ls_unique.append(i)\n",
    "    return ls_unique\n",
    "# works well"
   ]
  },
  {
   "cell_type": "code",
   "execution_count": 17,
   "metadata": {},
   "outputs": [],
   "source": [
    "# This function takes our list of lists and a specific column as parameters and identifies all the \n",
    "# unique values in from the row of the target value and puts them in a new list\n",
    "def get_unique_column_values(ls, column):\n",
    "    ls_unique_values = []\n",
    "    for i in ls[column]:\n",
    "        if i[column] not in ls_unique_values:\n",
    "            ls_unique_values.append(i[column])\n",
    "    return ls_unique_values\n",
    "# don't use for the graphs"
   ]
  },
  {
   "cell_type": "code",
   "execution_count": 47,
   "metadata": {},
   "outputs": [],
   "source": [
    "# Histogram 1\n",
    "def total_runs():\n",
    "    ls = read_data()\n",
    "    target = int(input(\"What year? \"))\n",
    "    row = get_matching_rows(ls, BattingData.year, target)\n",
    "    players = ls[]\n",
    "#     column = get_unique_column_values(row, BattingData.runs)\n",
    "    #unique players\n",
    "    # for each player. their rows\n",
    "    for i in column:\n",
    "        runs = row.count(i)\n",
    "    \n",
    "    \n",
    "    \n",
    "#     y1s = sorted(random.sample(range(0, 300), 50)) # generating random points, notice how they always have to be sorted!\n",
    "    yls = runs\n",
    "    plt.hist(y1s, bins= 100) # making a histogram \n",
    "    # plt.legend(loc='center left', bbox_to_anchor=(1, 0.5)) \n",
    "    plt.xlabel(\"Number of total runs\") \n",
    "    plt.ylabel(\"Number of players\") \n",
    "    plt.title('Total runs vs. number of players having that many runs (1982)')\n",
    "    plt.savefig(\"baseball_runs.png\", bbox_inches='tight')\n",
    "    plt.show()"
   ]
  },
  {
   "cell_type": "code",
   "execution_count": 48,
   "metadata": {},
   "outputs": [],
   "source": [
    "# Histogram 2\n",
    "def total_runs_position():\n",
    "    y1s = sorted(random.sample(range(0, 140), 20)) # generating random points, notice how they always have to be sorted! \n",
    "    plt.hist(y1s, label = 'y1s', bins= 100) # making a histogram \n",
    "    plt.legend(loc='center left', bbox_to_anchor=(1, 0.5))\n",
    "    plt.xlabel(\"Number of total runs\") \n",
    "    plt.ylabel(\"Number of players\") \n",
    "    plt.title('Total runs vs. number of players having that many runs by position (1982)') \n",
    "    plt.savefig(\"baseball_runs.png\", bbox_inches='tight')\n",
    "    plt.show()"
   ]
  },
  {
   "cell_type": "code",
   "execution_count": 49,
   "metadata": {},
   "outputs": [],
   "source": [
    "# This function prints out the options the user can choose from and prompts them to pick one\n",
    "# It then returns the users choice as an int\n",
    "def get_menu_choice():\n",
    "    print(\"1: Runs scored in a given year for all players (no cuttoff) \")\n",
    "    print(\"2: Runs scored in a given year for all players (cutoff = 100)\")\n",
    "    print(\"3: Graph team prsence over time\")\n",
    "    print(\"4: Plot homeruns over time (percentiles)\")\n",
    "    print(\"5: \")\n",
    "    print(\"6: \")\n",
    "    print(\"7: \")\n",
    "    print(\"8: \")\n",
    "    print(\" \")\n",
    "    answer = int(input(\"Pick an option: \"))\n",
    "    if answer < 1 or answer > 8:\n",
    "        print(\"good bye.\")\n",
    "    return answer\n",
    "    "
   ]
  },
  {
   "cell_type": "code",
   "execution_count": 50,
   "metadata": {},
   "outputs": [],
   "source": [
    "def questions(answer):\n",
    "    if answer == 1:\n",
    "        total_runs()\n",
    "        \n",
    "    elif answer == 2:\n",
    "        total_runs_position()\n",
    "        \n",
    "    elif answer == 3:\n",
    "        presence_over_time()\n",
    "    elif answer == 4:\n",
    "        home_runs_over_time\n",
    "    elif answer == 5:\n",
    "        option()\n",
    "    elif answer == 6:\n",
    "        option2()"
   ]
  },
  {
   "cell_type": "code",
   "execution_count": 51,
   "metadata": {},
   "outputs": [
    {
     "name": "stdout",
     "output_type": "stream",
     "text": [
      "1: Runs scored in a given year for all players (no cuttoff) \n",
      "2: Runs scored in a given year for all players (cutoff = 100)\n",
      "3: Graph team prsence over time\n",
      "4: Plot homeruns over time (percentiles)\n",
      "5: \n",
      "6: \n",
      "7: \n",
      "8: \n",
      " \n",
      "Pick an option: 1\n",
      "What year? 1980\n"
     ]
    },
    {
     "ename": "IndexError",
     "evalue": "list index out of range",
     "output_type": "error",
     "traceback": [
      "\u001b[1;31m---------------------------------------------------------------------------\u001b[0m",
      "\u001b[1;31mIndexError\u001b[0m                                Traceback (most recent call last)",
      "\u001b[1;32m<ipython-input-51-c8c4455376db>\u001b[0m in \u001b[0;36m<module>\u001b[1;34m()\u001b[0m\n\u001b[0;32m      5\u001b[0m \u001b[1;33m\u001b[0m\u001b[0m\n\u001b[0;32m      6\u001b[0m \u001b[1;32mif\u001b[0m \u001b[0m__name__\u001b[0m \u001b[1;33m==\u001b[0m \u001b[1;34m\"__main__\"\u001b[0m\u001b[1;33m:\u001b[0m\u001b[1;33m\u001b[0m\u001b[0m\n\u001b[1;32m----> 7\u001b[1;33m     \u001b[0mmain\u001b[0m\u001b[1;33m(\u001b[0m\u001b[1;33m)\u001b[0m\u001b[1;33m\u001b[0m\u001b[0m\n\u001b[0m",
      "\u001b[1;32m<ipython-input-51-c8c4455376db>\u001b[0m in \u001b[0;36mmain\u001b[1;34m()\u001b[0m\n\u001b[0;32m      2\u001b[0m     \u001b[0mread_data\u001b[0m\u001b[1;33m(\u001b[0m\u001b[1;33m)\u001b[0m\u001b[1;33m\u001b[0m\u001b[0m\n\u001b[0;32m      3\u001b[0m     \u001b[0manswer\u001b[0m \u001b[1;33m=\u001b[0m \u001b[0mget_menu_choice\u001b[0m\u001b[1;33m(\u001b[0m\u001b[1;33m)\u001b[0m\u001b[1;33m\u001b[0m\u001b[0m\n\u001b[1;32m----> 4\u001b[1;33m     \u001b[0mquestions\u001b[0m\u001b[1;33m(\u001b[0m\u001b[0manswer\u001b[0m\u001b[1;33m)\u001b[0m\u001b[1;33m\u001b[0m\u001b[0m\n\u001b[0m\u001b[0;32m      5\u001b[0m \u001b[1;33m\u001b[0m\u001b[0m\n\u001b[0;32m      6\u001b[0m \u001b[1;32mif\u001b[0m \u001b[0m__name__\u001b[0m \u001b[1;33m==\u001b[0m \u001b[1;34m\"__main__\"\u001b[0m\u001b[1;33m:\u001b[0m\u001b[1;33m\u001b[0m\u001b[0m\n",
      "\u001b[1;32m<ipython-input-50-5fdc3d3d095b>\u001b[0m in \u001b[0;36mquestions\u001b[1;34m(answer)\u001b[0m\n\u001b[0;32m      1\u001b[0m \u001b[1;32mdef\u001b[0m \u001b[0mquestions\u001b[0m\u001b[1;33m(\u001b[0m\u001b[0manswer\u001b[0m\u001b[1;33m)\u001b[0m\u001b[1;33m:\u001b[0m\u001b[1;33m\u001b[0m\u001b[0m\n\u001b[0;32m      2\u001b[0m     \u001b[1;32mif\u001b[0m \u001b[0manswer\u001b[0m \u001b[1;33m==\u001b[0m \u001b[1;36m1\u001b[0m\u001b[1;33m:\u001b[0m\u001b[1;33m\u001b[0m\u001b[0m\n\u001b[1;32m----> 3\u001b[1;33m         \u001b[0mtotal_runs\u001b[0m\u001b[1;33m(\u001b[0m\u001b[1;33m)\u001b[0m\u001b[1;33m\u001b[0m\u001b[0m\n\u001b[0m\u001b[0;32m      4\u001b[0m \u001b[1;33m\u001b[0m\u001b[0m\n\u001b[0;32m      5\u001b[0m     \u001b[1;32melif\u001b[0m \u001b[0manswer\u001b[0m \u001b[1;33m==\u001b[0m \u001b[1;36m2\u001b[0m\u001b[1;33m:\u001b[0m\u001b[1;33m\u001b[0m\u001b[0m\n",
      "\u001b[1;32m<ipython-input-47-641677b181ff>\u001b[0m in \u001b[0;36mtotal_runs\u001b[1;34m()\u001b[0m\n\u001b[0;32m      4\u001b[0m     \u001b[0mtarget\u001b[0m \u001b[1;33m=\u001b[0m \u001b[0minput\u001b[0m\u001b[1;33m(\u001b[0m\u001b[1;34m\"What year? \"\u001b[0m\u001b[1;33m)\u001b[0m\u001b[1;33m\u001b[0m\u001b[0m\n\u001b[0;32m      5\u001b[0m     \u001b[0mrow\u001b[0m \u001b[1;33m=\u001b[0m \u001b[0mget_matching_rows\u001b[0m\u001b[1;33m(\u001b[0m\u001b[0mls\u001b[0m\u001b[1;33m,\u001b[0m \u001b[0mBattingData\u001b[0m\u001b[1;33m.\u001b[0m\u001b[0myear\u001b[0m\u001b[1;33m,\u001b[0m \u001b[0mtarget\u001b[0m\u001b[1;33m)\u001b[0m\u001b[1;33m\u001b[0m\u001b[0m\n\u001b[1;32m----> 6\u001b[1;33m     \u001b[0mcolum\u001b[0m \u001b[1;33m=\u001b[0m \u001b[0mget_colum_values\u001b[0m\u001b[1;33m(\u001b[0m\u001b[0mrow\u001b[0m\u001b[1;33m,\u001b[0m \u001b[0mBattingData\u001b[0m\u001b[1;33m.\u001b[0m\u001b[0mruns\u001b[0m\u001b[1;33m)\u001b[0m\u001b[1;33m\u001b[0m\u001b[0m\n\u001b[0m\u001b[0;32m      7\u001b[0m     \u001b[1;32mfor\u001b[0m \u001b[0mi\u001b[0m \u001b[1;32min\u001b[0m \u001b[0mcolum\u001b[0m\u001b[1;33m:\u001b[0m\u001b[1;33m\u001b[0m\u001b[0m\n\u001b[0;32m      8\u001b[0m         \u001b[0mruns\u001b[0m \u001b[1;33m=\u001b[0m \u001b[0mrow\u001b[0m\u001b[1;33m.\u001b[0m\u001b[0mcount\u001b[0m\u001b[1;33m(\u001b[0m\u001b[0mi\u001b[0m\u001b[1;33m)\u001b[0m\u001b[1;33m\u001b[0m\u001b[0m\n",
      "\u001b[1;32m<ipython-input-15-05b6b5aa4a26>\u001b[0m in \u001b[0;36mget_colum_values\u001b[1;34m(ls, index)\u001b[0m\n\u001b[0;32m      3\u001b[0m \u001b[1;32mdef\u001b[0m \u001b[0mget_colum_values\u001b[0m\u001b[1;33m(\u001b[0m\u001b[0mls\u001b[0m\u001b[1;33m,\u001b[0m \u001b[0mindex\u001b[0m\u001b[1;33m)\u001b[0m\u001b[1;33m:\u001b[0m\u001b[1;33m\u001b[0m\u001b[0m\n\u001b[0;32m      4\u001b[0m     \u001b[0mls_column\u001b[0m \u001b[1;33m=\u001b[0m \u001b[1;33m[\u001b[0m\u001b[1;33m]\u001b[0m\u001b[1;33m\u001b[0m\u001b[0m\n\u001b[1;32m----> 5\u001b[1;33m     \u001b[1;32mfor\u001b[0m \u001b[0mi\u001b[0m \u001b[1;32min\u001b[0m \u001b[0mrange\u001b[0m\u001b[1;33m(\u001b[0m\u001b[0mls\u001b[0m\u001b[1;33m[\u001b[0m\u001b[0mindex\u001b[0m\u001b[1;33m]\u001b[0m\u001b[1;33m)\u001b[0m\u001b[1;33m:\u001b[0m\u001b[1;33m\u001b[0m\u001b[0m\n\u001b[0m\u001b[0;32m      6\u001b[0m         \u001b[0mls_column\u001b[0m\u001b[1;33m.\u001b[0m\u001b[0mappend\u001b[0m\u001b[1;33m(\u001b[0m\u001b[0mls\u001b[0m\u001b[1;33m[\u001b[0m\u001b[1;36m0\u001b[0m\u001b[1;33m]\u001b[0m\u001b[1;33m[\u001b[0m\u001b[0mi\u001b[0m\u001b[1;33m]\u001b[0m\u001b[1;33m)\u001b[0m\u001b[1;33m\u001b[0m\u001b[0m\n\u001b[0;32m      7\u001b[0m     \u001b[1;32mreturn\u001b[0m \u001b[0mls_column\u001b[0m\u001b[1;33m\u001b[0m\u001b[0m\n",
      "\u001b[1;31mIndexError\u001b[0m: list index out of range"
     ]
    }
   ],
   "source": [
    "def main():\n",
    "    read_data()\n",
    "    answer = get_menu_choice()\n",
    "    questions(answer)\n",
    "\n",
    "if __name__ == \"__main__\":\n",
    "    main()"
   ]
  },
  {
   "cell_type": "code",
   "execution_count": null,
   "metadata": {},
   "outputs": [],
   "source": [
    "#where to start\n",
    "# where to use the utility functions\n",
    "#"
   ]
  }
 ],
 "metadata": {
  "kernelspec": {
   "display_name": "Python 3",
   "language": "python",
   "name": "python3"
  },
  "language_info": {
   "codemirror_mode": {
    "name": "ipython",
    "version": 3
   },
   "file_extension": ".py",
   "mimetype": "text/x-python",
   "name": "python",
   "nbconvert_exporter": "python",
   "pygments_lexer": "ipython3",
   "version": "3.6.5"
  }
 },
 "nbformat": 4,
 "nbformat_minor": 2
}
