{
 "cells": [
  {
   "cell_type": "code",
   "execution_count": 1,
   "metadata": {},
   "outputs": [],
   "source": [
    "# Name: Tyler Stowell\n",
    "# Section: 104\n",
    "# Homework: “Hello, variables!”\n",
    "# Description: this program is 3 parts.\n",
    "# 1) rearanging lines of code to not produce errors. \n",
    "# 2) we investigate what using different operators on strings, floats, and ints.\n",
    "# 3) in this part we use the print and input fxns. to ask our TA's name and tell them about ourselves."
   ]
  },
  {
   "cell_type": "markdown",
   "metadata": {},
   "source": [
    "Part 1:\n",
    "--------\n",
    "\n",
    "Complete the exercises from part 1 of the write-up in the cells below. For full credit, you must include all lines code from the problem write-ups.\n",
    "\n",
    "Q: why isn't the code already in the notebook? \n",
    "A: Typing out the lines of code helps develop your muscle memory!"
   ]
  },
  {
   "cell_type": "code",
   "execution_count": 2,
   "metadata": {},
   "outputs": [],
   "source": [
    "my_var = 0.0 # 0.0, float\n",
    "my_var = 1 # 1, int \n",
    "my_var = \"great white shark\" # \"great white shark\", str\n",
    "my_var = 7.4 # 7.4, float\n",
    "my_var = 0 # 0, int\n",
    "my_var = my_var + 1 # 1, int\n",
    "my_var = my_var + 1 # 2, int\n",
    "my_var = my_var * 6 # 12, int\n",
    "my_var = float(my_var) # 12.0, float\n"
   ]
  },
  {
   "cell_type": "code",
   "execution_count": 2,
   "metadata": {},
   "outputs": [
    {
     "name": "stdout",
     "output_type": "stream",
     "text": [
      "7\n"
     ]
    }
   ],
   "source": [
    "# 2) Re-write the code from question 2 below. \n",
    "# What kind of error is produced?\n",
    " \n",
    "#print(x)\n",
    "#x = 7\n",
    "\n",
    "# Answer: NameError. Because \"x\" is not defined before we call on it using the print fxn.\n",
    "\n",
    "# 3) Rearrange the code so that no error is produced when you run it.\n",
    "x = 7\n",
    "print(x)\n"
   ]
  },
  {
   "cell_type": "code",
   "execution_count": 4,
   "metadata": {},
   "outputs": [
    {
     "name": "stdout",
     "output_type": "stream",
     "text": [
      "3\n"
     ]
    }
   ],
   "source": [
    "# 4) Re-write and rearrange the lines of code from question 4 below.\n",
    "num1 = 0\n",
    "num2 = 1\n",
    "num3 = num2 + num2\n",
    "num3 = num1 + num2 + num3\n",
    "\n",
    "print(num3)"
   ]
  },
  {
   "cell_type": "code",
   "execution_count": 5,
   "metadata": {},
   "outputs": [
    {
     "name": "stdout",
     "output_type": "stream",
     "text": [
      "harrietspyspyspy\n"
     ]
    }
   ],
   "source": [
    "# 5) Re-write and rearrange the lines of code from question 5 below.\n",
    "name = \"harriet\"\n",
    "profession =\"spy\"\n",
    "mult = 3.0\n",
    "mult = int(mult)\n",
    "print(name + profession* mult)\n"
   ]
  },
  {
   "cell_type": "code",
   "execution_count": 6,
   "metadata": {},
   "outputs": [
    {
     "name": "stdout",
     "output_type": "stream",
     "text": [
      "hello7\n"
     ]
    }
   ],
   "source": [
    "# 6) Re-write and rearrange the lines of code from question 6 below.\n",
    "friend = 7\n",
    "friend = str(friend)\n",
    "print(\"hello\"+ friend)"
   ]
  },
  {
   "cell_type": "code",
   "execution_count": 7,
   "metadata": {},
   "outputs": [
    {
     "name": "stdout",
     "output_type": "stream",
     "text": [
      "baa baa black sheepbaa baa black sheepbaa baa black sheepbaa baa black sheepbaa baa black sheepbaa baa black sheepbaa baa black sheepbaa baa black sheepbaa baa black sheep\n",
      "9\n"
     ]
    }
   ],
   "source": [
    "# 7) Re-write and rearrange the lines of code from question 7 below.\n",
    "a = \"4.2\"\n",
    "a= float(a)\n",
    "b = 2.3 * a\n",
    "b= int(b)\n",
    "text = \"baa baa black sheep\"\n",
    "c = text * b\n",
    "print(c)\n",
    "print(b)\n"
   ]
  },
  {
   "cell_type": "code",
   "execution_count": 10,
   "metadata": {},
   "outputs": [
    {
     "name": "stdout",
     "output_type": "stream",
     "text": [
      "I am 44\n"
     ]
    }
   ],
   "source": [
    "# 8) Re-write the lines of code from question 8 below.\n",
    "\n",
    "#age = 44\n",
    "#str(age)\n",
    "#print(\"I am\"+ age)\n",
    "\n",
    "# Why does the code not work as written?\n",
    "# Answer: Because you have to redefine age as str(age) by saying age = str(age). \n",
    "          #you don't just say str(age). \n",
    "\n",
    "# fix the code so that it does not produce an error.\n",
    "age = 44\n",
    "age = str(age)\n",
    "print(\"I am \"+ age)"
   ]
  },
  {
   "cell_type": "markdown",
   "metadata": {},
   "source": [
    "Part 2:\n",
    "--------\n",
    "Fill out the table in the cell below with the results of the following operations between the two types:\n",
    "\n",
    "Make sure to leave the code that you use to test these operations out in the notebook to receive full credit!\n",
    "\n",
    "Hint: to test the result of an operation between two types, pick example values of each of those types.\n"
   ]
  },
  {
   "cell_type": "code",
   "execution_count": 11,
   "metadata": {},
   "outputs": [
    {
     "ename": "TypeError",
     "evalue": "unsupported operand type(s) for /: 'str' and 'int'",
     "output_type": "error",
     "traceback": [
      "\u001b[1;31m---------------------------------------------------------------------------\u001b[0m",
      "\u001b[1;31mTypeError\u001b[0m                                 Traceback (most recent call last)",
      "\u001b[1;32m<ipython-input-11-5e9f9c39c108>\u001b[0m in \u001b[0;36m<module>\u001b[1;34m()\u001b[0m\n\u001b[0;32m     15\u001b[0m \u001b[1;31m#   string  *        int       string\u001b[0m\u001b[1;33m\u001b[0m\u001b[1;33m\u001b[0m\u001b[0m\n\u001b[0;32m     16\u001b[0m \u001b[1;31m#   string  /        int       TypeError\u001b[0m\u001b[1;33m\u001b[0m\u001b[1;33m\u001b[0m\u001b[0m\n\u001b[1;32m---> 17\u001b[1;33m \u001b[0mx\u001b[0m \u001b[1;33m=\u001b[0m \u001b[1;34m\"hello\"\u001b[0m\u001b[1;33m/\u001b[0m \u001b[1;36m4\u001b[0m\u001b[1;33m\u001b[0m\u001b[0m\n\u001b[0m\u001b[0;32m     18\u001b[0m \u001b[0mprint\u001b[0m\u001b[1;33m(\u001b[0m\u001b[0mx\u001b[0m\u001b[1;33m)\u001b[0m\u001b[1;33m\u001b[0m\u001b[0m\n\u001b[0;32m     19\u001b[0m \u001b[0my\u001b[0m \u001b[1;33m=\u001b[0m \u001b[1;34m\"hello\"\u001b[0m\u001b[1;33m*\u001b[0m \u001b[1;36m4\u001b[0m\u001b[1;33m\u001b[0m\u001b[0m\n",
      "\u001b[1;31mTypeError\u001b[0m: unsupported operand type(s) for /: 'str' and 'int'"
     ]
    }
   ],
   "source": [
    "# TODO: complete this table.\n",
    "#\n",
    "#         operator             result?\n",
    "#         --------             --------\n",
    "#   int     +        int       int\n",
    "#   int     +        string    TypeError\n",
    "#   int     +        float     float\n",
    "#   int     *        float     float\n",
    "#   int     /        int       float\n",
    "#   int     //       int       int\n",
    "#   float   *        float     float\n",
    "#   float   //       int       float\n",
    "#   float   +        string    TypeError\n",
    "#   string  +        int       TypeError\n",
    "#   string  *        int       string\n",
    "#   string  /        int       TypeError\n",
    "x = \"hello\"/ 4\n",
    "print(x)\n",
    "y = \"hello\"* 4\n",
    "print(y)\n",
    "z = \"hello\"+ 4\n",
    "print(z)\n",
    "a = \"hello\"+ 4.2\n",
    "print(a)\n",
    "b = 20 // 4\n",
    "print(b)\n",
    "c = 20.0 * 5.8\n",
    "print(c)\n",
    "d = 10 // 4\n",
    "print(d)\n",
    "e = 2 / 4\n",
    "print(e)\n",
    "f = 15 * 4.8\n",
    "print(f)\n",
    "g = 4 + 3.2\n",
    "print(g)\n",
    "h = \"hello\"+ 4\n",
    "print(h)\n",
    "i = 8 + 4\n",
    "print(i)"
   ]
  },
  {
   "cell_type": "code",
   "execution_count": null,
   "metadata": {},
   "outputs": [],
   "source": [
    "# TODO: experiments to fill out the table! Make sure to leave the code \n",
    "# that you used for experiments in this notebook to get full credit!\n",
    "# feel free to leave experiments that cause errors in comments."
   ]
  },
  {
   "cell_type": "markdown",
   "metadata": {},
   "source": [
    "Part 3:\n",
    "--------\n",
    "\n",
    "Write a python program that introduces yourself to your TA using the `print` function, then greets them using the `input` function. You should use produce output similar to the examples in the write-up.\n"
   ]
  },
  {
   "cell_type": "code",
   "execution_count": 12,
   "metadata": {},
   "outputs": [
    {
     "name": "stdout",
     "output_type": "stream",
     "text": [
      "Hi there. My name is Tyler Stowell\n",
      "I love cars and working on them.\n",
      "What is your name? Blayn\n",
      "Hi, Blayn. Nice to meet you.\n",
      "I am very excited for this class and already liking the homeworks and class work.\n",
      "I also love the help and comodery of the class.\n"
     ]
    }
   ],
   "source": [
    "# TODO: write your program for part 3 of Homework 1 in this cell.\n",
    "print(\"Hi there. My name is Tyler Stowell\\nI love cars and working on them.\")\n",
    "name = input(\"What is your name? \")\n",
    "print(\"Hi, \"+ name +\".\" + \" Nice to meet you.\")\n",
    "print(\"I am very excited for this class and already liking the homeworks and class work.\\nI also love the help and comradery of the class.\")"
   ]
  },
  {
   "cell_type": "markdown",
   "metadata": {},
   "source": [
    "Bonus:\n",
    "-----------\n",
    "Explore what the modulus operator (`%`) does.\n",
    "\n",
    "What types can you use the modulus operator between?\n",
    "What other operator is complementary to the modulus operator?\n",
    "Why might the modulus operator be useful in programming?\n",
    "\n",
    "Make sure to cite all resources that you use to answer this question in your comments."
   ]
  },
  {
   "cell_type": "code",
   "execution_count": 13,
   "metadata": {},
   "outputs": [
    {
     "name": "stdout",
     "output_type": "stream",
     "text": [
      "2\n",
      "2\n"
     ]
    }
   ],
   "source": [
    "# the modulus opperator produces answers that are the remainder of dividing the second term by the first term. \n",
    "# ex: 10%4 = 2 because 4 goes into 10 2 times (4*2=8) so then there is a remainder of 2. If you used the integer\n",
    "# dividision (//) on this equation then you would get an answer of 2 but that's not want we want when we use the %.\n",
    "# we want to know the ramainder left by that division and that number is 2. I learned how to do this in my lab.\n",
    "x = 10%4\n",
    "print(x)\n",
    "\n",
    "y = 10//4\n",
    "print(y)"
   ]
  },
  {
   "cell_type": "markdown",
   "metadata": {},
   "source": [
    "STOP\n",
    "========\n",
    "Before turning this notebook in: click \"Kernel\", then click \"Restart & Run all\". You should not produce any errors.\n",
    "\n",
    "Make sure you have renamed this notebook according to the homework write-up!"
   ]
  }
 ],
 "metadata": {
  "kernelspec": {
   "display_name": "Python 3",
   "language": "python",
   "name": "python3"
  },
  "language_info": {
   "codemirror_mode": {
    "name": "ipython",
    "version": 3
   },
   "file_extension": ".py",
   "mimetype": "text/x-python",
   "name": "python",
   "nbconvert_exporter": "python",
   "pygments_lexer": "ipython3",
   "version": "3.6.5"
  }
 },
 "nbformat": 4,
 "nbformat_minor": 2
}
