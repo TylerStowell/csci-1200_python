{
 "cells": [
  {
   "cell_type": "code",
   "execution_count": null,
   "metadata": {},
   "outputs": [],
   "source": [
    "# TODO: delete this comment and replace it with the header comment\n",
    "# that includes your name, the section of 1200 that you are registered for,\n",
    "# the homework name, and a brief description of what it does "
   ]
  },
  {
   "cell_type": "markdown",
   "metadata": {},
   "source": [
    "Part 1: Pseudocode\n",
    "--------\n",
    "\n",
    "Complete part 1 on paper or electronically, then turn it in as a pdf on moodle."
   ]
  },
  {
   "cell_type": "markdown",
   "metadata": {},
   "source": [
    "Part 2: Using Functions\n",
    "--------\n",
    "You do not need to define your own functions for this part of the homework."
   ]
  },
  {
   "cell_type": "markdown",
   "metadata": {},
   "source": [
    "1. Give an example usage of each of the following functions: ```len()```, ```abs()```, ```round()```, ```bool()```,  ```lower()```, and ```range()```. Valid examples must do all of the following: \n",
    "    1. Run\n",
    "    2. Use the function with correct arguments\n",
    "    3. Save any return values in a variable\n",
    "    4. Print out the return value\n",
    "    5. Include a comment describing what this function does. \n",
    "\n",
    "Consult the [python documentation](https://docs.python.org/3/library/functions.html) and course notes section 3.2 for information about how functions work and how to read documentation. Some of these functions may return types that we haven’t worked with yet—that’s okay, the goal of this exercise is exploration!\n",
    "\n",
    "You should have at minimum 2 - 3 lines of code and 1 comment for each example."
   ]
  },
  {
   "cell_type": "code",
   "execution_count": null,
   "metadata": {},
   "outputs": [],
   "source": [
    "# len()"
   ]
  },
  {
   "cell_type": "code",
   "execution_count": null,
   "metadata": {},
   "outputs": [],
   "source": [
    "# abs()"
   ]
  },
  {
   "cell_type": "code",
   "execution_count": null,
   "metadata": {},
   "outputs": [],
   "source": [
    "# round()"
   ]
  },
  {
   "cell_type": "code",
   "execution_count": null,
   "metadata": {},
   "outputs": [],
   "source": [
    "# bool()"
   ]
  },
  {
   "cell_type": "code",
   "execution_count": null,
   "metadata": {},
   "outputs": [],
   "source": [
    "# lower() [this is a string function!]"
   ]
  },
  {
   "cell_type": "code",
   "execution_count": null,
   "metadata": {},
   "outputs": [],
   "source": [
    "# range()"
   ]
  },
  {
   "cell_type": "markdown",
   "metadata": {},
   "source": [
    "2. Write a program the prompts the user for their height in inches, converts that amount to centimeters, and reports back the user’s height in both centimeters and meters. Use the ```round()``` function to round your answers to two decimal places. ```1 inch = 2.54 centimeters```; ```1 meter = 100 centimeters```.        \n",
    "Please check the write-up for examples of output and remember to check your code with different input!"
   ]
  },
  {
   "cell_type": "code",
   "execution_count": null,
   "metadata": {},
   "outputs": [],
   "source": []
  },
  {
   "cell_type": "markdown",
   "metadata": {},
   "source": [
    "3. Write a program that helps the user write convery their VERY STRONG EMOTIONS. This program will first ask the user who they are sending the letter to, then will ask the user for a greeting, then for the body of the letter, then ask the user for how they would like to sign the letter. The program will then print out the completed letter. When it is printed, the body of the letter should BE CONVERTED TO UPPER CASE BECAUSE THE USER HAS MANY EMOTIONS.      \n",
    "Please check the write-up for examples of output and remember to check your code with different input!"
   ]
  },
  {
   "cell_type": "code",
   "execution_count": null,
   "metadata": {},
   "outputs": [],
   "source": []
  },
  {
   "cell_type": "markdown",
   "metadata": {},
   "source": [
    "4. Write a program that calculates the maximum occupancy of a room, given its length and width as reported by the user. We will use the following formula to calculate maximum occupancy: ```# of people = area of the room / 20``` ([links](https://idighardware.com/2014/07/decoded-calculating-the-occupant-load/) to documents describing occupancy load [for the curious](http://academics.triton.edu/faculty/fheitzman/occupant%20load%20table%20from%20IBC.pdf)). Make sure that your reported occupancy does not include any partial people! (Hint: the modulus operator will help you here.)  \n",
    "Please check the write-up for examples of output and remember to check your code with different input!"
   ]
  },
  {
   "cell_type": "code",
   "execution_count": null,
   "metadata": {},
   "outputs": [],
   "source": []
  },
  {
   "cell_type": "markdown",
   "metadata": {},
   "source": [
    "Bonus:\n",
    "-----------\n",
    "1. Write a function, `biggest_digits`, that takes an int, `target`, and an int, `n`, and prints out the `n` left-most digits in `target`.\n",
    "\n",
    "2. Write a function, `initials`, that takes three strings, `first`, `middle`, and `last` and prints out this person’s initials, in uppercase with periods between them. You will need to look at [string indexing](https://runestone.csel.io/thinkcspy1200/Strings/IndexOperatorWorkingwiththeCharactersofaString.html) to complete this task.\n",
    "\n",
    "For both functions, you must also demonstrate at least 2 valid calls to these functions."
   ]
  },
  {
   "cell_type": "code",
   "execution_count": null,
   "metadata": {},
   "outputs": [],
   "source": []
  },
  {
   "cell_type": "code",
   "execution_count": null,
   "metadata": {},
   "outputs": [],
   "source": []
  },
  {
   "cell_type": "code",
   "execution_count": null,
   "metadata": {},
   "outputs": [],
   "source": []
  },
  {
   "cell_type": "markdown",
   "metadata": {},
   "source": [
    "STOP\n",
    "========\n",
    "Before turning this notebook in: click \"Kernel\", then click \"Restart & Run all\". You should not produce any errors.\n",
    "\n",
    "Make sure you have renamed this notebook according to the homework write-up!"
   ]
  }
 ],
 "metadata": {
  "kernelspec": {
   "display_name": "Python 3",
   "language": "python",
   "name": "python3"
  },
  "language_info": {
   "codemirror_mode": {
    "name": "ipython",
    "version": 3
   },
   "file_extension": ".py",
   "mimetype": "text/x-python",
   "name": "python",
   "nbconvert_exporter": "python",
   "pygments_lexer": "ipython3",
   "version": "3.6.5"
  }
 },
 "nbformat": 4,
 "nbformat_minor": 2
}
