{
 "cells": [
  {
   "cell_type": "code",
   "execution_count": null,
   "metadata": {},
   "outputs": [],
   "source": []
  },
  {
   "cell_type": "code",
   "execution_count": null,
   "metadata": {},
   "outputs": [],
   "source": []
  },
  {
   "cell_type": "code",
   "execution_count": null,
   "metadata": {},
   "outputs": [],
   "source": []
  },
  {
   "cell_type": "code",
   "execution_count": null,
   "metadata": {},
   "outputs": [],
   "source": []
  },
  {
   "cell_type": "code",
   "execution_count": 2,
   "metadata": {},
   "outputs": [
    {
     "name": "stdout",
     "output_type": "stream",
     "text": [
      "How many cupcakes do you want to make? 1\n",
      "8.33 grams flour\n",
      "8.33 grams sugar\n",
      "8.33 grams butter\n",
      "0.17  eggs\n",
      "0.08 teaspoons vanilla\n",
      "0.08 teaspoons baking powder\n",
      " \n",
      "Now in cups!\n",
      "0.07 cups flour\n",
      "0.04 cups sugar\n",
      "0.03 cups butter\n",
      "0.17 eggs\n",
      "0.08 teaspoons vanilla\n",
      "0.08 teaspoons baking powder\n"
     ]
    }
   ],
   "source": [
    "# Flour, sugar, and butter have the same equation needed to scale up the recepie so I made this\n",
    "# function to do this equation for both instead of having three functions for them seperatly.\n",
    "def flour_sugar_butter(people):\n",
    "    ingredients = float((100/12) * people)\n",
    "    return str(round(ingredients,2))\n",
    "\n",
    "# eggs needs it's own function to scale up the recepie for how many cupcakes desired so I made it\n",
    "# have it's own function.\n",
    "def eggs(people):\n",
    "    eggs = float((2/12) * people)\n",
    "    return str(round(eggs,2))\n",
    "\n",
    "# Vanilla and baking powder have the same equation needed to scale up the recepie so I made this\n",
    "# function to do this equation for both instead of having two functions for them seperatly.\n",
    "def vanilla_baking_powder(people):\n",
    "    last_ingredients = float(people/12)\n",
    "    return str(round(last_ingredients, 2))\n",
    "\n",
    "# I use these two parameters to convert the grams of flour, sugar, and butter into cups of each.\n",
    "def conversion(number, conversion_factor):\n",
    "    converted_cups = float(number/conversion_factor) \n",
    "    return str(round(converted_cups,2))\n",
    "\n",
    "# This is my main function where I have the user input how many cupcakes they want to make, call on\n",
    "# the functions I made above and print out the results to the user.\n",
    "def main():\n",
    "    people = float(input(\"How many cupcakes do you want to make? \"))\n",
    "    print(flour_sugar_butter(people) + \" grams flour\")\n",
    "    print(flour_sugar_butter(people) + \" grams sugar\")\n",
    "    print(flour_sugar_butter(people) + \" grams butter\")\n",
    "    print(eggs(people) + \"  eggs\")\n",
    "    print(vanilla_baking_powder(people) + \" teaspoons vanilla\")\n",
    "    print(vanilla_baking_powder(people) + \" teaspoons baking powder\")\n",
    "    \n",
    "    # I say number = float(flour_sugar_butter(people)) so I can just put \"number\" into my conversion\n",
    "    # function instead of the long function name. I do the same consept with conversion_flour and the\n",
    "    # others to make the print(conversion_flour + \" cups flour\") look cleaner and easier to fallow.\n",
    "    number = float(flour_sugar_butter(people))\n",
    "    conversion_flour = str(conversion(number, 120))\n",
    "    conversion_sugar = str(conversion(number, 200))\n",
    "    conversion_butter = str(conversion(number, 240))\n",
    "    \n",
    "    # this is where I print a new line for a space and print out the converted quantities of the\n",
    "    # flour, sugar, and butter because tehey need to be converted into cups.\n",
    "    print(\" \")\n",
    "    print(\"Now in cups!\")\n",
    "    print(conversion_flour + \" cups flour\")\n",
    "    print(conversion_sugar + \" cups sugar\")\n",
    "    print(conversion_butter + \" cups butter\")\n",
    "    \n",
    "    # this is the three print lines for the scaled up ratios of the eggs, vanilla, and baking\n",
    "    # powder because they don't get converted to cups but you still want to know how much of\n",
    "    # each you need for the converted to cups recepie.\n",
    "    print(eggs(people) + \" eggs\")\n",
    "    print(vanilla_baking_powder(people) + \" teaspoons vanilla\")\n",
    "    print(vanilla_baking_powder(people) + \" teaspoons baking powder\")\n",
    "    \n",
    "    \n",
    "if __name__ == \"__main__\":\n",
    "    main()"
   ]
  },
  {
   "cell_type": "code",
   "execution_count": null,
   "metadata": {},
   "outputs": [],
   "source": []
  },
  {
   "cell_type": "code",
   "execution_count": 2,
   "metadata": {},
   "outputs": [
    {
     "name": "stdout",
     "output_type": "stream",
     "text": [
      "Items? cat\n",
      "cat\n",
      "0\n",
      "0\n"
     ]
    },
    {
     "ename": "NameError",
     "evalue": "name 'consonances' is not defined",
     "output_type": "error",
     "traceback": [
      "\u001b[1;31m---------------------------------------------------------------------------\u001b[0m",
      "\u001b[1;31mNameError\u001b[0m                                 Traceback (most recent call last)",
      "\u001b[1;32m<ipython-input-2-80bc5f6c5ca1>\u001b[0m in \u001b[0;36m<module>\u001b[1;34m()\u001b[0m\n\u001b[0;32m     23\u001b[0m             \u001b[0mprint\u001b[0m\u001b[1;33m(\u001b[0m\u001b[1;34m\" \"\u001b[0m\u001b[1;33m)\u001b[0m\u001b[1;33m\u001b[0m\u001b[0m\n\u001b[0;32m     24\u001b[0m \u001b[1;33m\u001b[0m\u001b[0m\n\u001b[1;32m---> 25\u001b[1;33m \u001b[0mstring_stats\u001b[0m\u001b[1;33m(\u001b[0m\u001b[1;33m)\u001b[0m\u001b[1;33m\u001b[0m\u001b[0m\n\u001b[0m",
      "\u001b[1;32m<ipython-input-2-80bc5f6c5ca1>\u001b[0m in \u001b[0;36mstring_stats\u001b[1;34m()\u001b[0m\n\u001b[0;32m     20\u001b[0m             \u001b[0mprint\u001b[0m\u001b[1;33m(\u001b[0m\u001b[0mvowel_count\u001b[0m\u001b[1;33m)\u001b[0m\u001b[1;33m\u001b[0m\u001b[0m\n\u001b[0;32m     21\u001b[0m             \u001b[0mprint\u001b[0m\u001b[1;33m(\u001b[0m\u001b[0mspaces\u001b[0m\u001b[1;33m)\u001b[0m\u001b[1;33m\u001b[0m\u001b[0m\n\u001b[1;32m---> 22\u001b[1;33m             \u001b[0mprint\u001b[0m\u001b[1;33m(\u001b[0m\u001b[0mconsonances\u001b[0m\u001b[1;33m)\u001b[0m\u001b[1;33m\u001b[0m\u001b[0m\n\u001b[0m\u001b[0;32m     23\u001b[0m             \u001b[0mprint\u001b[0m\u001b[1;33m(\u001b[0m\u001b[1;34m\" \"\u001b[0m\u001b[1;33m)\u001b[0m\u001b[1;33m\u001b[0m\u001b[0m\n\u001b[0;32m     24\u001b[0m \u001b[1;33m\u001b[0m\u001b[0m\n",
      "\u001b[1;31mNameError\u001b[0m: name 'consonances' is not defined"
     ]
    }
   ],
   "source": [
    "def string_stats():\n",
    "    string = input(\"Items? \")\n",
    "    string = string.split(\",\")\n",
    "    \n",
    "    for i in range(len(string)):\n",
    "        \n",
    "        for asked in string[i]:\n",
    "            a_count = string.count('a')\n",
    "            e_count = string.count('e')\n",
    "            i_count = string.count('i')\n",
    "            o_count = string.count('o')\n",
    "            u_count = string.count('u')\n",
    "            vowel_count = a_count + a_count + e_count + i_count + o_count + u_count\n",
    "            space = \" \"\n",
    "            consonance = list(\"b,c,d,f,g,h,j,k,l,m,n,p,q,r,s,t,v,w,x,z\")\n",
    "            spaces = string.count(\" \")\n",
    "            #vowels = string.count(vowel)\n",
    "            #consonances = string.count(consonance)\n",
    "            print(string[i])\n",
    "            print(vowel_count)\n",
    "            print(spaces)\n",
    "            print(consonances)\n",
    "            print(\" \")\n",
    "        \n",
    "string_stats()"
   ]
  },
  {
   "cell_type": "code",
   "execution_count": 5,
   "metadata": {},
   "outputs": [
    {
     "name": "stdout",
     "output_type": "stream",
     "text": [
      "245\n",
      "7\n"
     ]
    }
   ],
   "source": [
    "def full_hours(days,hours,minutes):\n",
    "    day_hrs = days*24\n",
    "    minutes = minutes//60\n",
    "    print(day_hrs + hours + minutes)\n",
    "full_hours(10,5,20)\n",
    "full_hours(0,5,120)"
   ]
  },
  {
   "cell_type": "code",
   "execution_count": null,
   "metadata": {},
   "outputs": [],
   "source": []
  }
 ],
 "metadata": {
  "kernelspec": {
   "display_name": "Python 3",
   "language": "python",
   "name": "python3"
  },
  "language_info": {
   "codemirror_mode": {
    "name": "ipython",
    "version": 3
   },
   "file_extension": ".py",
   "mimetype": "text/x-python",
   "name": "python",
   "nbconvert_exporter": "python",
   "pygments_lexer": "ipython3",
   "version": "3.6.5"
  }
 },
 "nbformat": 4,
 "nbformat_minor": 2
}
