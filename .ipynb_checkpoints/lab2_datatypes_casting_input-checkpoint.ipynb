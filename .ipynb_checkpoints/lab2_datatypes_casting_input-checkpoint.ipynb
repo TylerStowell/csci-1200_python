{
 "cells": [
  {
   "cell_type": "code",
   "execution_count": null,
   "metadata": {},
   "outputs": [],
   "source": [
    "# Write your names here: Tyler Stowell\n",
    "# \n",
    "# Turn this file in on moodle before you leave lab."
   ]
  },
  {
   "cell_type": "markdown",
   "metadata": {
    "ExecuteTime": {
     "end_time": "2018-08-29T01:05:33.512684Z",
     "start_time": "2018-08-29T01:05:33.504659Z"
    }
   },
   "source": [
    "# A) String and String Concatenation\n",
    "***\n",
    "\n",
    "<img src=\"https://www.conversion-uplift.co.uk/wp-content/uploads/2016/09/Concatenation-image-1024x299.jpg\" width=1201 height=50>\n",
    "\n",
    "We’ve seen what operators work with numeric values — ints and floats — but what operators do you think work with strings? For instance, with \"Conversion\" and \"Rate\" in the example above."
   ]
  },
  {
   "cell_type": "markdown",
   "metadata": {},
   "source": [
    "### 1. Trying operators on Strings and Numbers\n",
    "***\n",
    "First type what you think would be the result of running the following commands? Then, run the commands to verify your answers."
   ]
  },
  {
   "cell_type": "code",
   "execution_count": null,
   "metadata": {},
   "outputs": [],
   "source": [
    "# TODO: Write down your guesses here (DO NOT RUN THE CELLS BEFORE GUESSING)\n",
    "# 1) hithere\n",
    "# 2) TypeError\n",
    "# 3) TypeError\n",
    "# 4) Sh\n",
    "# 5) 24\n",
    "# 6) TypeError\n",
    "# 7) HaHaHaHa\n",
    "# 8) zzzz\n",
    "# 9) TypeError\n",
    "# 10) TypeError\n"
   ]
  },
  {
   "cell_type": "code",
   "execution_count": null,
   "metadata": {},
   "outputs": [],
   "source": [
    "# 1)\n",
    "\"Hi\" + \"there\""
   ]
  },
  {
   "cell_type": "code",
   "execution_count": null,
   "metadata": {},
   "outputs": [],
   "source": [
    "# 2)\n",
    "4 + \"hamster\""
   ]
  },
  {
   "cell_type": "code",
   "execution_count": null,
   "metadata": {},
   "outputs": [],
   "source": [
    "# 3)\n",
    "\"Electric\" - \"boogaloo\""
   ]
  },
  {
   "cell_type": "code",
   "execution_count": null,
   "metadata": {},
   "outputs": [],
   "source": [
    "# 4)\n",
    "\"Shook\" - \"ook\""
   ]
  },
  {
   "cell_type": "code",
   "execution_count": null,
   "metadata": {},
   "outputs": [],
   "source": [
    "# 5)\n",
    "\"2\" + \"4\""
   ]
  },
  {
   "cell_type": "code",
   "execution_count": null,
   "metadata": {},
   "outputs": [],
   "source": [
    "# 6)\n",
    "\"2\" - 4"
   ]
  },
  {
   "cell_type": "code",
   "execution_count": null,
   "metadata": {},
   "outputs": [],
   "source": [
    "# 7)\n",
    "\"Ha\" * 4"
   ]
  },
  {
   "cell_type": "code",
   "execution_count": null,
   "metadata": {},
   "outputs": [],
   "source": [
    "# 8)\n",
    "4 * \"z\""
   ]
  },
  {
   "cell_type": "code",
   "execution_count": null,
   "metadata": {},
   "outputs": [],
   "source": [
    "# 9)\n",
    "\"Hammer\" / \"time\""
   ]
  },
  {
   "cell_type": "code",
   "execution_count": null,
   "metadata": {},
   "outputs": [],
   "source": [
    "# 10)\n",
    "10 / \"two\""
   ]
  },
  {
   "cell_type": "markdown",
   "metadata": {},
   "source": [
    "### 2. Based on your answers above, what operators do you think we can use with strings?\n",
    "***\n",
    "Give one example of each using the cells below. How many operators can we use with strings?"
   ]
  },
  {
   "cell_type": "code",
   "execution_count": null,
   "metadata": {},
   "outputs": [],
   "source": [
    "\"happy\"+\"life\""
   ]
  },
  {
   "cell_type": "code",
   "execution_count": null,
   "metadata": {},
   "outputs": [],
   "source": [
    "\"help\" * 4"
   ]
  },
  {
   "cell_type": "code",
   "execution_count": null,
   "metadata": {},
   "outputs": [],
   "source": [
    "# you can only use addition and multiplication for strings"
   ]
  },
  {
   "cell_type": "code",
   "execution_count": null,
   "metadata": {},
   "outputs": [],
   "source": []
  },
  {
   "cell_type": "code",
   "execution_count": null,
   "metadata": {},
   "outputs": [],
   "source": []
  },
  {
   "cell_type": "code",
   "execution_count": null,
   "metadata": {},
   "outputs": [],
   "source": []
  },
  {
   "cell_type": "markdown",
   "metadata": {},
   "source": [
    "### 3. Fill in the missing parts in the following code so that it is complete:\n",
    "***"
   ]
  },
  {
   "cell_type": "code",
   "execution_count": null,
   "metadata": {},
   "outputs": [],
   "source": [
    "welcome = \"Greetings, traveler, my name is\"\n",
    "name = \" Tyler \"\n",
    "between = \"and I have come to\"\n",
    "mission = \" Fly\"\n",
    "print(welcome + name + between + mission) # print out the complete message here!"
   ]
  },
  {
   "cell_type": "markdown",
   "metadata": {},
   "source": [
    "### 4. Write code to print the sentence, or vice versa!\n",
    "***\n",
    "\n",
    "To complete these tasks, you'll need to use special string sequences called \"escape characters\". These help you print characters that you otherwise wouldn't be able to, like a `\"` or a newline.\n",
    "\n",
    "To print a `\"`, we type `\\\"`. To print a newline character, we type `\\n`.\n",
    "\n",
    "You might wonder how to print a `\\` character because it has this special meaning—to print a single `\\`, we will write two `\\\\`!"
   ]
  },
  {
   "cell_type": "markdown",
   "metadata": {},
   "source": [
    "> This line is <br/>\n",
    "On two lines"
   ]
  },
  {
   "cell_type": "code",
   "execution_count": null,
   "metadata": {},
   "outputs": [],
   "source": [
    "# WRITE CODE TO PRINT THE SENTENCE ABOVE \n",
    "print(\"This line is \\nOn two lines\")\n",
    "# (hint: use two print statements, then try to write it\n",
    "# with only one print statement)"
   ]
  },
  {
   "cell_type": "markdown",
   "metadata": {
    "ExecuteTime": {
     "end_time": "2018-08-29T01:37:46.925845Z",
     "start_time": "2018-08-29T01:37:46.921982Z"
    }
   },
   "source": [
    "***"
   ]
  },
  {
   "cell_type": "markdown",
   "metadata": {},
   "source": [
    "> \"Boo!\""
   ]
  },
  {
   "cell_type": "code",
   "execution_count": null,
   "metadata": {},
   "outputs": [],
   "source": [
    "# WRITE CODE TO PRINT THE SENTENCE ABOVE\n",
    "print('\"Boo!\"')"
   ]
  },
  {
   "cell_type": "markdown",
   "metadata": {
    "ExecuteTime": {
     "end_time": "2018-08-29T01:37:46.925845Z",
     "start_time": "2018-08-29T01:37:46.921982Z"
    }
   },
   "source": [
    "***"
   ]
  },
  {
   "cell_type": "markdown",
   "metadata": {},
   "source": [
    "> He said \"but I like <br />\n",
    "the ballet!\""
   ]
  },
  {
   "cell_type": "code",
   "execution_count": null,
   "metadata": {},
   "outputs": [],
   "source": [
    "# WRITE CODE TO PRINT THE SENTENCE ABOVE (Use only one print statement)\n",
    "print('He said \"but I like\\nthe ballet!\"')"
   ]
  },
  {
   "cell_type": "markdown",
   "metadata": {
    "ExecuteTime": {
     "end_time": "2018-08-29T01:37:46.925845Z",
     "start_time": "2018-08-29T01:37:46.921982Z"
    }
   },
   "source": [
    "***"
   ]
  },
  {
   "cell_type": "markdown",
   "metadata": {},
   "source": [
    "```python\n",
    "print(\"There\\\" once\\\" was \\\"a \\\"frog\\\"\")\n",
    "```"
   ]
  },
  {
   "cell_type": "code",
   "execution_count": null,
   "metadata": {},
   "outputs": [],
   "source": [
    "# WRITE THE RESULT OF THE COMMAND ABOVE\n",
    "\n",
    "#There\" once\" was \"a \"frog\""
   ]
  },
  {
   "cell_type": "markdown",
   "metadata": {
    "ExecuteTime": {
     "end_time": "2018-08-29T01:37:46.925845Z",
     "start_time": "2018-08-29T01:37:46.921982Z"
    }
   },
   "source": [
    "***"
   ]
  },
  {
   "cell_type": "markdown",
   "metadata": {},
   "source": [
    "```python\n",
    "print(\"Don't they know that\\n\\\"frogs\\\" are amphibians?\")\n",
    "```"
   ]
  },
  {
   "cell_type": "code",
   "execution_count": null,
   "metadata": {},
   "outputs": [],
   "source": [
    "# WRITE THE RESULT OF THE COMMAND ABOVE\n",
    "# Don't they know that\n",
    "# \"frogs\" are amphibians?"
   ]
  },
  {
   "cell_type": "markdown",
   "metadata": {
    "ExecuteTime": {
     "end_time": "2018-08-29T01:37:46.925845Z",
     "start_time": "2018-08-29T01:37:46.921982Z"
    }
   },
   "source": [
    "***"
   ]
  },
  {
   "cell_type": "markdown",
   "metadata": {},
   "source": [
    "> \\n"
   ]
  },
  {
   "cell_type": "code",
   "execution_count": null,
   "metadata": {},
   "outputs": [],
   "source": [
    "# WRITE CODE TO PRINT THE SENTENCE ABOVE\n",
    "print(\"\\\\n\")"
   ]
  },
  {
   "cell_type": "markdown",
   "metadata": {
    "ExecuteTime": {
     "end_time": "2018-08-29T01:37:46.925845Z",
     "start_time": "2018-08-29T01:37:46.921982Z"
    }
   },
   "source": [
    "***"
   ]
  },
  {
   "cell_type": "markdown",
   "metadata": {
    "ExecuteTime": {
     "end_time": "2018-08-29T01:24:34.661570Z",
     "start_time": "2018-08-29T01:24:34.656867Z"
    }
   },
   "source": [
    "# B) Type Casting\n",
    "***\n",
    "\n",
    "Sometimes we need to change a value from one type to another, if, for example, we want to combine a numeric value that we’ve just calculated with a string, we’ll need to change the numeric value into a string first. \n",
    "\n",
    "See Course Notes 2.3 for more information on casting.\n",
    "\n",
    "We’ll use a special function, ```str()```, to do this. Try the following command:"
   ]
  },
  {
   "cell_type": "code",
   "execution_count": null,
   "metadata": {},
   "outputs": [],
   "source": [
    "combined = \"I have \" + str(92) + \" cats.\"\n",
    "print(combined)"
   ]
  },
  {
   "cell_type": "markdown",
   "metadata": {
    "ExecuteTime": {
     "end_time": "2018-08-29T01:44:52.238267Z",
     "start_time": "2018-08-29T01:44:52.233561Z"
    }
   },
   "source": [
    "### Help Morgan!\n",
    "***\n",
    "Morgan has lost his measuring cups! He has managed to save just his tablespoon, and must convert his bread recipe to tablespoons.\n",
    "\n",
    "| Recipe                            | Conversions                      |\n",
    "|-----------------------------------|----------------------------------|\n",
    "| 3 cups all-purpose or bread flour | 1 cup = 16 tablespoons           |\n",
    "| .25 teaspoon instant yeast        | 1 teaspoon = .33 of a tablespoon |\n",
    "| 1.25 teaspoons salt               |                                  |\n",
    "| 1 5/8 cups water                  |                                  |\n",
    "| Conversions                       |                                  |\n",
    "| 1 cup = 16 tablespoons            |                                  |\n",
    "| 1 teaspoon = .33 of a tablespoon  |                                  |\n",
    "\n",
    "Write a program that tells Morgan how many tablespoons of each ingredient he will need."
   ]
  },
  {
   "cell_type": "code",
   "execution_count": null,
   "metadata": {
    "ExecuteTime": {
     "end_time": "2018-08-29T01:46:31.184042Z",
     "start_time": "2018-08-29T01:46:31.178918Z"
    }
   },
   "outputs": [],
   "source": [
    "bread_flour = 16*3\n",
    "bread_flour = str(bread_flour)\n",
    "instant_yeast = .25*.33\n",
    "instant_yeast = str(instant_yeast)\n",
    "salt = 1.25*.33\n",
    "salt = str(salt)\n",
    "water = (1+(5/8))*16\n",
    "water = str(water)\n",
    "print(bread_flour + \" tablespoons all-purpous or bread flower\\n\"+ instant_yeast + \" tablespoons instant yeast\\n\"+ salt + \" tablespoons salt\\n\"+ water + \" tablespoons water\")"
   ]
  },
  {
   "cell_type": "markdown",
   "metadata": {},
   "source": [
    "# C) `input` function\n",
    "***\n",
    "\n",
    "Now, create a program that asks the user how much flour, yeast, and salt they will use, then converts it to tablespoons for them. \n",
    "\n",
    "Use the `input()` function (see course notes 2.4). Remember that it will give you a string, even if the user entered a number! Use the `int()` and `float()` functions as well as the `str()` function! \n",
    "\n",
    "Example output (__bold__ indicates user input):\n",
    "\n",
    "<pre>\n",
    "How many cups of flour do you need? <b>4</b>\n",
    "How many teaspoons of yeast do you need? <b>.5</b>\n",
    "How many teaspoons of salt do you need? <b>1.5</b>\n",
    "How many cups of water do you need? <b>2</b>\n",
    "You will use 64 tablespoons of flour, 0.165 tablespoons of yeast, 0.495 tablespoons of salt, and 32 tablespoons of water! Happy baking!\n",
    "</pre>\n"
   ]
  },
  {
   "cell_type": "code",
   "execution_count": null,
   "metadata": {},
   "outputs": [],
   "source": [
    "flour = input(\"How many cups of flour do you need?\")\n",
    "flour = int(flour) * 16\n",
    "flour = str(flour)\n",
    "yeast = input(\"How many teaspoons of yeast do you need?\")\n",
    "yeast = float(yeast) * 0.33\n",
    "yeast = str(yeast)\n",
    "salt = input(\"How many teaspoons of salt do you need?\")\n",
    "salt = float(salt) * 0.33\n",
    "salt = str(salt)\n",
    "water = input(\"How many cups of water do you need?\")\n",
    "water = int(water) *16\n",
    "water = str(water)\n",
    "print(\"You will use \" + flour + \" cups flour, \" + yeast + \" tablespoons of yeast, \" + salt + \" tablespoons of salt, \" + water + \" cups water!\\n\" \"Happy baking!\")"
   ]
  },
  {
   "cell_type": "code",
   "execution_count": null,
   "metadata": {},
   "outputs": [],
   "source": []
  }
 ],
 "metadata": {
  "kernelspec": {
   "display_name": "Python 3",
   "language": "python",
   "name": "python3"
  },
  "language_info": {
   "codemirror_mode": {
    "name": "ipython",
    "version": 3
   },
   "file_extension": ".py",
   "mimetype": "text/x-python",
   "name": "python",
   "nbconvert_exporter": "python",
   "pygments_lexer": "ipython3",
   "version": "3.6.5"
  }
 },
 "nbformat": 4,
 "nbformat_minor": 2
}
