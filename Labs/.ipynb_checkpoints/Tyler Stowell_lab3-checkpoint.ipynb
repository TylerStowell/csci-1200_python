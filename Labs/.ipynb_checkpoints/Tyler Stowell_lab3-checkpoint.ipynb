{
 "cells": [
  {
   "cell_type": "code",
   "execution_count": 1,
   "metadata": {},
   "outputs": [],
   "source": [
    "# You'll fill this part in when it's time to work on computers\n",
    "#\n",
    "# Write your names here: Tyler Stowell\n",
    "# \n",
    "# Turn this file in on moodle before you leave lab, even if you haven't finished!\n",
    "# We want to see where you got to!"
   ]
  },
  {
   "cell_type": "markdown",
   "metadata": {},
   "source": [
    "# Lab 3 - CSCI 1200\n",
    "## September 12, 2018\n",
    "***\n",
    "Welcome to the lab, today we will be learning about the following concepts:    \n",
    "1. Type Casting\n",
    "2. Errors\n",
    "3. Using functions and writing basic functions\n",
    "\n",
    "We will walk through half of this notebook at the beginning of the recitation, and the rest you will be doing in Computer Time!"
   ]
  },
  {
   "cell_type": "markdown",
   "metadata": {
    "ExecuteTime": {
     "end_time": "2018-08-29T01:05:33.512684Z",
     "start_time": "2018-08-29T01:05:33.504659Z"
    }
   },
   "source": [
    "# 1. Type Casting\n",
    "***\n",
    "\n",
    "Sometimes we need to change a value from one type to another. We will try some casting functions below, lets see what all kinds commands are valid/ invalid and what errors are produced alongside.   \n",
    "See **Course Notes 2.3** for more information on casting."
   ]
  },
  {
   "cell_type": "code",
   "execution_count": 2,
   "metadata": {
    "ExecuteTime": {
     "end_time": "2018-09-07T03:58:46.705084Z",
     "start_time": "2018-09-07T03:58:46.687070Z"
    }
   },
   "outputs": [],
   "source": [
    "# lets talk about type () function.\n",
    "# remember that these functions return values so if we want to do\n",
    "# anything with them, we need to save them in variables.\n",
    "\n",
    "t1 = type(1.0)\n",
    "t2 = type(\"Sacred Games\")\n",
    "t3 = type (10000)\n",
    "t4 = type(True)"
   ]
  },
  {
   "cell_type": "code",
   "execution_count": 3,
   "metadata": {},
   "outputs": [
    {
     "name": "stdout",
     "output_type": "stream",
     "text": [
      "Variable   Type    Data/Info\n",
      "----------------------------\n",
      "t1         type    <class 'float'>\n",
      "t2         type    <class 'str'>\n",
      "t3         type    <class 'int'>\n",
      "t4         type    <class 'bool'>\n"
     ]
    }
   ],
   "source": [
    "whos"
   ]
  },
  {
   "cell_type": "code",
   "execution_count": 4,
   "metadata": {
    "ExecuteTime": {
     "end_time": "2018-09-07T04:00:56.390645Z",
     "start_time": "2018-09-07T04:00:56.387848Z"
    }
   },
   "outputs": [],
   "source": [
    "# what happens when we cast something into int?\n",
    "\n",
    "# i1 = int(\"10\")\n",
    "# i2 = int(\"10.0\")\n",
    "# i3 = int(10.34)\n",
    "# i4 = int(\"True\")\n",
    "# i5 = int(True)"
   ]
  },
  {
   "cell_type": "code",
   "execution_count": 5,
   "metadata": {
    "ExecuteTime": {
     "end_time": "2018-09-07T04:02:47.109033Z",
     "start_time": "2018-09-07T04:02:47.103505Z"
    }
   },
   "outputs": [],
   "source": [
    "# what happens when we cast something to float? \n",
    "\n",
    "# f1 = float(\"10.0\")\n",
    "# f2 = float(\"10\")\n",
    "# f3 = float(10)\n",
    "# f4 = float(\"csci1200\")\n",
    "# f5 = float(False)"
   ]
  },
  {
   "cell_type": "code",
   "execution_count": 6,
   "metadata": {
    "ExecuteTime": {
     "end_time": "2018-09-07T04:04:48.196187Z",
     "start_time": "2018-09-07T04:04:48.193565Z"
    }
   },
   "outputs": [],
   "source": [
    "# lets try casting into String?\n",
    "\n",
    "# s1 = str(10.0)\n",
    "# s2 = str(1000)\n",
    "# s3 = str(True)\n",
    "# s4 = str(\"csci1200\")"
   ]
  },
  {
   "cell_type": "code",
   "execution_count": 7,
   "metadata": {
    "ExecuteTime": {
     "end_time": "2018-09-07T04:04:47.179687Z",
     "start_time": "2018-09-07T04:04:47.175582Z"
    }
   },
   "outputs": [],
   "source": [
    "# lets try casting into bool?\n",
    "\n",
    "# b1 = bool(1.0)\n",
    "# b2 = bool(12.34)\n",
    "# b3 = bool(0.0)\n",
    "# b4 = bool(12)\n",
    "# b5 = bool(0)\n",
    "# b6 = bool(1)\n",
    "# b7 = bool(\"hahaha\")\n",
    "# b8 = bool(\"\")"
   ]
  },
  {
   "cell_type": "code",
   "execution_count": null,
   "metadata": {
    "ExecuteTime": {
     "end_time": "2018-09-07T04:25:44.937905Z",
     "start_time": "2018-09-07T04:25:44.934725Z"
    }
   },
   "outputs": [],
   "source": [
    "# lets try casting with input, debug the following code line by line\n",
    "\n",
    "fav_num = int(input(\"Please write your favorite number here: \"))\n",
    "magic = str(5 + fav_num)\n",
    "print(\"Your favorite number plus five is: \" + magic)"
   ]
  },
  {
   "cell_type": "markdown",
   "metadata": {},
   "source": [
    "# 2. Errors\n",
    "***\n",
    "\n",
    "We noted a number of errors above. Let's think once about the kind of errors that occured and why they occured?  \n",
    "See **Course Notes 2.5** for more information on debugging python code."
   ]
  },
  {
   "cell_type": "code",
   "execution_count": null,
   "metadata": {
    "ExecuteTime": {
     "end_time": "2018-09-07T04:32:17.465324Z",
     "start_time": "2018-09-07T04:32:17.458491Z"
    }
   },
   "outputs": [],
   "source": [
    "print(abc_var)\n",
    "#write the type of error produced here: NameError"
   ]
  },
  {
   "cell_type": "code",
   "execution_count": null,
   "metadata": {
    "ExecuteTime": {
     "end_time": "2018-09-07T04:34:13.749804Z",
     "start_time": "2018-09-07T04:34:13.747108Z"
    }
   },
   "outputs": [],
   "source": [
    "year = 1776\n",
    "print(\"US got independence in: \" + year)\n",
    "# write the type of error produced here: TypeError"
   ]
  },
  {
   "cell_type": "code",
   "execution_count": null,
   "metadata": {
    "ExecuteTime": {
     "end_time": "2018-09-07T04:36:30.430937Z",
     "start_time": "2018-09-07T04:36:30.428482Z"
    }
   },
   "outputs": [],
   "source": [
    "a = 25 % 5\n",
    "b = 5 + a\n",
    "c = b / a\n",
    "# The type of  error is a ZeroDivisionError"
   ]
  },
  {
   "cell_type": "markdown",
   "metadata": {},
   "source": [
    "# 3. Using Functions\n",
    "***\n",
    "\n",
    "Let's talk about a new concept now. Functions are the detailed representation of tasks that you would like your program to do. Lets go through the following examples to explore the inner workings of functions. We will also encounter some known errors along the way, let's solve them too.\n",
    "\n",
    "See course notes section 3.2 for more information about built-in functions."
   ]
  },
  {
   "cell_type": "code",
   "execution_count": null,
   "metadata": {
    "ExecuteTime": {
     "end_time": "2018-09-08T20:35:57.166169Z",
     "start_time": "2018-09-08T20:35:57.154707Z"
    }
   },
   "outputs": [],
   "source": [
    "# Using built-in functions\n",
    "\n",
    "x = \"this is a string\"\n",
    "print(len(x))\n",
    "\n",
    "x = -100\n",
    "y = -10\n",
    "\n",
    "print(min(x, y))\n",
    "print(max(x, y))\n",
    "\n",
    "x = 2\n",
    "y = 3\n",
    "pow(x,y)\n",
    "\n",
    "# type(\"csci1200\")\n",
    "\n",
    "# using functions looks a little different for strings\n",
    "# this is how we will use string.lower() and string.upper()\n",
    "# x = \"THIS IS A STRING!\"\n",
    "# print(x.lower())\n",
    "\n",
    "# x = 2.3332323524234234\n",
    "# round(x,10)\n",
    "# round(x)"
   ]
  },
  {
   "cell_type": "code",
   "execution_count": null,
   "metadata": {
    "ExecuteTime": {
     "end_time": "2018-09-07T04:45:12.407820Z",
     "start_time": "2018-09-07T04:45:12.405277Z"
    }
   },
   "outputs": [],
   "source": [
    "# Writing functions\n",
    "\n",
    "def my_function():\n",
    "    print(\"Hello from a function\")\n",
    "\n",
    "my_function()"
   ]
  },
  {
   "cell_type": "code",
   "execution_count": null,
   "metadata": {
    "ExecuteTime": {
     "end_time": "2018-09-08T20:13:07.652444Z",
     "start_time": "2018-09-08T20:13:07.649082Z"
    }
   },
   "outputs": [],
   "source": [
    "# Writing functions number two (more complexity in the function)\n",
    "\n",
    "# define the function with name \"convert_seconds_to_hours\"\n",
    "#     # ask for the number of seconds to convert to hours\n",
    "#     # first get minutes from seconds\n",
    "#     # then get hours from minutes\n",
    "#     # print the number of hours\n",
    "\n",
    "# call the convert function here"
   ]
  },
  {
   "cell_type": "markdown",
   "metadata": {},
   "source": [
    "# Paper Time!\n",
    "***\n",
    "Go ahead and solve the exercises on paper!"
   ]
  },
  {
   "cell_type": "markdown",
   "metadata": {},
   "source": [
    "# Computer Time!\n",
    "***\n",
    "Go ahead and solve the following exercises centered around using functions."
   ]
  },
  {
   "cell_type": "markdown",
   "metadata": {},
   "source": [
    "1. Ask the user to input a number. Convert this number to a `float`, then convert the float version to an `int`, then convert the int version to a `bool`. Print out the user's input after each conversion step. "
   ]
  },
  {
   "cell_type": "code",
   "execution_count": null,
   "metadata": {},
   "outputs": [],
   "source": [
    "number = float(input(\"type a number: \"))\n",
    "print(number)\n",
    "number = int(number)\n",
    "print(number)\n",
    "number = bool(number)\n",
    "print(number)\n"
   ]
  },
  {
   "cell_type": "code",
   "execution_count": null,
   "metadata": {},
   "outputs": [],
   "source": []
  },
  {
   "cell_type": "code",
   "execution_count": null,
   "metadata": {},
   "outputs": [],
   "source": []
  },
  {
   "cell_type": "markdown",
   "metadata": {},
   "source": [
    "2. Get input from user and convert it to upper case. Print this out. Then convert it to lower case. Print this out too. Use the string `upper()` and `lower()` functions."
   ]
  },
  {
   "cell_type": "code",
   "execution_count": null,
   "metadata": {},
   "outputs": [],
   "source": [
    "message = input(\"Type a sentince\")\n",
    "print(message)\n",
    "message = message.upper()\n",
    "print(message)\n",
    "message = message.lower()\n",
    "print(message)"
   ]
  },
  {
   "cell_type": "markdown",
   "metadata": {},
   "source": [
    "3. Take 5 numbers as input from the user (use 5 calls to the `input()` function) and print the minimum of those 5 numbers. Use the `min()` function."
   ]
  },
  {
   "cell_type": "code",
   "execution_count": null,
   "metadata": {},
   "outputs": [],
   "source": [
    "num1 = input(\"number 1: \")\n",
    "num2 = input(\"number 2: \")\n",
    "num3 = input(\"number 3: \")\n",
    "num4 = input(\"number 4: \")\n",
    "num5 = input(\"number 5: \")\n",
    "minimum = min(num1, num2, num3, num4, num5)\n",
    "print(minimum)"
   ]
  },
  {
   "cell_type": "markdown",
   "metadata": {},
   "source": [
    "4. Get input from the user, then use the `len()` function to print out how long the user's input was."
   ]
  },
  {
   "cell_type": "code",
   "execution_count": null,
   "metadata": {},
   "outputs": [],
   "source": [
    "word = input(\"Type your word here: \")\n",
    "word = len(word)\n",
    "print(word)"
   ]
  },
  {
   "cell_type": "code",
   "execution_count": null,
   "metadata": {},
   "outputs": [],
   "source": []
  },
  {
   "cell_type": "code",
   "execution_count": null,
   "metadata": {},
   "outputs": [],
   "source": []
  },
  {
   "cell_type": "markdown",
   "metadata": {},
   "source": [
    "Writing Functions\n",
    "-------------\n",
    "\n",
    "Here are the first 4 verses of the song \"Yellow Submarine\" by the beatles:\n",
    "\n",
    "```\n",
    "In the town where I was born\n",
    "Lived a man who sailed to sea\n",
    "And he told us of his life\n",
    "In the land of submarines\n",
    "So we sailed up to the sun\n",
    "Till we found a sea of green\n",
    "And we lived beneath the waves\n",
    "In our yellow submarine\n",
    "\n",
    "We all live in a yellow submarine\n",
    "Yellow submarine, yellow submarine\n",
    "We all live in a yellow submarine\n",
    "Yellow submarine, yellow submarine\n",
    "\n",
    "And our friends are all aboard\n",
    "Many more of them live next door\n",
    "And the band begins to play\n",
    "\n",
    "We all live in a yellow submarine\n",
    "Yellow submarine, yellow submarine\n",
    "We all live in a yellow submarine\n",
    "Yellow submarine, yellow submarine\n",
    "```\n"
   ]
  },
  {
   "cell_type": "markdown",
   "metadata": {},
   "source": [
    "1. Write a function that prints out the lyrics to the first verse of the song. "
   ]
  },
  {
   "cell_type": "code",
   "execution_count": null,
   "metadata": {},
   "outputs": [],
   "source": [
    "def first():\n",
    "    print(\"In the town where I was born\\nLived a man who sailed to sea\\nAnd he told us of his life\\nIn the land of submarines\\nSo we sailed up to the sun\\nTill we found a sea of green\\nAnd we lived beneath the waves\\nIn our yellow submarine\")\n",
    "    \n",
    "first()    "
   ]
  },
  {
   "cell_type": "markdown",
   "metadata": {},
   "source": [
    "2. Write a function that prints out the lyrics to the second non-chorus verse of the song. (\"And all our friends...\")"
   ]
  },
  {
   "cell_type": "code",
   "execution_count": null,
   "metadata": {},
   "outputs": [],
   "source": [
    "def verse2():\n",
    "    print(\"And our friends are all aboard\\nMany more of them live next door\\nAnd the band begins to play\")\n",
    "verse2()"
   ]
  },
  {
   "cell_type": "markdown",
   "metadata": {},
   "source": [
    "3. Write a function that prints out the lyrics to the chorus of the song."
   ]
  },
  {
   "cell_type": "code",
   "execution_count": null,
   "metadata": {},
   "outputs": [],
   "source": [
    "#def verse_chorus():\n",
    " #   print(\"We all live in a yellow submarine\\nYellow submarine, yellow submarine\\nWe all live in a yellow submarine\\nYellow submarine, yellow submarine\")\n",
    "  #  print()\n",
    "   # verse2()\n",
    "#verse_chorus()\n",
    "def chorus():\n",
    "    line()\n",
    "    line()\n"
   ]
  },
  {
   "cell_type": "markdown",
   "metadata": {},
   "source": [
    "4. Call the three functions that you have defined above to print out all 4 verses of the song that are displayed here."
   ]
  },
  {
   "cell_type": "code",
   "execution_count": null,
   "metadata": {},
   "outputs": [],
   "source": [
    "first()\n",
    "verse_chorus()\n",
    "verse2()\n",
    "verse_chorus()"
   ]
  },
  {
   "cell_type": "markdown",
   "metadata": {},
   "source": [
    "5. Change your function definition from step #3 so that this function calls another function twice rather than directly printing out the same things twice. Re-run your cell from #4. Does the song still print out correctly?"
   ]
  },
  {
   "cell_type": "code",
   "execution_count": null,
   "metadata": {},
   "outputs": [],
   "source": [
    "def line():\n",
    "    print(\"We all live in a yellow submarine\\nYellow submarine, yellow submarine\")\n",
    "\n"
   ]
  },
  {
   "cell_type": "code",
   "execution_count": null,
   "metadata": {},
   "outputs": [],
   "source": []
  }
 ],
 "metadata": {
  "kernelspec": {
   "display_name": "Python 3",
   "language": "python",
   "name": "python3"
  },
  "language_info": {
   "codemirror_mode": {
    "name": "ipython",
    "version": 3
   },
   "file_extension": ".py",
   "mimetype": "text/x-python",
   "name": "python",
   "nbconvert_exporter": "python",
   "pygments_lexer": "ipython3",
   "version": "3.6.5"
  }
 },
 "nbformat": 4,
 "nbformat_minor": 2
}
