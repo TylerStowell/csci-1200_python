{
 "cells": [
  {
   "cell_type": "code",
   "execution_count": null,
   "metadata": {
    "ExecuteTime": {
     "end_time": "2018-09-23T22:34:51.046352Z",
     "start_time": "2018-09-23T22:34:51.042663Z"
    }
   },
   "outputs": [],
   "source": [
    "# You'll fill this part in when it's time to work on computers\n",
    "#\n",
    "# Write your names here: Tyler, Bryce, Adam, Carmine\n",
    "# \n",
    "# Turn this file in on moodle before you leave lab, even if you haven't finished!\n",
    "# We want to see where you got to!"
   ]
  },
  {
   "cell_type": "markdown",
   "metadata": {},
   "source": [
    "# Lab 9 - CSCI 1200\n",
    "## October 24, 2018\n",
    "***\n",
    "Welcome to the lab, today we will be learning about file input and output:\n",
    "1. Reading from files\n",
    "2. Writing to files\n",
    "3. File utility functions\n",
    "\n",
    "We will walk through half of this notebook at the beginning of the recitation, and the rest you will be doing in Computer Time!"
   ]
  },
  {
   "cell_type": "markdown",
   "metadata": {
    "ExecuteTime": {
     "end_time": "2018-08-29T01:05:33.512684Z",
     "start_time": "2018-08-29T01:05:33.504659Z"
    }
   },
   "source": [
    "# Reading from files\n",
    "***\n",
    "\n",
    "In this section, we will see examples of reading lines from files, transforming them in different ways as well."
   ]
  },
  {
   "cell_type": "code",
   "execution_count": null,
   "metadata": {
    "ExecuteTime": {
     "end_time": "2018-10-21T08:40:14.204286Z",
     "start_time": "2018-10-21T08:40:14.200983Z"
    }
   },
   "outputs": [],
   "source": [
    "# what is a csv file? \n",
    "# Lets open one and look into it\n",
    "f = open(\"sample.csv\", \"r\") \n",
    "# notice the parameter \"r\" it stands for read\n",
    "# it could be: w (write), r+ (read and write)"
   ]
  },
  {
   "cell_type": "code",
   "execution_count": null,
   "metadata": {
    "ExecuteTime": {
     "end_time": "2018-10-21T08:39:26.918132Z",
     "start_time": "2018-10-21T08:39:26.914434Z"
    }
   },
   "outputs": [],
   "source": [
    "# lets see what is f\n",
    "print(f)\n",
    "print(type(f))\n",
    "# that doesn't help, how do we read the lines of this file?"
   ]
  },
  {
   "cell_type": "code",
   "execution_count": null,
   "metadata": {
    "ExecuteTime": {
     "end_time": "2018-10-21T08:39:27.149303Z",
     "start_time": "2018-10-21T08:39:27.145774Z"
    }
   },
   "outputs": [],
   "source": [
    "# using f.readline()\n",
    "print(f.readline())"
   ]
  },
  {
   "cell_type": "code",
   "execution_count": null,
   "metadata": {
    "ExecuteTime": {
     "end_time": "2018-10-21T08:40:17.164056Z",
     "start_time": "2018-10-21T08:40:17.160699Z"
    }
   },
   "outputs": [],
   "source": [
    "# but how do I read all the lines?\n",
    "for line in f:\n",
    "     print(line)"
   ]
  },
  {
   "cell_type": "code",
   "execution_count": null,
   "metadata": {
    "ExecuteTime": {
     "end_time": "2018-10-21T08:39:51.515604Z",
     "start_time": "2018-10-21T08:39:51.512675Z"
    }
   },
   "outputs": [],
   "source": [
    "# in the end it is important to close the file\n",
    "f.close()\n",
    "# we can no longer read any lines of the file because the channel to file is closed"
   ]
  },
  {
   "cell_type": "code",
   "execution_count": null,
   "metadata": {
    "ExecuteTime": {
     "end_time": "2018-10-21T08:45:37.448479Z",
     "start_time": "2018-10-21T08:45:37.145064Z"
    }
   },
   "outputs": [],
   "source": [
    "# did you notice we can run the second cell above only once (before closing the file)? \n",
    "# => After we open a file, and we are done reading all the lines of that file,\n",
    "# we can't access those lines again. \n",
    "# For doing that, we need to re-open the file and then start reading again. \n",
    "\n",
    "f = open(\"sample.csv\", \"r\") \n",
    "for line in f:\n",
    "     print(line)\n",
    "f.close()"
   ]
  },
  {
   "cell_type": "code",
   "execution_count": null,
   "metadata": {
    "ExecuteTime": {
     "end_time": "2018-10-21T09:52:33.471155Z",
     "start_time": "2018-10-21T09:52:33.062778Z"
    }
   },
   "outputs": [],
   "source": [
    "# Lets look at a better view of this file\n",
    "\n",
    "f = open(\"sample.csv\", \"r\") \n",
    "for line in f:\n",
    "    # notice the changed functionality goes here, rest remains the same  \n",
    "    beautiful_line = \"\\t\".join(line.split(\",\")) \n",
    "    print(beautiful_line)\n",
    "f.close()"
   ]
  },
  {
   "cell_type": "markdown",
   "metadata": {
    "ExecuteTime": {
     "end_time": "2018-08-29T01:05:33.512684Z",
     "start_time": "2018-08-29T01:05:33.504659Z"
    }
   },
   "source": [
    "# Writing to files\n",
    "***\n",
    "\n",
    "In this section, we will see examples of writing lines to files, transforming them in different ways as well."
   ]
  },
  {
   "cell_type": "code",
   "execution_count": 1,
   "metadata": {
    "ExecuteTime": {
     "end_time": "2018-10-21T09:54:30.539231Z",
     "start_time": "2018-10-21T09:54:30.536156Z"
    }
   },
   "outputs": [],
   "source": [
    "f = open(\"sample_write.txt\", \"w\") # notice that this call creates a new file in my laptop"
   ]
  },
  {
   "cell_type": "code",
   "execution_count": 2,
   "metadata": {
    "ExecuteTime": {
     "end_time": "2018-10-21T09:54:30.747443Z",
     "start_time": "2018-10-21T09:54:30.742069Z"
    }
   },
   "outputs": [
    {
     "data": {
      "text/plain": [
       "55"
      ]
     },
     "execution_count": 2,
     "metadata": {},
     "output_type": "execute_result"
    }
   ],
   "source": [
    "f.write(\"Beautiful things don't ask for attention - Walter Mitty\")"
   ]
  },
  {
   "cell_type": "code",
   "execution_count": null,
   "metadata": {
    "ExecuteTime": {
     "end_time": "2018-10-21T09:54:30.966910Z",
     "start_time": "2018-10-21T09:54:30.964007Z"
    }
   },
   "outputs": [],
   "source": [
    "f.close()"
   ]
  },
  {
   "cell_type": "code",
   "execution_count": null,
   "metadata": {
    "ExecuteTime": {
     "end_time": "2018-10-21T09:54:31.469689Z",
     "start_time": "2018-10-21T09:54:31.464854Z"
    }
   },
   "outputs": [],
   "source": [
    "# verifying out file\n",
    "f = open(\"sample_write.csv\", \"r\")\n",
    "print(f.read())\n",
    "f.close()"
   ]
  },
  {
   "cell_type": "markdown",
   "metadata": {},
   "source": [
    "# Appending to files\n",
    "***\n",
    "\n",
    "In this section, we will see examples of appending lines to files."
   ]
  },
  {
   "cell_type": "code",
   "execution_count": 3,
   "metadata": {},
   "outputs": [],
   "source": [
    "# What is the contents of \"sampe_write.txt\" after we run this cell?\n",
    "\n",
    "f = open(\"sample_write.txt\", \"w\") # notice that this call creates a new file in my laptop\n",
    "f.write(\"here's more text\")\n",
    "f.close()"
   ]
  },
  {
   "cell_type": "code",
   "execution_count": 4,
   "metadata": {},
   "outputs": [],
   "source": [
    "# What is the contents of \"sampe_write.txt\" after we run this cell?\n",
    "\n",
    "f = open(\"sample_write.txt\", \"a\")\n",
    "f.write(\"here's more text\")\n",
    "f.close()"
   ]
  },
  {
   "cell_type": "code",
   "execution_count": 5,
   "metadata": {},
   "outputs": [],
   "source": [
    "# What is the contents of \"sampe_write.txt\" after we run this cell?\n",
    "\n",
    "f = open(\"sample_write.txt\", \"a\")\n",
    "f.write(\"here's even more text\")\n",
    "f.close()"
   ]
  },
  {
   "cell_type": "code",
   "execution_count": 6,
   "metadata": {},
   "outputs": [],
   "source": [
    "# What is the contents of \"sampe_write.txt\" after we run this cell?\n",
    "\n",
    "f = open(\"sample_write.txt\", \"w\") # notice that this call creates a new file in my laptop\n",
    "f.write(\"here's even more text ?\")\n",
    "f.close()"
   ]
  },
  {
   "cell_type": "markdown",
   "metadata": {
    "ExecuteTime": {
     "end_time": "2018-08-29T01:05:33.512684Z",
     "start_time": "2018-08-29T01:05:33.504659Z"
    }
   },
   "source": [
    "# File utility functions\n",
    "### (Fantastic file functions and how to design them)\n",
    "***\n",
    "\n",
    "In this section, we will build useful tools for handling files and then design our main function that does an intended task. "
   ]
  },
  {
   "cell_type": "code",
   "execution_count": null,
   "metadata": {
    "ExecuteTime": {
     "end_time": "2018-10-21T09:21:22.689709Z",
     "start_time": "2018-10-21T09:21:22.686427Z"
    }
   },
   "outputs": [],
   "source": [
    "# Task: Make a function that opens a file and returns file object\n",
    "def file_open(file_name):\n",
    "    file_obj = open(file_name, \"r\")\n",
    "    return file_obj"
   ]
  },
  {
   "cell_type": "code",
   "execution_count": null,
   "metadata": {
    "ExecuteTime": {
     "end_time": "2018-10-21T09:21:22.924012Z",
     "start_time": "2018-10-21T09:21:22.920891Z"
    }
   },
   "outputs": [],
   "source": [
    "# Task: Make a function that, given a file object, closes the file\n",
    "def file_close(file_obj):\n",
    "    file_obj.close()"
   ]
  },
  {
   "cell_type": "code",
   "execution_count": null,
   "metadata": {
    "ExecuteTime": {
     "end_time": "2018-10-21T09:41:06.535271Z",
     "start_time": "2018-10-21T09:41:06.530725Z"
    }
   },
   "outputs": [],
   "source": [
    "# Task: Make a function, \"file_to_string_list\" that takes in a string parameter,\n",
    "# \"file_name\", and returns a list of lines in the file\n",
    "def file_to_list(file_name):\n",
    "    file = file_open(file_name)\n",
    "    lst = []\n",
    "    for line in file:\n",
    "        # notice the strip function here, what does this do? Investigate!\n",
    "        lst.append(line.strip()) \n",
    "        \n",
    "    file_close(file) # never forget to close the file\n",
    "    return lst"
   ]
  },
  {
   "cell_type": "code",
   "execution_count": null,
   "metadata": {
    "ExecuteTime": {
     "end_time": "2018-10-21T09:46:26.153241Z",
     "start_time": "2018-10-21T09:46:26.149104Z"
    }
   },
   "outputs": [],
   "source": [
    "# Task: Make a function that prints the top 'x' values of humidity\n",
    "def highest_humidity(lst, x):\n",
    "    # first identify which column is humidity\n",
    "    headers = lst[0]\n",
    "    headers_lst = headers.split(\",\")\n",
    "    humidity_idx = headers_lst.index(\"Humidity\")\n",
    "    humidity_values = []\n",
    "    \n",
    "    # start at 1 because we do not want to include the header\n",
    "    for line_index in range(1, len(lst)): \n",
    "        values = lst[line_index].split(\",\")\n",
    "        humidity_values.append(values[humidity_idx])\n",
    "        \n",
    "    # recall that this is a mutator function!\n",
    "    humidity_values.sort()\n",
    "    \n",
    "    # the highest values will be at the end of the list\n",
    "    for i in range(x):\n",
    "        print(humidity_values[len(humidity_values) - 1 - i])"
   ]
  },
  {
   "cell_type": "code",
   "execution_count": null,
   "metadata": {
    "ExecuteTime": {
     "end_time": "2018-10-21T09:46:26.703179Z",
     "start_time": "2018-10-21T09:46:26.694117Z"
    }
   },
   "outputs": [],
   "source": [
    "def main():\n",
    "    lst = file_to_list(\"sample.csv\")\n",
    "    highest_humidity(lst, 10) \n",
    "\n",
    "if __name__ == \"__main__\":\n",
    "    main()"
   ]
  },
  {
   "cell_type": "markdown",
   "metadata": {},
   "source": [
    "# COMPUTER TIME!\n",
    "***\n",
    "Go ahead and solve the following exercises.\n",
    "And also, please look at the course notes for this week and the last week. Please let us know if you have any questions towards this concept."
   ]
  },
  {
   "cell_type": "markdown",
   "metadata": {},
   "source": [
    "1. Make a function, `write_x_times`, that writes your favorite quotation into a file `x` number of times."
   ]
  },
  {
   "cell_type": "code",
   "execution_count": 18,
   "metadata": {},
   "outputs": [
    {
     "name": "stdout",
     "output_type": "stream",
     "text": [
      "How many times do you want to write the line? 2\n"
     ]
    }
   ],
   "source": [
    "def write_x_times():\n",
    "    x = int(input(\"How many times do you want to write the line? \"))\n",
    "    file = open(\"Lab 9\",\"w\")\n",
    "    for i in range(x):\n",
    "        file.write(\"Happy\")\n",
    "    f.close()\n",
    "write_x_times()"
   ]
  },
  {
   "cell_type": "code",
   "execution_count": null,
   "metadata": {},
   "outputs": [],
   "source": []
  },
  {
   "cell_type": "code",
   "execution_count": null,
   "metadata": {},
   "outputs": [],
   "source": []
  },
  {
   "cell_type": "markdown",
   "metadata": {},
   "source": [
    "2. Write a program that, given a csv file in the following format, tells the user what year each name was most popular in. The numbers next to names are ranks. A lower number indicates higher popularity.\n",
    "\n",
    "```\n",
    "name,2000,2001,2002,2003,2004,2005\n",
    "Benjamin,26,27,27,24,25,25\n",
    "Melissa,71,74,80,96,98,104\n",
    "Ross,434,471,529,583,614,672\n",
    "Eleanor,375,359,319,308,301,264\n",
    "```\n",
    "\n",
    "As the first step of this problem, you should copy and paste the above data into a file called `names.csv` that you can work with!"
   ]
  },
  {
   "cell_type": "code",
   "execution_count": null,
   "metadata": {},
   "outputs": [],
   "source": []
  },
  {
   "cell_type": "code",
   "execution_count": null,
   "metadata": {},
   "outputs": [],
   "source": []
  },
  {
   "cell_type": "code",
   "execution_count": null,
   "metadata": {},
   "outputs": [],
   "source": []
  },
  {
   "cell_type": "markdown",
   "metadata": {},
   "source": [
    "3. Make a function, `highest_temperature`, that prints out top 10 values in temperature column of sample.csv file. Feel free to copy and paste the `highest_humidity` code and edit it to make it temperature instead!"
   ]
  },
  {
   "cell_type": "code",
   "execution_count": 19,
   "metadata": {},
   "outputs": [],
   "source": [
    "def file_open(file_name):\n",
    "    file_obj = open(file_name, \"r\")\n",
    "    return file_obj"
   ]
  },
  {
   "cell_type": "code",
   "execution_count": 20,
   "metadata": {},
   "outputs": [],
   "source": [
    "def file_close(file_obj):\n",
    "    file_obj.close()"
   ]
  },
  {
   "cell_type": "code",
   "execution_count": 21,
   "metadata": {},
   "outputs": [],
   "source": [
    "def file_to_list(file_name):\n",
    "    file = file_open(file_name)\n",
    "    lst = []\n",
    "    for line in file:\n",
    "        # notice the strip function here, what does this do? Investigate!\n",
    "        lst.append(line.strip()) \n",
    "        \n",
    "    file_close(file) # never forget to close the file\n",
    "    return lst"
   ]
  },
  {
   "cell_type": "code",
   "execution_count": 22,
   "metadata": {},
   "outputs": [],
   "source": [
    "def highest_temp(lst, x):\n",
    "    # first identify which column is humidity\n",
    "    headers = lst[0]\n",
    "    headers_lst = temp.split(\",\")\n",
    "    temp_idx = headers_lst.index(\"Temperature\")\n",
    "    temp_values = []\n",
    "    \n",
    "    # start at 1 because we do not want to include the header\n",
    "    for line_index in range(1, len(lst)): \n",
    "        values = lst[line_index].split(\",\")\n",
    "        temp_values.append(values[temp_idx])\n",
    "        \n",
    "    # recall that this is a mutator function!\n",
    "    temp_values.sort()\n",
    "    \n",
    "    # the highest values will be at the end of the list\n",
    "    for i in range(x):\n",
    "        print(temp_values[len(temp_values) - 1 - i])"
   ]
  },
  {
   "cell_type": "code",
   "execution_count": 23,
   "metadata": {},
   "outputs": [
    {
     "ename": "NameError",
     "evalue": "name 'temp' is not defined",
     "output_type": "error",
     "traceback": [
      "\u001b[1;31m---------------------------------------------------------------------------\u001b[0m",
      "\u001b[1;31mNameError\u001b[0m                                 Traceback (most recent call last)",
      "\u001b[1;32m<ipython-input-23-eac17579f987>\u001b[0m in \u001b[0;36m<module>\u001b[1;34m()\u001b[0m\n\u001b[0;32m      4\u001b[0m \u001b[1;33m\u001b[0m\u001b[0m\n\u001b[0;32m      5\u001b[0m \u001b[1;32mif\u001b[0m \u001b[0m__name__\u001b[0m \u001b[1;33m==\u001b[0m \u001b[1;34m\"__main__\"\u001b[0m\u001b[1;33m:\u001b[0m\u001b[1;33m\u001b[0m\u001b[0m\n\u001b[1;32m----> 6\u001b[1;33m     \u001b[0mmain\u001b[0m\u001b[1;33m(\u001b[0m\u001b[1;33m)\u001b[0m\u001b[1;33m\u001b[0m\u001b[0m\n\u001b[0m",
      "\u001b[1;32m<ipython-input-23-eac17579f987>\u001b[0m in \u001b[0;36mmain\u001b[1;34m()\u001b[0m\n\u001b[0;32m      1\u001b[0m \u001b[1;32mdef\u001b[0m \u001b[0mmain\u001b[0m\u001b[1;33m(\u001b[0m\u001b[1;33m)\u001b[0m\u001b[1;33m:\u001b[0m\u001b[1;33m\u001b[0m\u001b[0m\n\u001b[0;32m      2\u001b[0m     \u001b[0mlst\u001b[0m \u001b[1;33m=\u001b[0m \u001b[0mfile_to_list\u001b[0m\u001b[1;33m(\u001b[0m\u001b[1;34m\"sample.csv\"\u001b[0m\u001b[1;33m)\u001b[0m\u001b[1;33m\u001b[0m\u001b[0m\n\u001b[1;32m----> 3\u001b[1;33m     \u001b[0mhighest_temp\u001b[0m\u001b[1;33m(\u001b[0m\u001b[0mlst\u001b[0m\u001b[1;33m,\u001b[0m \u001b[1;36m10\u001b[0m\u001b[1;33m)\u001b[0m\u001b[1;33m\u001b[0m\u001b[0m\n\u001b[0m\u001b[0;32m      4\u001b[0m \u001b[1;33m\u001b[0m\u001b[0m\n\u001b[0;32m      5\u001b[0m \u001b[1;32mif\u001b[0m \u001b[0m__name__\u001b[0m \u001b[1;33m==\u001b[0m \u001b[1;34m\"__main__\"\u001b[0m\u001b[1;33m:\u001b[0m\u001b[1;33m\u001b[0m\u001b[0m\n",
      "\u001b[1;32m<ipython-input-22-5294bea486a1>\u001b[0m in \u001b[0;36mhighest_temp\u001b[1;34m(lst, x)\u001b[0m\n\u001b[0;32m      2\u001b[0m     \u001b[1;31m# first identify which column is humidity\u001b[0m\u001b[1;33m\u001b[0m\u001b[1;33m\u001b[0m\u001b[0m\n\u001b[0;32m      3\u001b[0m     \u001b[0mheaders\u001b[0m \u001b[1;33m=\u001b[0m \u001b[0mlst\u001b[0m\u001b[1;33m[\u001b[0m\u001b[1;36m0\u001b[0m\u001b[1;33m]\u001b[0m\u001b[1;33m\u001b[0m\u001b[0m\n\u001b[1;32m----> 4\u001b[1;33m     \u001b[0mheaders_lst\u001b[0m \u001b[1;33m=\u001b[0m \u001b[0mtemp\u001b[0m\u001b[1;33m.\u001b[0m\u001b[0msplit\u001b[0m\u001b[1;33m(\u001b[0m\u001b[1;34m\",\"\u001b[0m\u001b[1;33m)\u001b[0m\u001b[1;33m\u001b[0m\u001b[0m\n\u001b[0m\u001b[0;32m      5\u001b[0m     \u001b[0mtemp_idx\u001b[0m \u001b[1;33m=\u001b[0m \u001b[0mheaders_lst\u001b[0m\u001b[1;33m.\u001b[0m\u001b[0mindex\u001b[0m\u001b[1;33m(\u001b[0m\u001b[1;34m\"Temperature\"\u001b[0m\u001b[1;33m)\u001b[0m\u001b[1;33m\u001b[0m\u001b[0m\n\u001b[0;32m      6\u001b[0m     \u001b[0mtemp_values\u001b[0m \u001b[1;33m=\u001b[0m \u001b[1;33m[\u001b[0m\u001b[1;33m]\u001b[0m\u001b[1;33m\u001b[0m\u001b[0m\n",
      "\u001b[1;31mNameError\u001b[0m: name 'temp' is not defined"
     ]
    }
   ],
   "source": [
    "def main():\n",
    "    lst = file_to_list(\"sample.csv\")\n",
    "    highest_temp(lst, 10) \n",
    "\n",
    "if __name__ == \"__main__\":\n",
    "    main()"
   ]
  },
  {
   "cell_type": "markdown",
   "metadata": {},
   "source": [
    "4. Make a function, `average_temperature`, that returns the average of all the values in the temperature column sample.csv file."
   ]
  },
  {
   "cell_type": "code",
   "execution_count": null,
   "metadata": {},
   "outputs": [],
   "source": []
  },
  {
   "cell_type": "code",
   "execution_count": null,
   "metadata": {},
   "outputs": [],
   "source": []
  },
  {
   "cell_type": "code",
   "execution_count": null,
   "metadata": {},
   "outputs": [],
   "source": []
  },
  {
   "cell_type": "markdown",
   "metadata": {},
   "source": [
    "5. Make a function, `ratio_temp_humidity`, that makes a new column whose value is the ratio of temperature to humidity in the data given in sample.csv and saves this new column alongside previous data in a new file sample2.csv. Be sure to add a new header as well!"
   ]
  },
  {
   "cell_type": "code",
   "execution_count": null,
   "metadata": {},
   "outputs": [],
   "source": []
  },
  {
   "cell_type": "code",
   "execution_count": null,
   "metadata": {},
   "outputs": [],
   "source": []
  },
  {
   "cell_type": "code",
   "execution_count": null,
   "metadata": {},
   "outputs": [],
   "source": []
  },
  {
   "cell_type": "markdown",
   "metadata": {},
   "source": [
    "Work on homework 7 if you are done with the questions here :)"
   ]
  }
 ],
 "metadata": {
  "kernelspec": {
   "display_name": "Python 3",
   "language": "python",
   "name": "python3"
  },
  "language_info": {
   "codemirror_mode": {
    "name": "ipython",
    "version": 3
   },
   "file_extension": ".py",
   "mimetype": "text/x-python",
   "name": "python",
   "nbconvert_exporter": "python",
   "pygments_lexer": "ipython3",
   "version": "3.6.5"
  }
 },
 "nbformat": 4,
 "nbformat_minor": 2
}
