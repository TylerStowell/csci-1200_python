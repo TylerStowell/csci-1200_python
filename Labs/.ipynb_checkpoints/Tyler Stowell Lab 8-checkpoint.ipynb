{
 "cells": [
  {
   "cell_type": "code",
   "execution_count": null,
   "metadata": {
    "ExecuteTime": {
     "end_time": "2018-09-23T22:34:51.046352Z",
     "start_time": "2018-09-23T22:34:51.042663Z"
    }
   },
   "outputs": [],
   "source": [
    "# You'll fill this part in when it's time to work on computers\n",
    "#\n",
    "# Write your names here: tyler, bryce, adam, paul, carmine\n",
    "# \n",
    "# Turn this file in on moodle before you leave lab, even if you haven't finished!\n",
    "# We want to see where you got to!"
   ]
  },
  {
   "cell_type": "markdown",
   "metadata": {},
   "source": [
    "# Lab 8 - CSCI 1200\n",
    "## October 17, 2018\n",
    "***\n",
    "Welcome to the lab, today we will be learning about the following concepts:    \n",
    "1. String assignment vs. list assignment\n",
    "2. Searching and sorting lists\n",
    "3. Mutator vs. pure functions\n",
    "4. Runtime experiments\n",
    "\n",
    "We will walk through half of this notebook at the beginning of the recitation, and the rest you will be doing in Computer Time!"
   ]
  },
  {
   "cell_type": "markdown",
   "metadata": {
    "ExecuteTime": {
     "end_time": "2018-08-29T01:05:33.512684Z",
     "start_time": "2018-08-29T01:05:33.504659Z"
    }
   },
   "source": [
    "# 1. String assignment vs. list assignment\n",
    "***\n",
    "\n",
    "Before we play with lists today, lets look at the advantages lists have over strings."
   ]
  },
  {
   "cell_type": "code",
   "execution_count": null,
   "metadata": {
    "ExecuteTime": {
     "end_time": "2018-10-14T04:55:09.938203Z",
     "start_time": "2018-10-14T04:55:09.935185Z"
    }
   },
   "outputs": [],
   "source": [
    "# Are we one with the boolean yet? Any questions on boolean/conditionals?"
   ]
  },
  {
   "cell_type": "code",
   "execution_count": null,
   "metadata": {
    "ExecuteTime": {
     "end_time": "2018-10-14T05:03:04.768219Z",
     "start_time": "2018-10-14T05:03:04.690951Z"
    }
   },
   "outputs": [],
   "source": [
    "# Mutating String - continuing lecture example of cat to bat?\n",
    "s = \"cat\"\n",
    "s[0] = \"b\"\n",
    "print(s)"
   ]
  },
  {
   "cell_type": "code",
   "execution_count": null,
   "metadata": {
    "ExecuteTime": {
     "end_time": "2018-10-14T05:03:02.234662Z",
     "start_time": "2018-10-14T05:03:02.230881Z"
    }
   },
   "outputs": [],
   "source": [
    "# cat to bat?\n",
    "s = \"cat\"\n",
    "s = \"b\" + s\n",
    "print(s)\n",
    "# we end up creating a whole new string instead of modifying (mutating) it! => STRINGS ARE IMMUTABLE!\n",
    "# but it didn't quite replace the 'c' in the string, one alternate described in lecture was:"
   ]
  },
  {
   "cell_type": "code",
   "execution_count": null,
   "metadata": {
    "ExecuteTime": {
     "end_time": "2018-10-14T05:15:28.618304Z",
     "start_time": "2018-10-14T05:15:28.614936Z"
    }
   },
   "outputs": [],
   "source": [
    "s = \"cat\"\n",
    "s = \"b\" + s[1] + s[2]\n",
    "print(s)\n",
    "# it works!"
   ]
  },
  {
   "cell_type": "code",
   "execution_count": null,
   "metadata": {
    "ExecuteTime": {
     "end_time": "2018-10-15T08:07:07.546945Z",
     "start_time": "2018-10-15T08:07:07.541725Z"
    }
   },
   "outputs": [],
   "source": [
    "# however, how was I so sure that I did not mutate the string but I created a new one? I have got proof!\n",
    "s1 = \"cat\"\n",
    "s2 = \"b\" + s1[1] + s1[2]\n",
    "print(s1)\n",
    "print(s2)"
   ]
  },
  {
   "cell_type": "code",
   "execution_count": null,
   "metadata": {
    "ExecuteTime": {
     "end_time": "2018-10-14T05:14:10.604890Z",
     "start_time": "2018-10-14T05:14:10.600964Z"
    }
   },
   "outputs": [],
   "source": [
    "# based on the information above, what do you think would be the output to the following code? \n",
    "\n",
    "s1 = \"I like \"\n",
    "s2 = s1\n",
    "s2 = s2 + \"ice-cream\"\n",
    "print(s1)\n",
    "print(s2)"
   ]
  },
  {
   "cell_type": "code",
   "execution_count": null,
   "metadata": {
    "ExecuteTime": {
     "end_time": "2018-10-14T05:15:08.811788Z",
     "start_time": "2018-10-14T05:15:08.807991Z"
    }
   },
   "outputs": [],
   "source": [
    "# lets talk about lists, that are MUTABLE! what does that mean?\n",
    "\n",
    "s1 = [\"I\",\"like\"]\n",
    "s2 = s1\n",
    "s2.append(\"ice-cream\")\n",
    "print(s1)\n",
    "print(s2)"
   ]
  },
  {
   "cell_type": "code",
   "execution_count": null,
   "metadata": {
    "ExecuteTime": {
     "end_time": "2018-10-15T08:07:32.107047Z",
     "start_time": "2018-10-15T08:07:32.103615Z"
    }
   },
   "outputs": [],
   "source": [
    "# this means that after modifying s2 as a string python makes a new string variable all together\n",
    "s1 = \"I like \"\n",
    "s2 = s1\n",
    "s2 = s2 + \"ice-cream\"\n",
    "print(s1)\n",
    "print(s2)"
   ]
  },
  {
   "cell_type": "code",
   "execution_count": null,
   "metadata": {
    "ExecuteTime": {
     "end_time": "2018-10-15T08:07:40.275074Z",
     "start_time": "2018-10-15T08:07:40.271561Z"
    }
   },
   "outputs": [],
   "source": [
    "# it means that s1 and s2 are accessing the same location in memory of computer \n",
    "s1 = [\"I\",\"like\"]\n",
    "s2 = s1\n",
    "s2.append(\"ice-cream\")\n",
    "print(s1)\n",
    "print(s2)\n",
    "\n",
    "# here is a nice chart to explain this: https://stackoverflow.com/questions/6793872/variable-assignment-and-modification-in-python "
   ]
  },
  {
   "cell_type": "code",
   "execution_count": null,
   "metadata": {
    "ExecuteTime": {
     "end_time": "2018-10-14T04:47:09.962538Z",
     "start_time": "2018-10-14T04:47:09.955278Z"
    }
   },
   "outputs": [],
   "source": [
    "# Little recap: what is the difference between the following two for loops?\n",
    "lst = [\"Coco\", \"Toy Story\", \"Cars\", \"Wall E\", \"Monsters, Inc.\", \"The Incredibles\", \"Ratatouille\", \"Up\", \"Brave\", \"Inside Out\"]\n",
    "for i in lst:\n",
    "    print(i)\n",
    "    \n",
    "for i in range(len(lst)):\n",
    "    print(i)"
   ]
  },
  {
   "cell_type": "markdown",
   "metadata": {
    "ExecuteTime": {
     "end_time": "2018-08-29T01:05:33.512684Z",
     "start_time": "2018-08-29T01:05:33.504659Z"
    }
   },
   "source": [
    "# 2. Searching and sorting lists\n",
    "***\n",
    "\n",
    "Now that we have some idea of how lists are better than strings for particular use-cases. Lets look at some more tools that make lists useful."
   ]
  },
  {
   "cell_type": "code",
   "execution_count": null,
   "metadata": {
    "ExecuteTime": {
     "end_time": "2018-10-14T06:35:01.881465Z",
     "start_time": "2018-10-14T06:35:01.877828Z"
    }
   },
   "outputs": [],
   "source": [
    "# searching\n",
    "lst = [\"Coco\", \"Toy Story\", \"Cars\", \"Wall E\", \"Monsters, Inc.\", \"The Incredibles\", \"Ratatouille\", \"Up\", \"Brave\", \"Inside Out\"]\n",
    "location = lst.index(\"Coco\")\n",
    "print(location)"
   ]
  },
  {
   "cell_type": "code",
   "execution_count": null,
   "metadata": {
    "ExecuteTime": {
     "end_time": "2018-10-14T06:35:00.889616Z",
     "start_time": "2018-10-14T06:35:00.885050Z"
    }
   },
   "outputs": [],
   "source": [
    "# searching - what if there are multiple occurences?\n",
    "lst = [\"Coco\", \"Toy Story\", \"Coco\", \"Cars\", \"Wall E\", \"Monsters, Inc.\", \"The Incredibles\", \"Ratatouille\", \"Up\", \"Brave\", \"Inside Out\"]\n",
    "location = lst.index(\"Coco\")\n",
    "print(location)"
   ]
  },
  {
   "cell_type": "code",
   "execution_count": null,
   "metadata": {},
   "outputs": [],
   "source": [
    "# sorting \n",
    "a = [1,4,89,3,0]\n",
    "a.sort()\n",
    "print(a)"
   ]
  },
  {
   "cell_type": "markdown",
   "metadata": {
    "ExecuteTime": {
     "end_time": "2018-08-29T01:05:33.512684Z",
     "start_time": "2018-08-29T01:05:33.504659Z"
    }
   },
   "source": [
    "# 3. Mutator vs. pure functions\n",
    "***\n",
    "\n",
    "We know about searching and sorting at this point, lets get into some taxonomy of such functions on lists and add more functions in our toolbox!    \n",
    "More functions can be found in the documentation [here](https://docs.python.org/3/tutorial/datastructures.html)."
   ]
  },
  {
   "cell_type": "code",
   "execution_count": null,
   "metadata": {
    "ExecuteTime": {
     "end_time": "2018-10-15T08:08:33.068876Z",
     "start_time": "2018-10-15T08:08:33.063838Z"
    }
   },
   "outputs": [],
   "source": [
    "# list mutation (adding something to the list) - what we saw in lecture\n",
    "a_list = [\"coco\", \"cars\"]\n",
    "\n",
    "b = a_list\n",
    "b.append(\"InsideOut\") #notice that this does not have a return \n",
    "print(a_list)\n",
    "print(b)\n",
    "\n",
    "# as you can see, there is no change in ID => we have successfully mutated the list! => append is a MUTATOR FUNCTION\n",
    "# MUTATOR functions do not return anything!"
   ]
  },
  {
   "cell_type": "code",
   "execution_count": null,
   "metadata": {
    "ExecuteTime": {
     "end_time": "2018-10-15T08:08:56.581826Z",
     "start_time": "2018-10-15T08:08:56.576852Z"
    }
   },
   "outputs": [],
   "source": [
    "# list mutation using += or \n",
    "a_list = [\"coco\", \"cars\"]\n",
    "b = a_list\n",
    "b = b + [\"InsideOut\"] #notice this has a return \n",
    "print(a_list)\n",
    "print(b)\n",
    "# this is NOT LIST MUTATION! because it creates a new list with its own ID\n",
    "# It implies we have not been able to mutate the list => += or addition is a PURE FUNCTION for lists"
   ]
  },
  {
   "cell_type": "code",
   "execution_count": null,
   "metadata": {
    "ExecuteTime": {
     "end_time": "2018-10-15T08:09:23.683270Z",
     "start_time": "2018-10-15T08:09:23.679982Z"
    }
   },
   "outputs": [],
   "source": [
    "# list mutation - deletion (mutator function)\n",
    "a_list = [\"A\", \"K\"]\n",
    "b = a_list\n",
    "del b[0] #this does not have a return either\n",
    "print(a_list)\n",
    "print(b)"
   ]
  },
  {
   "cell_type": "code",
   "execution_count": null,
   "metadata": {
    "ExecuteTime": {
     "end_time": "2018-10-14T05:40:35.305440Z",
     "start_time": "2018-10-14T05:40:35.300820Z"
    }
   },
   "outputs": [],
   "source": [
    "# Lecture example - we create a new string, and start using accumulator pattern to accumulate the actual character of the string as long as its not a. If it is a, we add \"z\" instead.\n",
    "def replace(s, r ,t):\n",
    "    # using accumulator pattern\n",
    "    ans = \"\"\n",
    "    for i in s: \n",
    "        if(i == 'a'):\n",
    "            ans = ans + \"z\"\n",
    "        else:\n",
    "            ans = ans + i\n",
    "    return ans\n",
    "        \n",
    "result = replace(\"banana\", \"a\", \"z\")\n",
    "print(result)\n",
    "# so in this case we create a new string and return it! => it is called pure function (although this terminology is not used for string functions since all string functions are pure functions as strings are immutable!)"
   ]
  },
  {
   "cell_type": "code",
   "execution_count": null,
   "metadata": {},
   "outputs": [],
   "source": [
    "# Example: split function\n",
    "s = \"cat,dog,cats,dogs\"\n",
    "lst = s.split(\",\")\n",
    "print(lst)\n",
    "#this is also a pure function"
   ]
  },
  {
   "cell_type": "code",
   "execution_count": null,
   "metadata": {
    "ExecuteTime": {
     "end_time": "2018-10-14T06:05:37.780227Z",
     "start_time": "2018-10-14T06:05:37.776295Z"
    }
   },
   "outputs": [],
   "source": [
    "# make a function that joins a list to form a string:\n",
    "def join_list_string(lst):\n",
    "    # using the accumulator pattern\n",
    "    ans = \"\"\n",
    "    for i in lst:\n",
    "        ans = ans + i\n",
    "    return ans\n",
    "\n",
    "result = join_list_string([\"c\", \"a\", \"t\"])\n",
    "print(result)\n",
    "# this is a pure function, since it takes in a list and does not mutate it!"
   ]
  },
  {
   "cell_type": "code",
   "execution_count": null,
   "metadata": {
    "ExecuteTime": {
     "end_time": "2018-10-14T06:08:09.241548Z",
     "start_time": "2018-10-14T06:08:09.236952Z"
    }
   },
   "outputs": [],
   "source": [
    "# join function - we have a built-in function for what we did above.\n",
    "# Remember cat to bat example?\n",
    "s = \"cat,is,nice\"\n",
    "print(s)\n",
    "s = list(s) # this is a way of converting a string into a list of characters\n",
    "print(s)\n",
    "s[0] = \"b\"\n",
    "print(s)\n",
    "# the problem is, I get a list in the end, but I really wanted a string!\n",
    "joined_string = \"\".join(s)\n",
    "print(joined_string)\n",
    "# this is also a pure function! that accepts lists as a parameter"
   ]
  },
  {
   "cell_type": "code",
   "execution_count": null,
   "metadata": {
    "ExecuteTime": {
     "end_time": "2018-10-14T06:10:17.009675Z",
     "start_time": "2018-10-14T06:10:17.005888Z"
    }
   },
   "outputs": [],
   "source": [
    "# now what if I want to remove all the commas in that initial string, and rather want spaces?\n",
    "s = \"cat,is,nice\"\n",
    "print(s)\n",
    "ans = \"\"\n",
    "for i in s:\n",
    "    if i == \",\":\n",
    "        ans = ans + \" \"\n",
    "    else:\n",
    "        ans = ans + i\n",
    "print(ans)"
   ]
  },
  {
   "cell_type": "code",
   "execution_count": null,
   "metadata": {
    "ExecuteTime": {
     "end_time": "2018-10-14T06:10:24.803836Z",
     "start_time": "2018-10-14T06:10:24.799322Z"
    }
   },
   "outputs": [],
   "source": [
    "# this can also be done really quickly like this:\n",
    "s = \"cat,is,nice\"\n",
    "print(s)\n",
    "lst = s.split(\",\")\n",
    "print(lst)\n",
    "ans = \" \".join(lst)\n",
    "print(ans)"
   ]
  },
  {
   "cell_type": "code",
   "execution_count": null,
   "metadata": {
    "ExecuteTime": {
     "end_time": "2018-10-14T06:36:17.918691Z",
     "start_time": "2018-10-14T06:36:17.915442Z"
    }
   },
   "outputs": [],
   "source": [
    "# sorting is a mutator function\n",
    "a = [1,4,89,3,0, 1001]\n",
    "a.sort() # notice, it does not return anything\n",
    "print(a)\n",
    "\n",
    "# but it can also be a pure function!\n",
    "a = [1,4,89,3,0, 1001]\n",
    "b = sorted(a)\n",
    "print(a)\n",
    "print(b)"
   ]
  },
  {
   "cell_type": "markdown",
   "metadata": {
    "ExecuteTime": {
     "end_time": "2018-08-29T01:05:33.512684Z",
     "start_time": "2018-08-29T01:05:33.504659Z"
    }
   },
   "source": [
    "# 4. Runtime experiments\n",
    "***\n",
    "\n",
    "For homework 6, you will be working on calculating how much time a particular function call takes. In this section we will be discussing in detail, how to do that."
   ]
  },
  {
   "cell_type": "code",
   "execution_count": null,
   "metadata": {
    "ExecuteTime": {
     "end_time": "2018-10-15T08:12:12.628237Z",
     "start_time": "2018-10-15T08:12:12.623067Z"
    }
   },
   "outputs": [],
   "source": [
    "# what is a timing experiment? and why does it matter?\n",
    "import random\n",
    "import time \n",
    "\n",
    "def python_sum(lst):\n",
    "    ans = sum(lst)\n",
    "    return ans\n",
    "\n",
    "def python_len(lst):\n",
    "    ans = len(lst)\n",
    "    return ans\n",
    "\n",
    "def main():\n",
    "    k = 10000\n",
    "    \n",
    "    # https://docs.python.org/3/library/random.html#random.sample\n",
    "    # THIS IS NOT THE SOLUTION FOR YOUR HOMEWORK!\n",
    "    my_list = random.sample(range(1, k*5), k) # generating a list of random numbers of size k\n",
    "\n",
    "    # experiment 1\n",
    "    start = time.time()\n",
    "    python_len(my_list)\n",
    "    end = time.time()\n",
    "    elapsed_1 = end - start\n",
    "    print(\"Python built-in len function takes: \"+str(elapsed_1))\n",
    "    \n",
    "    # experiment 2\n",
    "    start = time.time()\n",
    "    python_sum(my_list)\n",
    "    end = time.time()\n",
    "    elapsed_2 = end - start\n",
    "    print(\"Python built-in sum function takes: \"+str(elapsed_2))\n",
    "    \n",
    "if __name__ == \"__main__\":\n",
    "    main()"
   ]
  },
  {
   "cell_type": "markdown",
   "metadata": {},
   "source": [
    "# PAPER TIME!\n",
    "***\n",
    "Go ahead and solve the exercises on paper!"
   ]
  },
  {
   "cell_type": "markdown",
   "metadata": {},
   "source": [
    "# COMPUTER TIME!\n",
    "***\n",
    "Go ahead and solve the following exercises.\n",
    "And also, please look at the course notes for this week and the last week. Please let us know if you have any questions towards this concept."
   ]
  },
  {
   "cell_type": "markdown",
   "metadata": {},
   "source": [
    "1. Reverse the elements of a list as a pure function. You may not use any list methods to accomplish this. The original list that you gave this function should not be mutated."
   ]
  },
  {
   "cell_type": "code",
   "execution_count": 12,
   "metadata": {},
   "outputs": [
    {
     "name": "stdout",
     "output_type": "stream",
     "text": [
      "[10, 4, 1]\n"
     ]
    }
   ],
   "source": [
    "def reverse_list(ls):\n",
    "    x = []\n",
    "    for i in range(len(ls)-1,-1,-1):\n",
    "        x.append(ls[i])\n",
    "    return x\n",
    "\n",
    "def main():\n",
    "    k = [1,4,10]\n",
    "    new_list = reverse_list(k)\n",
    "    print(new_list)\n",
    "    \n",
    "if __name__ == \"__main__\":\n",
    "    main()"
   ]
  },
  {
   "cell_type": "code",
   "execution_count": null,
   "metadata": {},
   "outputs": [],
   "source": []
  },
  {
   "cell_type": "code",
   "execution_count": null,
   "metadata": {},
   "outputs": [],
   "source": []
  },
  {
   "cell_type": "markdown",
   "metadata": {},
   "source": [
    "2. Write a function that, given two lists and a name in the following format, tells the user what year each name was most popular in. The numbers in the second list are ranks. A lower number indicates higher popularity. Feel free to use the `min` or `max` functions to help you out!\n",
    "\n",
    "```\n",
    "list 1: 2000,2001,2002,2003,2004,2005   \n",
    "list 2: 26,27,27,24,25,25\n",
    "name: Benjamin\n",
    "\n",
    "year = most_popular_year([2000,2001,2002,2003,2004,2005], [26,27,27,24,25,25], \"Benjamin\")\n",
    "``` "
   ]
  },
  {
   "cell_type": "code",
   "execution_count": null,
   "metadata": {},
   "outputs": [],
   "source": [
    "def most_popular_year(year, rank, name):\n",
    "    \n",
    "    \n",
    "def main():\n",
    "    year = most_popular_year([2000,2001,2002,2003,2004,2005], [26,27,27,24,25,25], \"Benjamin\")\n",
    "    \n",
    "if __name__ == \"__main__\":\n",
    "    main()"
   ]
  },
  {
   "cell_type": "code",
   "execution_count": null,
   "metadata": {},
   "outputs": [],
   "source": []
  },
  {
   "cell_type": "code",
   "execution_count": null,
   "metadata": {},
   "outputs": [],
   "source": []
  },
  {
   "cell_type": "markdown",
   "metadata": {},
   "source": [
    "3. Write a function that finds the index of the minimum element of a list."
   ]
  },
  {
   "cell_type": "code",
   "execution_count": 20,
   "metadata": {},
   "outputs": [],
   "source": [
    "def find(ls):\n",
    "    minimum = min(ls)\n",
    "    ind = ls.index(minimum)\n",
    "    return ind\n",
    "def main():\n",
    "    k = [1,35,32,79,536,99,43,2]\n",
    "    answer = find(k)\n",
    "if __name__ == \"__main__\":\n",
    "    main()"
   ]
  },
  {
   "cell_type": "code",
   "execution_count": null,
   "metadata": {},
   "outputs": [],
   "source": []
  },
  {
   "cell_type": "code",
   "execution_count": null,
   "metadata": {},
   "outputs": [],
   "source": []
  },
  {
   "cell_type": "markdown",
   "metadata": {},
   "source": [
    "4. Write a function that given a list of strings, and a letter, prints out all members of the list that begin with the given letter."
   ]
  },
  {
   "cell_type": "code",
   "execution_count": null,
   "metadata": {},
   "outputs": [],
   "source": []
  },
  {
   "cell_type": "code",
   "execution_count": null,
   "metadata": {},
   "outputs": [],
   "source": []
  },
  {
   "cell_type": "code",
   "execution_count": null,
   "metadata": {},
   "outputs": [],
   "source": []
  },
  {
   "cell_type": "markdown",
   "metadata": {},
   "source": [
    "5. Reverse the elements of a list as a mutator function. You may not use any list methods to accomplish this. The original list that you gave this function should be mutated."
   ]
  },
  {
   "cell_type": "code",
   "execution_count": null,
   "metadata": {},
   "outputs": [],
   "source": []
  },
  {
   "cell_type": "markdown",
   "metadata": {},
   "source": [
    "Work on homework 6 if you are done with the questions here :)"
   ]
  }
 ],
 "metadata": {
  "kernelspec": {
   "display_name": "Python 3",
   "language": "python",
   "name": "python3"
  },
  "language_info": {
   "codemirror_mode": {
    "name": "ipython",
    "version": 3
   },
   "file_extension": ".py",
   "mimetype": "text/x-python",
   "name": "python",
   "nbconvert_exporter": "python",
   "pygments_lexer": "ipython3",
   "version": "3.6.5"
  }
 },
 "nbformat": 4,
 "nbformat_minor": 2
}
