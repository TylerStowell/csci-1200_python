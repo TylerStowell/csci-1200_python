{
 "cells": [
  {
   "cell_type": "code",
   "execution_count": null,
   "metadata": {
    "ExecuteTime": {
     "end_time": "2018-09-23T22:34:51.046352Z",
     "start_time": "2018-09-23T22:34:51.042663Z"
    }
   },
   "outputs": [],
   "source": [
    "# You'll fill this part in when it's time to work on computers\n",
    "#\n",
    "# Write your names here: Tyler, Carmine, Adam, Paul, Yunus\n",
    "# \n",
    "# Turn this file in on moodle before you leave lab, even if you haven't finished!\n",
    "# We want to see where you got to!"
   ]
  },
  {
   "cell_type": "markdown",
   "metadata": {},
   "source": [
    "# Lab 6 - CSCI 1200\n",
    "## October 10, 2018\n",
    "***\n",
    "Welcome to the lab, today we will be learning about the following concepts:    \n",
    "1. Loops and Accumulator Pattern Review\n",
    "3. Conditionals & Evaluating logical expressions\n",
    "4. 'not' keyword\n",
    "\n",
    "We will walk through half of this notebook at the beginning of the recitation, and the rest you will be doing in Computer Time!"
   ]
  },
  {
   "cell_type": "markdown",
   "metadata": {},
   "source": [
    "# PAPER TIME!\n",
    "***\n",
    "Go ahead and solve the exercises on paper!"
   ]
  },
  {
   "cell_type": "markdown",
   "metadata": {
    "ExecuteTime": {
     "end_time": "2018-08-29T01:05:33.512684Z",
     "start_time": "2018-08-29T01:05:33.504659Z"
    }
   },
   "source": [
    "# 1. Loops and Accumulator Pattern\n",
    "***\n",
    "\n",
    "Before we talk about the concept of conditionals, let's take some time to review loops and accumulator patterns!"
   ]
  },
  {
   "cell_type": "code",
   "execution_count": null,
   "metadata": {
    "ExecuteTime": {
     "end_time": "2018-10-09T00:15:19.306942Z",
     "start_time": "2018-10-09T00:15:19.300014Z"
    }
   },
   "outputs": [],
   "source": [
    "# What is the output of the following code?\n",
    "total = 0\n",
    "for i in range(1,11):\n",
    "    total = total * i\n",
    "print(total)"
   ]
  },
  {
   "cell_type": "code",
   "execution_count": null,
   "metadata": {
    "ExecuteTime": {
     "end_time": "2018-10-09T00:15:35.341259Z",
     "start_time": "2018-10-09T00:15:35.335379Z"
    }
   },
   "outputs": [],
   "source": [
    "# What is the output of the following code?\n",
    "str1 = \"LAB7\"\n",
    "str2 = \"\"\n",
    "for i in str1:\n",
    "    str2 = str2 * 2 + i\n",
    "    print(str2)"
   ]
  },
  {
   "cell_type": "code",
   "execution_count": null,
   "metadata": {},
   "outputs": [],
   "source": [
    "# revisiting midterm questions\n",
    "def make_lower(s):\n",
    "    return s.lower()  # Line 1\n",
    "\n",
    "def main():\n",
    "    name = \"Chaitan\"\n",
    "    print(\"Hello \" + name)  # Line 2\n",
    "    low = make_lower(name)\n",
    "    print(\"Hello \" + low)   # Line 3\n",
    "    for num in range(len(name)):\n",
    "        low2 = make_lower(\"Hello \" + str(num))\n",
    "        print(low2)\n",
    "\n",
    "if __name__ == \"__main__\":\n",
    "    main()   # Line 4"
   ]
  },
  {
   "cell_type": "code",
   "execution_count": null,
   "metadata": {},
   "outputs": [],
   "source": [
    "mountain = \"BearPeak\"\n",
    "ocean = \"Atlantic\"\n",
    "for index in range(len(mountain)):\n",
    "    print(mountain[index] + ocean[index])"
   ]
  },
  {
   "cell_type": "code",
   "execution_count": null,
   "metadata": {
    "ExecuteTime": {
     "end_time": "2018-10-09T01:41:33.289369Z",
     "start_time": "2018-10-09T01:41:33.283429Z"
    }
   },
   "outputs": [],
   "source": [
    "word = \"giraffe\"\n",
    "converted = \"\"\n",
    "for element in range(len(word) - 1, -1, -2):\n",
    "    converted = converted + word[element]\n",
    "    print(element)\n",
    "print(converted)"
   ]
  },
  {
   "cell_type": "markdown",
   "metadata": {
    "ExecuteTime": {
     "end_time": "2018-08-29T01:05:33.512684Z",
     "start_time": "2018-08-29T01:05:33.504659Z"
    }
   },
   "source": [
    "# 2. Conditionals & Evaluating logical expressions\n",
    "***\n",
    "\n",
    "Now lets talk about this new powerful tool called Conditionals. You are familiar with it because of pseudocode questions in the past homeworks and labs. You also covered some part of it on Monday's lecture. Let's look at some code now!"
   ]
  },
  {
   "cell_type": "code",
   "execution_count": null,
   "metadata": {},
   "outputs": [],
   "source": [
    "# Lecture example - Big number or done?\n",
    "ask = \"number? \"\n",
    "ans = int(input(ask))\n",
    "if ans > 100:\n",
    "    print(\"Big number\")\n",
    "else:\n",
    "    print(\"done\")"
   ]
  },
  {
   "cell_type": "code",
   "execution_count": null,
   "metadata": {},
   "outputs": [],
   "source": [
    "# lets place a boolean here\n",
    "if True:\n",
    "    print(\"working\")\n",
    "else:\n",
    "    print(\"not working\")"
   ]
  },
  {
   "cell_type": "code",
   "execution_count": null,
   "metadata": {},
   "outputs": [],
   "source": [
    "# what are these operators? and what do they do?\n",
    "# These are called comparator operators and they help us construct a logical expression!\n",
    "# A logical expression can be evaluated to True or False\n",
    "\n",
    "# Example: <, >\n",
    "if 5 < 7: \n",
    "    print(\"hahaha\")\n",
    "else:\n",
    "    print(\"lalala\")"
   ]
  },
  {
   "cell_type": "code",
   "execution_count": null,
   "metadata": {},
   "outputs": [],
   "source": [
    "if 700 < 500: \n",
    "    print(\"lololo\")\n",
    "else:\n",
    "    print(\"lalala\")"
   ]
  },
  {
   "cell_type": "code",
   "execution_count": null,
   "metadata": {
    "ExecuteTime": {
     "end_time": "2018-10-09T00:45:32.538996Z",
     "start_time": "2018-10-09T00:45:32.534290Z"
    }
   },
   "outputs": [],
   "source": [
    "# Example: <=, >=\n",
    "if 8 <= 9:\n",
    "    print(\"beeeep\")\n",
    "else:\n",
    "    print(\"boooop\")"
   ]
  },
  {
   "cell_type": "code",
   "execution_count": null,
   "metadata": {},
   "outputs": [],
   "source": [
    "# now what if I flip these operators? <= to =< \n",
    "if 8 =< 9:\n",
    "    print(\"whoa\")"
   ]
  },
  {
   "cell_type": "code",
   "execution_count": null,
   "metadata": {},
   "outputs": [],
   "source": [
    "# ==\n",
    "if 8 == 9:\n",
    "    print(\"yeah!\")\n",
    "else:\n",
    "    print(\"Oh no!\")"
   ]
  },
  {
   "cell_type": "code",
   "execution_count": null,
   "metadata": {},
   "outputs": [],
   "source": [
    "# != \n",
    "if 8 != 9:\n",
    "    print(\"yeah!\")\n",
    "else:\n",
    "    print(\"Oh no!\")"
   ]
  },
  {
   "cell_type": "code",
   "execution_count": null,
   "metadata": {
    "ExecuteTime": {
     "end_time": "2018-10-09T00:47:41.308230Z",
     "start_time": "2018-10-09T00:47:41.303787Z"
    }
   },
   "outputs": [],
   "source": [
    "# so we know that > < >= <= == != is doing something. What's really happening, let's print it out one by one!\n",
    "# These are logical expressions\n",
    "print(8 != 9)"
   ]
  },
  {
   "cell_type": "code",
   "execution_count": null,
   "metadata": {
    "ExecuteTime": {
     "end_time": "2018-10-09T00:53:30.980410Z",
     "start_time": "2018-10-09T00:53:30.976471Z"
    }
   },
   "outputs": [],
   "source": [
    "# not only numbers, we can also compare strings! #ASCII\n",
    "print(\"cat\" > \"cataa\")\n",
    "print(\"cat\" > \"cas\")\n",
    "print(\"cat\" > \"bat\")\n",
    "print(\"Cat\" > \"cat\")"
   ]
  },
  {
   "cell_type": "code",
   "execution_count": null,
   "metadata": {},
   "outputs": [],
   "source": [
    "# comparing the length of two strings is also possible\n",
    "if(len(\"cat\") == len(\"catcat\")):\n",
    "    print(\"catcat is greater than cat\")\n",
    "else:\n",
    "    print(\"no its not\")"
   ]
  },
  {
   "cell_type": "code",
   "execution_count": null,
   "metadata": {
    "ExecuteTime": {
     "end_time": "2018-10-09T01:03:17.583186Z",
     "start_time": "2018-10-09T01:03:17.579265Z"
    }
   },
   "outputs": [],
   "source": [
    "# recap from Monday's lecture, comparator operators have second-to-lowest precedence! \n",
    "print( 7 + 4 * (2 < 4) )\n",
    "print(7 + 4 * 2 < 4 ) # becomes 15 < 4 and it prints out False"
   ]
  },
  {
   "cell_type": "code",
   "execution_count": null,
   "metadata": {},
   "outputs": [],
   "source": [
    "# using the fact about precedence\n",
    "x = int(input(\"Enter a number?: \"))\n",
    "if x % 2 == 0: # x % 2 is evaluated first, then it is compared with 0\n",
    "    print(\"x is an even number\")\n",
    "else:\n",
    "    print(\"x is an odd number\")"
   ]
  },
  {
   "cell_type": "code",
   "execution_count": null,
   "metadata": {
    "ExecuteTime": {
     "end_time": "2018-10-09T00:22:50.859172Z",
     "start_time": "2018-10-09T00:22:50.855509Z"
    }
   },
   "outputs": [],
   "source": [
    "# Guess what! Tree house is back! (with a few extra steps though) [FOR LOOPS AND CONDITIONALS]\n",
    "\n",
    "# 1. greet the user\n",
    "print(\"Hey! I see that you want to make a tree house.\")\n",
    "\n",
    "# 2. make the list\n",
    "requirements = [\"1 sturdy tree\", \"20 large boards\", \"100 nails\", \"50 feet of rope\", \"1 name plate\"]\n",
    "\n",
    "for x in range(1,len(requirements)): # 3. Go to the next item (say x) in the list until list ends\n",
    "    # 4. Ask user if they have item x\n",
    "    ask = \"Do you have \" + requirements[x] + \"?: \"\n",
    "    ans = input(ask)\n",
    "    if(ans == \"N\"): \n",
    "        # 5. If not, remind user to get the current item, go to step 3\n",
    "        print(\"please get \"+ requirements[x])\n",
    "    else:\n",
    "        #6. If yes, acknowledge and go to step 3\n",
    "        print(\"Good Job! You are one step closer to building a nice tree house!\")\n",
    "        \n",
    "print(\"You are done, my friend!\")"
   ]
  },
  {
   "cell_type": "code",
   "execution_count": null,
   "metadata": {},
   "outputs": [],
   "source": [
    "# Given what we learnt above, predict the output of the following code!\n",
    "a = 10\n",
    "if a == \"10\":\n",
    "    print(\"Hi\")\n",
    "elif a == 20:\n",
    "    print(\"Hello\")\n",
    "else:\n",
    "    print(\"Bye\")\n"
   ]
  },
  {
   "cell_type": "code",
   "execution_count": null,
   "metadata": {
    "ExecuteTime": {
     "end_time": "2018-10-09T01:11:08.565452Z",
     "start_time": "2018-10-09T01:11:08.560638Z"
    }
   },
   "outputs": [],
   "source": [
    "# something similar to fortune teller homework, \"and\" and \"or\" logical operators! (lowest precedence)\n",
    "def fido(n): \n",
    "    if n % 2 != 0 or n % 5 == 0:\n",
    "        return \"Bark!\"\n",
    "    elif n % 2 == 0 and n % 6 == 0:\n",
    "        return \"Fetch!\"\n",
    "    elif n % 2 != 0:\n",
    "        return \"Sit!\"\n",
    "    elif n % 2 == 0:\n",
    "        return \"Run!\"\n",
    "    else:\n",
    "        return \"Still!\"\n",
    "\n",
    "# what do you think is going to print out below?\n",
    "def main():\n",
    "    print(fido(30))\n",
    "    \n",
    "if __name__ == \"__main__\":\n",
    "    main()"
   ]
  },
  {
   "cell_type": "code",
   "execution_count": null,
   "metadata": {},
   "outputs": [],
   "source": [
    "# \"in\"\n",
    "if \"a\" in \"cat\":\n",
    "    print(\"yeah\")\n",
    "else:\n",
    "    print(\"nope\")"
   ]
  },
  {
   "cell_type": "code",
   "execution_count": null,
   "metadata": {
    "ExecuteTime": {
     "end_time": "2018-10-09T01:22:25.525517Z",
     "start_time": "2018-10-09T01:22:25.521929Z"
    }
   },
   "outputs": [],
   "source": [
    "# how about this?\n",
    "if \"a\" in [\"llama\", \"alpaca\", \"hahaha\"]:\n",
    "    print(\"yeah\")\n",
    "else:\n",
    "    print(\"nope\")"
   ]
  },
  {
   "cell_type": "code",
   "execution_count": null,
   "metadata": {
    "ExecuteTime": {
     "end_time": "2018-10-09T01:45:19.502244Z",
     "start_time": "2018-10-09T01:45:19.497878Z"
    }
   },
   "outputs": [],
   "source": [
    "# adding every other character of a string to a new string, but without using range function?\n",
    "# all odd characters! (consider 0 to be even)\n",
    "str1 = \"akakakakakakakaka\"\n",
    "str2 = \"\"\n",
    "for i in range(0, len(str1)):\n",
    "    if(i % 2):\n",
    "        str2 = str2 + str1[i]\n",
    "print(str2)"
   ]
  },
  {
   "cell_type": "markdown",
   "metadata": {
    "ExecuteTime": {
     "end_time": "2018-08-29T01:05:33.512684Z",
     "start_time": "2018-08-29T01:05:33.504659Z"
    }
   },
   "source": [
    "# 3. 'not' keyword\n",
    "***\n",
    "\n",
    "Lets play with boolean in a different way. "
   ]
  },
  {
   "cell_type": "code",
   "execution_count": null,
   "metadata": {},
   "outputs": [],
   "source": [
    "# not keyword\n",
    "if not True:\n",
    "    print(\"working\")\n",
    "else:\n",
    "    print(\"not working\")"
   ]
  },
  {
   "cell_type": "code",
   "execution_count": null,
   "metadata": {},
   "outputs": [],
   "source": [
    "# lets repeat all the questions in last sub part but with 'not' keyword"
   ]
  },
  {
   "cell_type": "code",
   "execution_count": null,
   "metadata": {},
   "outputs": [],
   "source": [
    "# before we start with paper time, lets clarify one of the questions here: \n",
    "x = # ?\n",
    "y = # ?\n",
    "if y > 10 and x > 10:\n",
    "    # point A\n",
    "    print(\"giraffe\")\n",
    "elif x % 2 == 1 or y % 2 == 1:\n",
    "    print(\"lion\")\n",
    "else:\n",
    "    # point B\n",
    "    print(\"alligator\")\n",
    "\n",
    "print(\"hippopotamus\")"
   ]
  },
  {
   "cell_type": "code",
   "execution_count": null,
   "metadata": {},
   "outputs": [],
   "source": [
    "# "
   ]
  },
  {
   "cell_type": "markdown",
   "metadata": {},
   "source": [
    "# COMPUTER TIME!\n",
    "***\n",
    "Go ahead and solve the following exercises"
   ]
  },
  {
   "cell_type": "markdown",
   "metadata": {},
   "source": [
    "Warm-up 1. Write a function called `odds_until` that takes one integer as a parameter and prints out all odd numbers until and including that number, if it is odd.\n",
    "Example: `odds_until(7)` should print `1 3 5 7`"
   ]
  },
  {
   "cell_type": "code",
   "execution_count": 56,
   "metadata": {},
   "outputs": [
    {
     "name": "stdout",
     "output_type": "stream",
     "text": [
      "1 3 5 7 \n",
      " \n",
      "1 3 5 7 9 11 \n"
     ]
    }
   ],
   "source": [
    "def odds_untill(x):\n",
    "    i = \"\"\n",
    "    for n in range(1,x+1,2):\n",
    "        i = i+str(n)+ \" \"\n",
    "    print(i)\n",
    "        \n",
    "odds_untill(7)\n",
    "print(\" \")\n",
    "odds_untill(11)"
   ]
  },
  {
   "cell_type": "code",
   "execution_count": null,
   "metadata": {},
   "outputs": [],
   "source": []
  },
  {
   "cell_type": "markdown",
   "metadata": {},
   "source": [
    "Warm-up 2. Write a function called `star_box` that takes two integers as arguments, `width` and `heigh`t and prints out a box of stars that is `width` stars wide and that has as `height` rows.  \n",
    "Example: `star_box(5, 2)` should print  \n",
    "```\n",
    "*****\n",
    "*****\n",
    "```"
   ]
  },
  {
   "cell_type": "code",
   "execution_count": 46,
   "metadata": {},
   "outputs": [
    {
     "name": "stdout",
     "output_type": "stream",
     "text": [
      "+++++\n",
      "+++++\n"
     ]
    }
   ],
   "source": [
    "def star_box(columns,rows):\n",
    "    for x in range(rows):\n",
    "        print(\"+\" * columns)\n",
    "        \n",
    "star_box(5,2)"
   ]
  },
  {
   "cell_type": "code",
   "execution_count": null,
   "metadata": {},
   "outputs": [],
   "source": []
  },
  {
   "cell_type": "code",
   "execution_count": null,
   "metadata": {},
   "outputs": [],
   "source": []
  },
  {
   "cell_type": "markdown",
   "metadata": {},
   "source": [
    "1. Write a function ```divides_by``` that takes an integer as a parameter and prints all the numbers from 2 until that integer that it is divisible by.   \n",
    "Example: ```divides_by(12)``` should print out ```2 3 4 6```   \n",
    "```divides_by(22)``` should print out ```2 11```"
   ]
  },
  {
   "cell_type": "code",
   "execution_count": 58,
   "metadata": {},
   "outputs": [
    {
     "name": "stdout",
     "output_type": "stream",
     "text": [
      "2\n",
      "3\n",
      "4\n",
      "6\n"
     ]
    }
   ],
   "source": [
    "def divides_by(x):\n",
    "    for n in range(2,x):\n",
    "        if x % n == 0:\n",
    "            print(n)\n",
    "divides_by(12)"
   ]
  },
  {
   "cell_type": "code",
   "execution_count": null,
   "metadata": {},
   "outputs": [],
   "source": []
  },
  {
   "cell_type": "code",
   "execution_count": null,
   "metadata": {},
   "outputs": [],
   "source": []
  },
  {
   "cell_type": "markdown",
   "metadata": {},
   "source": [
    "2. Write a function ```remove_letter``` that takes two strings as parameters and removes occurrences of the second string from the first string, then returns the new string. You may assume that the second parameter is always one letter long.   \n",
    "Example:\n",
    "```remove_letter(\"banana\", \"a\")``` gives ```\"bnn\"```   \n",
    "```remove_letter(\"apple\", \"p\")``` gives ```\"ale\"```   \n",
    "```remove_letter(\"watermelon\", \"q\")``` gives ```\"watermelon\"```   "
   ]
  },
  {
   "cell_type": "code",
   "execution_count": 64,
   "metadata": {},
   "outputs": [
    {
     "name": "stdout",
     "output_type": "stream",
     "text": [
      "bnn\n"
     ]
    }
   ],
   "source": [
    "def remove_letter(str1,str2):\n",
    "    i = \"\"\n",
    "    for letter in str1:\n",
    "        if letter != str2:\n",
    "            i += letter\n",
    "    print(i)\n",
    "remove_letter(\"banana\",\"a\")\n",
    "\n",
    "#have an accumulator varaible that you'll return\n",
    "#in a for loop, iterate through every letter in str1\n",
    "#if the letter is not equal to str2, add it to the accumulator\n",
    "#else do nothing"
   ]
  },
  {
   "cell_type": "code",
   "execution_count": null,
   "metadata": {},
   "outputs": [],
   "source": []
  },
  {
   "cell_type": "code",
   "execution_count": null,
   "metadata": {},
   "outputs": [],
   "source": []
  },
  {
   "cell_type": "markdown",
   "metadata": {},
   "source": [
    "3. Write a function ```magic_string``` that, given two parameters ```target``` and ```source``` of same length, returns a string that has its even characters the same as target's even characters and odd characters the same as source's odd characters.     \n",
    "Example: ```magic_string(\"ABCD\", \"WXYZ\")``` gives output ```WBYD```"
   ]
  },
  {
   "cell_type": "code",
   "execution_count": 80,
   "metadata": {
    "ExecuteTime": {
     "end_time": "2018-10-09T01:53:09.782966Z",
     "start_time": "2018-10-09T01:53:09.779785Z"
    }
   },
   "outputs": [
    {
     "name": "stdout",
     "output_type": "stream",
     "text": [
      "string lengths not even\n"
     ]
    }
   ],
   "source": [
    "def magic_string(target,source):\n",
    "    if len(target) == len(source):\n",
    "        sentence = \"\"\n",
    "        for element in range(len(target)):\n",
    "            if element % 2==1:\n",
    "                sentence += source[element-1] + target[element]\n",
    "        print(sentence)\n",
    "    else:\n",
    "        print(\"string lengths not even\")\n",
    "magic_string(\"ABCD\",\"WXYZ\")"
   ]
  },
  {
   "cell_type": "code",
   "execution_count": null,
   "metadata": {},
   "outputs": [],
   "source": []
  },
  {
   "cell_type": "code",
   "execution_count": null,
   "metadata": {},
   "outputs": [],
   "source": []
  },
  {
   "cell_type": "markdown",
   "metadata": {},
   "source": [
    "4. Write a function ```printing_numbers``` that, given a list like ```[1.43, 1.33, 'GFG', 1, 'NO', None, 'G', True]``` as a parameter, prints the sum of all the elements that have the type ```float``` or ```int``` like, ```3.76```."
   ]
  },
  {
   "cell_type": "code",
   "execution_count": null,
   "metadata": {
    "ExecuteTime": {
     "end_time": "2018-10-09T02:12:11.157794Z",
     "start_time": "2018-10-09T02:12:11.152017Z"
    }
   },
   "outputs": [],
   "source": []
  },
  {
   "cell_type": "code",
   "execution_count": null,
   "metadata": {},
   "outputs": [],
   "source": []
  },
  {
   "cell_type": "code",
   "execution_count": null,
   "metadata": {},
   "outputs": [],
   "source": []
  },
  {
   "cell_type": "markdown",
   "metadata": {},
   "source": [
    "5. Write a function ```replace_to_star``` that, given a string like ```\"i am a string\"``` as a parameter, makes a new string which has ```*``` at every whitespace in the parameter and returns it, like ```i*am*a*string```."
   ]
  },
  {
   "cell_type": "code",
   "execution_count": null,
   "metadata": {},
   "outputs": [],
   "source": []
  },
  {
   "cell_type": "code",
   "execution_count": null,
   "metadata": {},
   "outputs": [],
   "source": []
  },
  {
   "cell_type": "code",
   "execution_count": null,
   "metadata": {},
   "outputs": [],
   "source": []
  },
  {
   "cell_type": "markdown",
   "metadata": {},
   "source": [
    "Work on the fortune teller homework if you are done with the questions here :)"
   ]
  }
 ],
 "metadata": {
  "kernelspec": {
   "display_name": "Python 3",
   "language": "python",
   "name": "python3"
  },
  "language_info": {
   "codemirror_mode": {
    "name": "ipython",
    "version": 3
   },
   "file_extension": ".py",
   "mimetype": "text/x-python",
   "name": "python",
   "nbconvert_exporter": "python",
   "pygments_lexer": "ipython3",
   "version": "3.6.5"
  }
 },
 "nbformat": 4,
 "nbformat_minor": 2
}
