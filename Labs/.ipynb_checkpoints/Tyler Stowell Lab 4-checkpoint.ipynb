{
 "cells": [
  {
   "cell_type": "code",
   "execution_count": null,
   "metadata": {
    "ExecuteTime": {
     "end_time": "2018-09-07T03:51:57.074105Z",
     "start_time": "2018-09-07T03:51:57.070472Z"
    }
   },
   "outputs": [],
   "source": [
    "# You'll fill this part in when it's time to work on computers\n",
    "#\n",
    "# Write your names here: Tyler Stowell, carmine Lonardo, Adam Hayzs, Yunus Sanni, Paul Goluskin, bryce\n",
    "# \n",
    "# Turn this file in on moodle before you leave lab, even if you haven't finished!\n",
    "# We want to see where you got to!"
   ]
  },
  {
   "cell_type": "markdown",
   "metadata": {},
   "source": [
    "# Lab 4 - CSCI 1200\n",
    "## September 19, 2018\n",
    "***\n",
    "Welcome to the lab, today we will be learning about the following concepts:    \n",
    "1. Pseudocode\n",
    "2. Functions with parameters\n",
    "3. Functions with return values\n",
    "\n",
    "We will walk through half of this notebook at the beginning of the recitation, and the rest you will be doing in Computer Time!"
   ]
  },
  {
   "cell_type": "markdown",
   "metadata": {
    "ExecuteTime": {
     "end_time": "2018-08-29T01:05:33.512684Z",
     "start_time": "2018-08-29T01:05:33.504659Z"
    }
   },
   "source": [
    "# 1. Pseudocode\n",
    "***\n",
    "\n",
    "Before starting to code a solution to a problem, it is always better to think about it and design your solution on a paper. Pseudocode helps us refine our solution/ideas in a format that can be easily translated into code. Let's look at how we can go about thinking pseudocode before writing the actual code:"
   ]
  },
  {
   "cell_type": "code",
   "execution_count": null,
   "metadata": {
    "ExecuteTime": {
     "end_time": "2018-09-14T05:13:50.752312Z",
     "start_time": "2018-09-14T05:13:50.744185Z"
    }
   },
   "outputs": [],
   "source": [
    "# Write pseudocode for a program that figures out how many materials\n",
    "# the user is missing to build a treehouse. \n",
    "# A treehouse takes the following: \n",
    "# 1 sturdy tree\n",
    "# 20 large boards\n",
    "# 100 nails\n",
    "# 50 feet of rope\n",
    "# 1 name plate\n"
   ]
  },
  {
   "cell_type": "code",
   "execution_count": null,
   "metadata": {},
   "outputs": [],
   "source": [
    "# Write pseudocode for a program that calculates the area of any triangle,\n",
    "# given the lengths of base and height. \n",
    "# Because this is pseudocode, you don’t actually have to write down the \n",
    "# formulas that you would use, just describe the steps to getting the \n",
    "# information that you need.\n"
   ]
  },
  {
   "cell_type": "markdown",
   "metadata": {},
   "source": [
    "# 2. Functions & Parameters\n",
    "***\n",
    "\n",
    "In order for the function to do processing, we need to provide it with some input. This input is also called parameters. Let's see some examples below:"
   ]
  },
  {
   "cell_type": "code",
   "execution_count": null,
   "metadata": {
    "ExecuteTime": {
     "end_time": "2018-09-07T04:32:17.465324Z",
     "start_time": "2018-09-07T04:32:17.458491Z"
    }
   },
   "outputs": [],
   "source": [
    "# # What are parameters\n",
    "\n",
    "# def my_function(s):\n",
    "#     print(\"Hello from a function\")\n",
    "#     print(\"I have been given the parameter: \"+s)\n",
    "\n",
    "# my_function(\"internet\")"
   ]
  },
  {
   "cell_type": "code",
   "execution_count": null,
   "metadata": {
    "ExecuteTime": {
     "end_time": "2018-09-07T04:34:13.749804Z",
     "start_time": "2018-09-07T04:34:13.747108Z"
    }
   },
   "outputs": [],
   "source": [
    "# Writing function to convert seconds to hours,\n",
    "# but this time using parameters instead of asking user's input\n",
    "\n",
    "# define the function with name \"convert_seconds_to_hours\" that \n",
    "# accepts \"seconds\" as a parameter\n",
    "#     # first get minutes from seconds\n",
    "#     # then get hours from minutes\n",
    "#     # print the number of hours\n",
    "\n",
    "# call the convert function here"
   ]
  },
  {
   "cell_type": "markdown",
   "metadata": {},
   "source": [
    "# 3. Functions & Returns\n",
    "***\n",
    "\n",
    "In order for the function to finish processing and give back output, we have the option to \"return\" something from the function. Let's see how that works!"
   ]
  },
  {
   "cell_type": "code",
   "execution_count": null,
   "metadata": {
    "ExecuteTime": {
     "end_time": "2018-09-07T04:48:50.736201Z",
     "start_time": "2018-09-07T04:48:50.733128Z"
    }
   },
   "outputs": [],
   "source": [
    "# def my_function(param):\n",
    "#     print(\"Hello from a function. You have passed the parameter: \"+param)\n",
    "#     print(\"I am returning a word now.\")\n",
    "#     ret = \"Apple \" + param\n",
    "#     return ret\n",
    "\n",
    "# receive = my_function(\"csci1200\")\n",
    "# print(\"I am outside the function and I have received: \"+receive)"
   ]
  },
  {
   "cell_type": "code",
   "execution_count": null,
   "metadata": {},
   "outputs": [],
   "source": [
    "# Let's write another version of our convert_seconds_to_hours function\n",
    "# define the function with name \"convert_seconds_to_hours\" \n",
    "# that takes in \"seconds\" as a parameter\n",
    "#     # first get minutes from seconds\n",
    "#     # then get hours from minutes\n",
    "#     # return number of hours\n",
    "\n",
    "# define \"main\" function\n",
    "#     # welcome the user to the program\n",
    "#     # ask for the number of seconds to convert to hours\n",
    "#     # call the \"convert_seconds_to_hours\" function to calculate hours from seconds\n",
    "#     # print the number of hours here\n",
    "\n",
    "# call the \"main\" function\n",
    "# if __name__ == \"__main__\":\n",
    "#     main()"
   ]
  },
  {
   "cell_type": "markdown",
   "metadata": {},
   "source": [
    "# PAPER TIME!\n",
    "***\n",
    "Go ahead and solve the exercises on paper!"
   ]
  },
  {
   "cell_type": "markdown",
   "metadata": {},
   "source": [
    "# COMPUTER TIME!\n",
    "***\n",
    "Go ahead and solve the following exercises"
   ]
  },
  {
   "cell_type": "markdown",
   "metadata": {},
   "source": [
    "1. Write a function, ```square_area```, that takes one parameter, ```size```, calculates the area of a square, and __returns__ it. For example, a call of ```square_area(4)``` would print the output: ```\"This square is 16 units squared.\"``` The area of a square is calculated according to the equation ```area = size * size```."
   ]
  },
  {
   "cell_type": "code",
   "execution_count": null,
   "metadata": {},
   "outputs": [],
   "source": [
    "def square_area(size):\n",
    "    area = str(size * size)\n",
    "    return area\n",
    "\n",
    "x=square_area(4)\n",
    "print(\"This square is \"+ x + \" units squared.\")"
   ]
  },
  {
   "cell_type": "code",
   "execution_count": null,
   "metadata": {},
   "outputs": [],
   "source": []
  },
  {
   "cell_type": "code",
   "execution_count": null,
   "metadata": {},
   "outputs": [],
   "source": []
  },
  {
   "cell_type": "markdown",
   "metadata": {},
   "source": [
    "2)\tWrite a function, ```triangle_area```, that takes one parameter, ```size```, calculates the area of a triangle with height and base equal to size, and __returns__ it. For example, a call of ```triangle_area(4)``` would print the output: ```\"This triangle is 8 units squared.\"``` The area of a triangle is calculated according to the equation ```area = (½)* base * height```."
   ]
  },
  {
   "cell_type": "code",
   "execution_count": null,
   "metadata": {},
   "outputs": [],
   "source": [
    "def triangle_area(size):\n",
    "    area = str(int((1/2)*(size * size)))\n",
    "    return area\n",
    "\n",
    "y=triangle_area(4)\n",
    "print(\"This triangle is \" + y + \" units squared\")"
   ]
  },
  {
   "cell_type": "code",
   "execution_count": null,
   "metadata": {},
   "outputs": [],
   "source": []
  },
  {
   "cell_type": "code",
   "execution_count": null,
   "metadata": {},
   "outputs": [],
   "source": []
  },
  {
   "cell_type": "markdown",
   "metadata": {},
   "source": [
    "3)\tWrite a function, ```rectangle_area```, that takes two parameters, ```width``` and ```height```, calculates the area of a rectangle, and returns it. For example, a call of ```rectangle_area(4, 10)``` would print the output: ```\"This rectangle is 40 units squared.\"``` The area of a rectangle is calculated according to the equation ```area = width * height```."
   ]
  },
  {
   "cell_type": "code",
   "execution_count": null,
   "metadata": {},
   "outputs": [],
   "source": [
    "def rectangle_area(width, height):\n",
    "    area = str(int(width * height))\n",
    "    return area\n",
    "z = rectangle_area(4,10)\n",
    "print(\"This rectangle is \" + z + \" units squared.\")"
   ]
  },
  {
   "cell_type": "code",
   "execution_count": null,
   "metadata": {},
   "outputs": [],
   "source": []
  },
  {
   "cell_type": "code",
   "execution_count": null,
   "metadata": {},
   "outputs": [],
   "source": []
  },
  {
   "cell_type": "markdown",
   "metadata": {},
   "source": [
    "4) Write a main function for all the three functions in Questions 1 to 3: in your main function you should ask the user for the size of each shape, calculate the area of each shape, and print out the area. Remember that because you are using returns, you should print out the areas in your main function. Finally, use the `max` function to find which area was the largest!"
   ]
  },
  {
   "cell_type": "code",
   "execution_count": 5,
   "metadata": {},
   "outputs": [
    {
     "name": "stdout",
     "output_type": "stream",
     "text": [
      "size of square: 4\n",
      "16\n",
      "size of triangle: 3\n"
     ]
    },
    {
     "ename": "NameError",
     "evalue": "name 'triangle_area' is not defined",
     "output_type": "error",
     "traceback": [
      "\u001b[1;31m---------------------------------------------------------------------------\u001b[0m",
      "\u001b[1;31mNameError\u001b[0m                                 Traceback (most recent call last)",
      "\u001b[1;32m<ipython-input-5-036a5d0f1d9b>\u001b[0m in \u001b[0;36m<module>\u001b[1;34m()\u001b[0m\n\u001b[0;32m     21\u001b[0m \u001b[1;33m\u001b[0m\u001b[0m\n\u001b[0;32m     22\u001b[0m \u001b[1;32mif\u001b[0m \u001b[0m__name__\u001b[0m \u001b[1;33m==\u001b[0m \u001b[1;34m\"__main__\"\u001b[0m\u001b[1;33m:\u001b[0m\u001b[1;33m\u001b[0m\u001b[0m\n\u001b[1;32m---> 23\u001b[1;33m     \u001b[0mmain\u001b[0m\u001b[1;33m(\u001b[0m\u001b[1;33m)\u001b[0m\u001b[1;33m\u001b[0m\u001b[0m\n\u001b[0m",
      "\u001b[1;32m<ipython-input-5-036a5d0f1d9b>\u001b[0m in \u001b[0;36mmain\u001b[1;34m()\u001b[0m\n\u001b[0;32m     12\u001b[0m \u001b[1;33m\u001b[0m\u001b[0m\n\u001b[0;32m     13\u001b[0m     \u001b[0msize_triangle\u001b[0m \u001b[1;33m=\u001b[0m \u001b[0mint\u001b[0m\u001b[1;33m(\u001b[0m\u001b[0minput\u001b[0m\u001b[1;33m(\u001b[0m\u001b[1;34m\"size of triangle: \"\u001b[0m\u001b[1;33m)\u001b[0m\u001b[1;33m)\u001b[0m\u001b[1;33m\u001b[0m\u001b[0m\n\u001b[1;32m---> 14\u001b[1;33m     \u001b[0my\u001b[0m \u001b[1;33m=\u001b[0m \u001b[0mtriangle_area\u001b[0m\u001b[1;33m(\u001b[0m\u001b[0msize_triangle\u001b[0m\u001b[1;33m)\u001b[0m\u001b[1;33m\u001b[0m\u001b[0m\n\u001b[0m\u001b[0;32m     15\u001b[0m     \u001b[0mprint\u001b[0m\u001b[1;33m(\u001b[0m\u001b[0my\u001b[0m\u001b[1;33m)\u001b[0m\u001b[1;33m\u001b[0m\u001b[0m\n\u001b[0;32m     16\u001b[0m \u001b[1;33m\u001b[0m\u001b[0m\n",
      "\u001b[1;31mNameError\u001b[0m: name 'triangle_area' is not defined"
     ]
    }
   ],
   "source": [
    "#def square_area(size):\n",
    "    #area = str(size * size)\n",
    "    #return area\n",
    "\n",
    "#x=square_area(4)\n",
    "#print(\"This square is \"+ x + \" units squared.\")\n",
    "\n",
    "def main():\n",
    "    size_square = int(input(\"size of square: \"))\n",
    "    x = square_area(size_square)\n",
    "    print(x)\n",
    "    \n",
    "    size_triangle = int(input(\"size of triangle: \"))\n",
    "    y = triangle_area(size_triangle)\n",
    "    print(y)\n",
    "    \n",
    "    size_rectangle = int(input(\"size of rectangle: \"))\n",
    "    z = rectangle_area(size_rectangle)\n",
    "    print(z)\n",
    "    \n",
    "\n",
    "if __name__ == \"__main__\":\n",
    "    main()"
   ]
  },
  {
   "cell_type": "code",
   "execution_count": null,
   "metadata": {},
   "outputs": [],
   "source": []
  },
  {
   "cell_type": "markdown",
   "metadata": {},
   "source": [
    "5) (challenge problem) Write a function, countdown, that takes the current year and absolute day (as in the question from problem 1 in the pseudocode section) and the future year and absolute day as parameters and returns out how many days are between now and the event you are counting down to. You may assume that the future year and future absolute day are never in the past and that leap years don’t exist."
   ]
  },
  {
   "cell_type": "code",
   "execution_count": null,
   "metadata": {},
   "outputs": [],
   "source": []
  }
 ],
 "metadata": {
  "kernelspec": {
   "display_name": "Python 3",
   "language": "python",
   "name": "python3"
  },
  "language_info": {
   "codemirror_mode": {
    "name": "ipython",
    "version": 3
   },
   "file_extension": ".py",
   "mimetype": "text/x-python",
   "name": "python",
   "nbconvert_exporter": "python",
   "pygments_lexer": "ipython3",
   "version": "3.6.5"
  }
 },
 "nbformat": 4,
 "nbformat_minor": 2
}
