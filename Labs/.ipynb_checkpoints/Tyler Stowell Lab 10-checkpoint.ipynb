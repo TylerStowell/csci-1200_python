{
 "cells": [
  {
   "cell_type": "code",
   "execution_count": null,
   "metadata": {
    "ExecuteTime": {
     "end_time": "2018-09-23T22:34:51.046352Z",
     "start_time": "2018-09-23T22:34:51.042663Z"
    }
   },
   "outputs": [],
   "source": [
    "# You'll fill this part in when it's time to work on computers\n",
    "#\n",
    "# Write your names here: Tyler Stowell, Adam, Bryce, Carmine\n",
    "# \n",
    "# Turn this file in on moodle before you leave lab, even if you haven't finished!\n",
    "# We want to see where you got to!"
   ]
  },
  {
   "cell_type": "markdown",
   "metadata": {},
   "source": [
    "# Lab 10 - CSCI 1200\n",
    "## October 31, 2018\n",
    "***\n",
    "Welcome to the lab, today we will be learning about:\n",
    "1. Nested lists\n",
    "2. Reading csv file as nested lists\n",
    "\n",
    "We will walk through half of this notebook at the beginning of the recitation, and the rest you will be doing in Computer Time!"
   ]
  },
  {
   "cell_type": "markdown",
   "metadata": {
    "ExecuteTime": {
     "end_time": "2018-08-29T01:05:33.512684Z",
     "start_time": "2018-08-29T01:05:33.504659Z"
    }
   },
   "source": [
    "# Nested Lists\n",
    "***\n",
    "\n",
    "In this section, we will see examples of computing with nested lists."
   ]
  },
  {
   "cell_type": "code",
   "execution_count": 3,
   "metadata": {
    "ExecuteTime": {
     "end_time": "2018-10-28T22:12:11.723570Z",
     "start_time": "2018-10-28T22:12:11.717987Z"
    }
   },
   "outputs": [
    {
     "name": "stdout",
     "output_type": "stream",
     "text": [
      "[[1, 2, 100, 1000], [9800, 343, 1443, 5454], [33355, 623, 436, 777, 876, 543], [43, 65, 2, 87, 6]]\n"
     ]
    }
   ],
   "source": [
    "# what is a nested list and how to think about it!\n",
    "a = [ [1,2,100,1000], [9800, 343, 1443 ,5454], [33355, 623, 436, 777, 876, 543], [43, 65,2,87, 6] ]\n",
    "print(a)\n"
   ]
  },
  {
   "cell_type": "code",
   "execution_count": 8,
   "metadata": {
    "ExecuteTime": {
     "end_time": "2018-10-28T22:57:18.574680Z",
     "start_time": "2018-10-28T22:57:18.571544Z"
    }
   },
   "outputs": [
    {
     "name": "stdout",
     "output_type": "stream",
     "text": [
      "2\n"
     ]
    }
   ],
   "source": [
    "ls = a[0]\n",
    "print(ls[1])"
   ]
  },
  {
   "cell_type": "code",
   "execution_count": 9,
   "metadata": {
    "ExecuteTime": {
     "end_time": "2018-10-28T22:57:28.931806Z",
     "start_time": "2018-10-28T22:57:28.927018Z"
    }
   },
   "outputs": [
    {
     "name": "stdout",
     "output_type": "stream",
     "text": [
      "2\n"
     ]
    }
   ],
   "source": [
    "print(a[0][1])"
   ]
  },
  {
   "cell_type": "code",
   "execution_count": 10,
   "metadata": {
    "ExecuteTime": {
     "end_time": "2018-10-28T22:20:08.004058Z",
     "start_time": "2018-10-28T22:20:08.000140Z"
    }
   },
   "outputs": [
    {
     "name": "stdout",
     "output_type": "stream",
     "text": [
      "[1103, 17040, 36610, 203]\n"
     ]
    }
   ],
   "source": [
    "def row_sum(lst):\n",
    "    ans = []\n",
    "    for i in lst:\n",
    "        ans.append(sum(i))\n",
    "    return ans\n",
    "\n",
    "# testing out this function\n",
    "print(row_sum(a))"
   ]
  },
  {
   "cell_type": "code",
   "execution_count": 11,
   "metadata": {
    "ExecuteTime": {
     "end_time": "2018-10-28T22:24:34.034384Z",
     "start_time": "2018-10-28T22:24:34.030167Z"
    }
   },
   "outputs": [
    {
     "name": "stdout",
     "output_type": "stream",
     "text": [
      "[275.75, 4260.0, 6101.666666666667, 40.6]\n"
     ]
    }
   ],
   "source": [
    "def row_mean(lst):\n",
    "    ans = []\n",
    "    for i in lst:\n",
    "        mean = sum(i) / len(i)\n",
    "        ans.append( mean )\n",
    "    return ans\n",
    "\n",
    "print(row_mean(a))"
   ]
  },
  {
   "cell_type": "code",
   "execution_count": 15,
   "metadata": {
    "ExecuteTime": {
     "end_time": "2018-10-28T22:17:04.160060Z",
     "start_time": "2018-10-28T22:17:04.155401Z"
    }
   },
   "outputs": [
    {
     "name": "stdout",
     "output_type": "stream",
     "text": [
      "[1, 343, 436, 2]\n"
     ]
    }
   ],
   "source": [
    "def row_min(lst):\n",
    "    ans = []\n",
    "    for i in a:\n",
    "        minimum = min(i)\n",
    "        ans.append(minimum)\n",
    "    return ans\n",
    "print(row_min(a))"
   ]
  },
  {
   "cell_type": "code",
   "execution_count": 16,
   "metadata": {
    "ExecuteTime": {
     "end_time": "2018-10-28T22:29:27.727932Z",
     "start_time": "2018-10-28T22:29:27.723425Z"
    }
   },
   "outputs": [
    {
     "name": "stdout",
     "output_type": "stream",
     "text": [
      "[1000, 9800, 33355, 87]\n"
     ]
    }
   ],
   "source": [
    "def row_max(lst):\n",
    "    ans = []\n",
    "    for i in a:\n",
    "        maximum = max(i)\n",
    "        ans.append(maximum)\n",
    "    return ans\n",
    "\n",
    "print(row_max(a))"
   ]
  },
  {
   "cell_type": "code",
   "execution_count": 17,
   "metadata": {
    "ExecuteTime": {
     "end_time": "2018-10-28T22:30:48.989724Z",
     "start_time": "2018-10-28T22:30:48.985390Z"
    }
   },
   "outputs": [
    {
     "name": "stdout",
     "output_type": "stream",
     "text": [
      "[2.0, 0.035, 0.018677859391395595, 1.5116279069767442]\n"
     ]
    }
   ],
   "source": [
    "def row_ratio(lst):\n",
    "    ans = []\n",
    "    for i in a:\n",
    "        ratio = i[1] / i[0]\n",
    "        ans.append(ratio)\n",
    "    return ans\n",
    "\n",
    "print(row_ratio(a))"
   ]
  },
  {
   "cell_type": "code",
   "execution_count": 4,
   "metadata": {},
   "outputs": [],
   "source": [
    "# let's take a look at using on of these objects to index into a list\n",
    "data = [[1, \"Jon Snow\", 10], [2, \"Jaqen H'ghar\", 100], [4, \"Tyrion Lannister\", 85], [6, \"Arya Stark\", 45]]\n"
   ]
  },
  {
   "cell_type": "code",
   "execution_count": 5,
   "metadata": {},
   "outputs": [],
   "source": [
    "class GoTData:\n",
    "    id = 0\n",
    "    name = 1\n",
    "    skills = 2"
   ]
  },
  {
   "cell_type": "code",
   "execution_count": 6,
   "metadata": {},
   "outputs": [
    {
     "data": {
      "text/plain": [
       "10"
      ]
     },
     "execution_count": 6,
     "metadata": {},
     "output_type": "execute_result"
    }
   ],
   "source": [
    "# when we use this GoTData object, we write GoTData.name_of_col\n",
    "# GoTData.id\n",
    "# GoTData.name\n",
    "data[0][GoTData.skills]\n",
    "\n",
    "# this is so that we don't have random numbers floating around in our \n",
    "# code so that we can understand what column we're talking about!"
   ]
  },
  {
   "cell_type": "code",
   "execution_count": 7,
   "metadata": {},
   "outputs": [
    {
     "name": "stdout",
     "output_type": "stream",
     "text": [
      "100\n"
     ]
    }
   ],
   "source": [
    "# Write a function to find the maximum value in the \"skills\" column\n",
    "def find_max(lst):\n",
    "    ans = 0\n",
    "    for i in lst:\n",
    "        if i[GoTData.skills]>ans:\n",
    "            ans = i[GoTData.skills]\n",
    "    print(ans)\n",
    "find_max(data)"
   ]
  },
  {
   "cell_type": "code",
   "execution_count": null,
   "metadata": {},
   "outputs": [],
   "source": [
    "# Write a function that returns the list of ids that correspond to rows \n",
    "# that have a last name that starts with ‘S’. \n",
    "# Start by just printing out the rows that have names with a \n",
    "# last name that starts with \"S\""
   ]
  },
  {
   "cell_type": "markdown",
   "metadata": {},
   "source": [
    "# Reading csv files as nested lists\n",
    "***\n",
    "\n",
    "We will generalize the functions in previous section to use over large files."
   ]
  },
  {
   "cell_type": "code",
   "execution_count": 22,
   "metadata": {
    "ExecuteTime": {
     "end_time": "2018-10-28T22:36:08.332289Z",
     "start_time": "2018-10-28T22:36:08.251795Z"
    }
   },
   "outputs": [
    {
     "name": "stdout",
     "output_type": "stream",
     "text": [
      "lastname,firstname,cultural_studies,visual_art,mechanics,electricity&magnetism\n",
      "\n",
      "Thompson,Angel,72,97,97,93\n",
      "\n",
      "Hall,Isaac,87,87,53,65\n",
      "\n",
      "Procell,Monica,76,16,75,70\n",
      "\n",
      "Simpson,Anthony,96,75,98,77\n",
      "\n",
      "Cabezas,Sherman,28,91,87,99\n",
      "\n",
      "Milazzo,Lucy,76,81,92,82\n",
      "\n",
      "Mcgrath,Santiago,71,97,88,85\n",
      "\n",
      "Wilder,William,91,71,91,93\n",
      "\n",
      "Shafer,Gordon,82,100,86,62\n",
      "\n",
      "Meehl,Alacia,91,97,57,100\n",
      "\n",
      "Foster,Aaliyah,100,20,93,76\n",
      "\n",
      "Dolan,Sean,74,96,61,85\n",
      "\n",
      "Stiltner,Mark,90,92,100,58\n",
      "\n",
      "Dick,Austin,29,95,71,87\n",
      "\n",
      "Bench,Connor,57,87,98,8\n",
      "\n",
      "Mckeever,Aurora,30,65,70,76\n",
      "\n",
      "Sheridan,Chase,88,76,68,94\n",
      "\n",
      "Banke,Daniel,69,96,97,100\n",
      "\n",
      "Gallia,Matthew,78,72,85,99\n",
      "\n",
      "Mattia,Jacob,67,65,83,86\n",
      "\n",
      "Clanton,Austin,96,91,81,95\n",
      "\n",
      "Schoning,Cielo,86,82,23,82\n",
      "\n",
      "Reinhold,Cassandra,81,88,53,81\n",
      "\n",
      "Nicholas,Jhoan,31,87,40,46\n",
      "\n",
      "Lugo,Deontae,79,87,85,41\n",
      "\n",
      "Koss,Tahleah,84,74,80,93\n",
      "\n",
      "Pendley,Skylar,63,79,99,71\n",
      "\n",
      "Howard,Hayden,88,64,59,73\n",
      "\n",
      "Perry,Isaiah,57,90,86,95\n",
      "\n",
      "Wright,Trenton,81,98,89,85\n",
      "\n",
      "Dearborn,Christian,88,84,87,76\n",
      "\n",
      "Faraon,Xavier,86,5,73,26\n",
      "\n",
      "Calamari,Ernesto,93,96,72,100\n",
      "\n",
      "Dellorusso,Beatriz,99,100,89,70\n",
      "\n",
      "Scott,John,74,94,100,97\n",
      "\n",
      "Hitch,Joseph,99,84,85,1\n",
      "\n",
      "Huerta,Cheyanne,67,89,52,68\n",
      "\n",
      "Bloxham,Kurt,98,98,76,27\n",
      "\n",
      "Alexander,Cesar,86,60,80,98\n",
      "\n",
      "Orozco,Rachael,99,71,94,15\n",
      "\n",
      "Hackett,Naomi,72,70,43,97\n",
      "\n",
      "Stinson,Jacob,97,29,93,64\n",
      "\n",
      "Nicholson,Kyle,91,99,29,70\n",
      "\n",
      "Wheaton,Dylana,71,89,99,94\n",
      "\n",
      "Taylor,Ashley,94,97,86,82\n",
      "\n",
      "Smith,Jazmine,72,74,90,100\n",
      "\n",
      "Raub,Thomas,83,10,88,73\n",
      "\n",
      "Andrews,Justin,87,85,48,81\n",
      "\n",
      "Wolfgram,Corinne,69,89,80,89\n",
      "\n",
      "Mazur,Leonela,70,80,62,89\n",
      "\n",
      "Miller,Daniel,87,72,99,54\n",
      "\n",
      "Meadows,Sarai,77,69,98,89\n",
      "\n",
      "Kleis,Luke,95,87,89,56\n",
      "\n",
      "Branch,Emilee,37,57,84,43\n",
      "\n",
      "Don,Ethan,76,96,100,9\n",
      "\n",
      "Eshoo,Thomas,58,74,81,89\n",
      "\n",
      "Fink,Delonta,81,85,84,41\n",
      "\n",
      "Magana,Stormi,91,62,84,89\n",
      "\n",
      "Crawn,Colter,71,6,71,85\n",
      "\n",
      "Schnabel,Dennis,89,86,56,41\n",
      "\n",
      "Alphonse,Johnathon,95,96,98,100\n",
      "\n",
      "Brown,Justin,85,77,17,62\n",
      "\n",
      "Thomas,Jesus,75,91,62,70\n",
      "\n",
      "Gibson,Joseph,100,100,82,89\n",
      "\n",
      "Beal,Madelyn,97,77,60,87\n",
      "\n",
      "Mcgray,Carlos,87,81,97,82\n",
      "\n",
      "Viola,John,61,76,77,84\n",
      "\n",
      "Healy,Abby,73,59,88,54\n",
      "\n",
      "Graybeal,Carson,80,22,83,82\n",
      "\n",
      "Obrien,Joseph,98,66,90,100\n",
      "\n",
      "Baker,Matthew,89,84,77,72\n",
      "\n",
      "Odonnell,Caley,81,90,66,73\n",
      "\n",
      "Bryson,Ahmed,98,100,100,97\n",
      "\n",
      "Noguera,Hector,21,86,88,62\n",
      "\n",
      "Poplin,Demarius,97,63,9,87\n",
      "\n",
      "Johnson,Hallie,29,81,97,33\n",
      "\n",
      "Bergeron,Jashae,86,7,81,87\n",
      "\n",
      "Medina,Braden,87,93,44,89\n",
      "\n",
      "Case,Mayra,99,96,71,95\n",
      "\n",
      "Dilday,Chasey,81,92,100,82\n",
      "\n",
      "King,Sylvia,82,80,12,7\n",
      "\n",
      "Rogers,Luke,64,75,66,83\n",
      "\n",
      "Storch,John,89,89,26,45\n",
      "\n",
      "Berry,Hunter,84,86,75,93\n",
      "\n",
      "Hill,Zachary,80,71,89,75\n",
      "\n",
      "Schweitzer,Eligah,77,61,92,81\n",
      "\n",
      "Gallimore,Rodney,47,94,100,100\n",
      "\n",
      "Hughes,William,74,96,97,87\n",
      "\n",
      "Nichols,Damien,85,75,64,80\n",
      "\n",
      "Chapa,Patrick,95,100,85,80\n",
      "\n",
      "Latham,Timothy,65,80,88,66\n",
      "\n",
      "Corso,Andrew,62,80,92,95\n",
      "\n",
      "Zack,Jose,95,75,90,87\n",
      "\n",
      "Baynes,Grayson,82,78,60,87\n",
      "\n",
      "Chagaris,Diego,96,86,95,80\n",
      "\n",
      "Call,Justin,66,98,64,90\n",
      "\n",
      "Jarrett,Dallas,88,88,99,95\n",
      "\n",
      "Colvin,Abbey,88,88,100,61\n",
      "\n",
      "Sotelo,Kenneth,91,83,78,87\n",
      "\n",
      "Collins,Rebeca,89,82,59,61\n",
      "\n"
     ]
    }
   ],
   "source": [
    "f = open(\"students_medium.csv\", \"r\")\n",
    "for line in f:\n",
    "    print(line)\n",
    "f.close()"
   ]
  },
  {
   "cell_type": "code",
   "execution_count": 25,
   "metadata": {
    "ExecuteTime": {
     "end_time": "2018-10-28T22:46:11.892842Z",
     "start_time": "2018-10-28T22:46:11.885055Z"
    },
    "scrolled": true
   },
   "outputs": [
    {
     "name": "stdout",
     "output_type": "stream",
     "text": [
      "100\n"
     ]
    }
   ],
   "source": [
    "# task - read data function that makes a \n",
    "# list of lists that ignores the header in the\n",
    "# data file\n",
    "def read_data(file_name):\n",
    "    f = open(file_name, \"r\")\n",
    "    # read in the first line\n",
    "    headers = f.readline().strip().split(\",\")\n",
    "    # now look at all of the rows\n",
    "    rows = []\n",
    "    for line in f:\n",
    "        rows.append(line.strip().split(\",\"))\n",
    "    f.close()\n",
    "    return rows\n",
    "\n",
    "# testing this function\n",
    "lst = read_data(\"students_medium.csv\")\n",
    "print(len(lst))"
   ]
  },
  {
   "cell_type": "markdown",
   "metadata": {},
   "source": [
    "# COMPUTER TIME!\n",
    "***\n",
    "Go ahead and solve the following exercises.\n",
    "And also, please look at the course notes for this week and the last week. Please let us know if you have any questions towards this concept."
   ]
  },
  {
   "cell_type": "markdown",
   "metadata": {},
   "source": [
    "1. Call the `read_data` function on the file `students_medium.csv`. What type are the elements in the sub-lists?\n",
    "\n",
    "Write a function `convert_types` that takes a list of lists as a parameter and converts all strings that are numeric (use the `string.isnumeric()` function) to integers. This function should mutate your original list!\n",
    "\n",
    "You'll use this converted list of lists for the following questions."
   ]
  },
  {
   "cell_type": "code",
   "execution_count": 23,
   "metadata": {},
   "outputs": [
    {
     "name": "stdout",
     "output_type": "stream",
     "text": [
      "[]\n"
     ]
    }
   ],
   "source": [
    "def read_data():\n",
    "    f = open(\"students_medium.csv\", \"r\")\n",
    "    rows = []\n",
    "    for line in f:\n",
    "        rows.append(line.strip().split(\",\"))\n",
    "    return rows\n",
    "    f.close()\n",
    "print(read_data())\n",
    "# def convert_types(rows):\n",
    "\n",
    "    \n"
   ]
  },
  {
   "cell_type": "code",
   "execution_count": null,
   "metadata": {},
   "outputs": [],
   "source": []
  },
  {
   "cell_type": "code",
   "execution_count": null,
   "metadata": {},
   "outputs": [],
   "source": []
  },
  {
   "cell_type": "markdown",
   "metadata": {},
   "source": [
    "2. Using the following `StudentData` object, print the `firstname` column of the data for the first 10 rows."
   ]
  },
  {
   "cell_type": "code",
   "execution_count": null,
   "metadata": {},
   "outputs": [],
   "source": [
    "# Be sure to run this cell!\n",
    "\n",
    "class StudentData:\n",
    "    lastname = 0\n",
    "    firstname = 1\n",
    "    course1 = 2\n",
    "    course2 = 3\n",
    "    course3 = 4\n",
    "    course4 = 5"
   ]
  },
  {
   "cell_type": "code",
   "execution_count": 17,
   "metadata": {},
   "outputs": [
    {
     "ename": "TypeError",
     "evalue": "'_io.TextIOWrapper' object is not subscriptable",
     "output_type": "error",
     "traceback": [
      "\u001b[1;31m---------------------------------------------------------------------------\u001b[0m",
      "\u001b[1;31mTypeError\u001b[0m                                 Traceback (most recent call last)",
      "\u001b[1;32m<ipython-input-17-c2ffac027179>\u001b[0m in \u001b[0;36m<module>\u001b[1;34m()\u001b[0m\n\u001b[0;32m      6\u001b[0m         \u001b[0mprint\u001b[0m\u001b[1;33m(\u001b[0m\u001b[0mfile\u001b[0m\u001b[1;33m[\u001b[0m\u001b[0mi\u001b[0m\u001b[1;33m]\u001b[0m\u001b[1;33m[\u001b[0m\u001b[0mStudentData\u001b[0m\u001b[1;33m.\u001b[0m\u001b[0mfirstname\u001b[0m\u001b[1;33m]\u001b[0m\u001b[1;33m)\u001b[0m\u001b[1;33m\u001b[0m\u001b[0m\n\u001b[0;32m      7\u001b[0m     \u001b[0mfile\u001b[0m\u001b[1;33m.\u001b[0m\u001b[0mclose\u001b[0m\u001b[1;33m(\u001b[0m\u001b[1;33m)\u001b[0m\u001b[1;33m\u001b[0m\u001b[0m\n\u001b[1;32m----> 8\u001b[1;33m \u001b[0mfirstname\u001b[0m\u001b[1;33m(\u001b[0m\u001b[1;33m)\u001b[0m\u001b[1;33m\u001b[0m\u001b[0m\n\u001b[0m",
      "\u001b[1;32m<ipython-input-17-c2ffac027179>\u001b[0m in \u001b[0;36mfirstname\u001b[1;34m()\u001b[0m\n\u001b[0;32m      4\u001b[0m         \u001b[0mprint\u001b[0m\u001b[1;33m(\u001b[0m\u001b[0mline\u001b[0m\u001b[1;33m)\u001b[0m\u001b[1;33m\u001b[0m\u001b[0m\n\u001b[0;32m      5\u001b[0m     \u001b[1;32mfor\u001b[0m \u001b[0mi\u001b[0m \u001b[1;32min\u001b[0m \u001b[0mrange\u001b[0m\u001b[1;33m(\u001b[0m\u001b[1;36m11\u001b[0m\u001b[1;33m)\u001b[0m\u001b[1;33m:\u001b[0m\u001b[1;33m\u001b[0m\u001b[0m\n\u001b[1;32m----> 6\u001b[1;33m         \u001b[0mprint\u001b[0m\u001b[1;33m(\u001b[0m\u001b[0mfile\u001b[0m\u001b[1;33m[\u001b[0m\u001b[0mi\u001b[0m\u001b[1;33m]\u001b[0m\u001b[1;33m[\u001b[0m\u001b[0mStudentData\u001b[0m\u001b[1;33m.\u001b[0m\u001b[0mfirstname\u001b[0m\u001b[1;33m]\u001b[0m\u001b[1;33m)\u001b[0m\u001b[1;33m\u001b[0m\u001b[0m\n\u001b[0m\u001b[0;32m      7\u001b[0m     \u001b[0mfile\u001b[0m\u001b[1;33m.\u001b[0m\u001b[0mclose\u001b[0m\u001b[1;33m(\u001b[0m\u001b[1;33m)\u001b[0m\u001b[1;33m\u001b[0m\u001b[0m\n\u001b[0;32m      8\u001b[0m \u001b[0mfirstname\u001b[0m\u001b[1;33m(\u001b[0m\u001b[1;33m)\u001b[0m\u001b[1;33m\u001b[0m\u001b[0m\n",
      "\u001b[1;31mTypeError\u001b[0m: '_io.TextIOWrapper' object is not subscriptable"
     ]
    }
   ],
   "source": [
    "def firstname():\n",
    "    file = open(\"students_medium.csv\",\"r\")\n",
    "    for line in file:\n",
    "        print(line)\n",
    "    for i in range(11):\n",
    "        print(file[i][StudentData.firstname])\n",
    "    file.close()\n",
    "firstname()"
   ]
  },
  {
   "cell_type": "code",
   "execution_count": null,
   "metadata": {},
   "outputs": [],
   "source": []
  },
  {
   "cell_type": "markdown",
   "metadata": {},
   "source": [
    "3. Make a function, `count_firstname_letter`, that takes two parameters: a list of lists as generated from the `read_data` function on the file `students_medium.csv`, and a string letter. This function should print the number of people whose first name begins with the given letter (case-insensitive). "
   ]
  },
  {
   "cell_type": "code",
   "execution_count": null,
   "metadata": {},
   "outputs": [],
   "source": []
  },
  {
   "cell_type": "code",
   "execution_count": null,
   "metadata": {},
   "outputs": [],
   "source": []
  },
  {
   "cell_type": "code",
   "execution_count": null,
   "metadata": {},
   "outputs": [],
   "source": []
  },
  {
   "cell_type": "markdown",
   "metadata": {},
   "source": [
    "Get started on the project if you are done with the questions here :)"
   ]
  },
  {
   "cell_type": "code",
   "execution_count": null,
   "metadata": {},
   "outputs": [],
   "source": []
  }
 ],
 "metadata": {
  "kernelspec": {
   "display_name": "Python 3",
   "language": "python",
   "name": "python3"
  },
  "language_info": {
   "codemirror_mode": {
    "name": "ipython",
    "version": 3
   },
   "file_extension": ".py",
   "mimetype": "text/x-python",
   "name": "python",
   "nbconvert_exporter": "python",
   "pygments_lexer": "ipython3",
   "version": "3.6.5"
  }
 },
 "nbformat": 4,
 "nbformat_minor": 2
}
