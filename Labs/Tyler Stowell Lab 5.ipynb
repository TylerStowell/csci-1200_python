{
 "cells": [
  {
   "cell_type": "code",
   "execution_count": 1,
   "metadata": {
    "ExecuteTime": {
     "end_time": "2018-09-23T22:34:51.046352Z",
     "start_time": "2018-09-23T22:34:51.042663Z"
    }
   },
   "outputs": [],
   "source": [
    "# Write your names here: Tyler Stowell"
   ]
  },
  {
   "cell_type": "markdown",
   "metadata": {},
   "source": [
    "# Lab 5 - CSCI 1200\n",
    "## September 26, 2018\n",
    "***\n",
    "Welcome to the lab, today we will be learning about the following concepts:    \n",
    "1. Loops on lists\n",
    "2. Loops on strings\n",
    "3. Revisiting Functions\n",
    "\n",
    "We will walk through half of this notebook at the beginning of the recitation, and the rest you will be doing in Computer Time!"
   ]
  },
  {
   "cell_type": "markdown",
   "metadata": {
    "ExecuteTime": {
     "end_time": "2018-08-29T01:05:33.512684Z",
     "start_time": "2018-08-29T01:05:33.504659Z"
    }
   },
   "source": [
    "# 1. Loops on lists\n",
    "***\n",
    "\n",
    "So far we learnt about variables through which we process one object at a time. Now lets talk about how we can process a collection of objects at a time using loops!"
   ]
  },
  {
   "cell_type": "code",
   "execution_count": 2,
   "metadata": {
    "ExecuteTime": {
     "end_time": "2018-09-23T22:34:51.053516Z",
     "start_time": "2018-09-23T22:34:51.048281Z"
    }
   },
   "outputs": [
    {
     "name": "stdout",
     "output_type": "stream",
     "text": [
      "Felix teaches CSCI 1200\n",
      "AK teaches CSCI 1200\n",
      "Denver teaches CSCI 1200\n",
      "Kaelan teaches CSCI 1200\n",
      "Suchi teaches CSCI 1200\n",
      "Chaitan teaches CSCI 1200\n",
      "Hussain teaches CSCI 1200\n",
      "Nick teaches CSCI 1200\n",
      "Josiah teaches CSCI 1200\n",
      "Aiden teaches CSCI 1200\n"
     ]
    }
   ],
   "source": [
    "# What is a loop and why do we care about it?\n",
    "\n",
    "for i in [\"Felix\", \"AK\", \"Denver\", \"Kaelan\", \"Suchi\", \"Chaitan\", \"Hussain\", \"Nick\", \"Josiah\", \"Aiden\"]:\n",
    "    print(i + \" teaches CSCI 1200\")\n",
    "    # for taking care of repetitive tasks!"
   ]
  },
  {
   "cell_type": "code",
   "execution_count": 3,
   "metadata": {
    "ExecuteTime": {
     "end_time": "2018-09-23T22:34:51.063362Z",
     "start_time": "2018-09-23T22:34:51.058625Z"
    }
   },
   "outputs": [
    {
     "name": "stdout",
     "output_type": "stream",
     "text": [
      "hello user, I see that you want to make a tree house. I have a checklist for you: \n",
      "please get 1 sturdy tree\n",
      "please get 20 large boards\n",
      "please get 100 nails\n",
      "please get 50 feet of rope\n",
      "please get 1 name plate\n"
     ]
    }
   ],
   "source": [
    "# reference to tree house example from last recitation!\n",
    "\n",
    "# 1. greet the user\n",
    "# 2. make the list\n",
    "# 3. go to the next item in the list\n",
    "# 4. remind user to get the current item\n",
    "# 5. go to step 3\n",
    "\n",
    "print(\"hello user, I see that you want to make a tree house. I have a checklist for you: \")\n",
    "\n",
    "# this is what range function is actually used for! \n",
    "for x in [\"1 sturdy tree\", \"20 large boards\", \"100 nails\", \"50 feet of rope\", \"1 name plate\"]:\n",
    "    print(\"please get \"+ x)"
   ]
  },
  {
   "cell_type": "code",
   "execution_count": 4,
   "metadata": {
    "ExecuteTime": {
     "end_time": "2018-09-23T22:34:51.070806Z",
     "start_time": "2018-09-23T22:34:51.065451Z"
    }
   },
   "outputs": [
    {
     "name": "stdout",
     "output_type": "stream",
     "text": [
      "55\n"
     ]
    }
   ],
   "source": [
    "# Add numbers from 1 through 10 without loops\n",
    "\n",
    "x = 1 + 2 + 3 + 4 + 5 + 6 + 7 + 8 + 9 + 10\n",
    "print(x)"
   ]
  },
  {
   "cell_type": "code",
   "execution_count": 5,
   "metadata": {
    "ExecuteTime": {
     "end_time": "2018-09-23T22:34:51.077830Z",
     "start_time": "2018-09-23T22:34:51.073428Z"
    }
   },
   "outputs": [
    {
     "name": "stdout",
     "output_type": "stream",
     "text": [
      "55\n"
     ]
    }
   ],
   "source": [
    "# Add numbers from 1 through 10 with loop on a list of numbers\n",
    "\n",
    "# This is what we call the accumulator pattern!\n",
    "\n",
    "x = 0\n",
    "for i in [1,2,3,4,5,6,7,8,9,10]:\n",
    "    x = x + i\n",
    "    \n",
    "print(x)\n",
    "\n",
    "# but what if I had asked to add up to 100 numbers? or even 1000?"
   ]
  },
  {
   "cell_type": "code",
   "execution_count": 6,
   "metadata": {
    "ExecuteTime": {
     "end_time": "2018-09-23T22:34:51.083547Z",
     "start_time": "2018-09-23T22:34:51.080015Z"
    }
   },
   "outputs": [
    {
     "name": "stdout",
     "output_type": "stream",
     "text": [
      "45\n"
     ]
    }
   ],
   "source": [
    "# Add numbers from 1 through 10 with loops using range function (homework 2 reference)\n",
    "\n",
    "x = 0\n",
    "for i in range(10):\n",
    "    x = x + i\n",
    "    \n",
    "print(x)\n",
    "# why is the result here 45 and not 55?"
   ]
  },
  {
   "cell_type": "code",
   "execution_count": 7,
   "metadata": {
    "ExecuteTime": {
     "end_time": "2018-09-23T22:34:51.089306Z",
     "start_time": "2018-09-23T22:34:51.085803Z"
    }
   },
   "outputs": [
    {
     "name": "stdout",
     "output_type": "stream",
     "text": [
      "55\n"
     ]
    }
   ],
   "source": [
    "# because range function does not include the last argument! It can be fixed as follows:\n",
    "# if we increase the value of the number given to range(), then it will include 10 as well\n",
    "\n",
    "x = 0\n",
    "for i in range(10 + 1):\n",
    "    x = x + i\n",
    "    \n",
    "print(x)"
   ]
  },
  {
   "cell_type": "code",
   "execution_count": 8,
   "metadata": {
    "ExecuteTime": {
     "end_time": "2018-09-23T22:34:51.095530Z",
     "start_time": "2018-09-23T22:34:51.091524Z"
    }
   },
   "outputs": [
    {
     "name": "stdout",
     "output_type": "stream",
     "text": [
      "5\n",
      "6\n",
      "7\n",
      "8\n",
      "9\n",
      "10\n",
      "11\n",
      "12\n",
      "13\n",
      "14\n"
     ]
    }
   ],
   "source": [
    "# you can also give a starting point other than 0, say you want to print numbers from 5 to 15\n",
    "\n",
    "for i in range(5,15):\n",
    "    print(i)"
   ]
  },
  {
   "cell_type": "code",
   "execution_count": 9,
   "metadata": {
    "ExecuteTime": {
     "end_time": "2018-09-23T22:34:51.101874Z",
     "start_time": "2018-09-23T22:34:51.096948Z"
    }
   },
   "outputs": [
    {
     "name": "stdout",
     "output_type": "stream",
     "text": [
      "5\n",
      "6\n",
      "7\n",
      "8\n",
      "9\n",
      "10\n",
      "11\n",
      "12\n",
      "13\n",
      "14\n",
      "15\n"
     ]
    }
   ],
   "source": [
    "# missed out on 15? here is how to fix it!\n",
    "# remember that range function does not include the last argument!\n",
    "\n",
    "for i in range(5,16):\n",
    "    print(i)"
   ]
  },
  {
   "cell_type": "code",
   "execution_count": 10,
   "metadata": {
    "ExecuteTime": {
     "end_time": "2018-09-23T22:34:51.109051Z",
     "start_time": "2018-09-23T22:34:51.104526Z"
    }
   },
   "outputs": [
    {
     "name": "stdout",
     "output_type": "stream",
     "text": [
      "0\n",
      "3\n",
      "6\n",
      "9\n",
      "12\n",
      "15\n",
      "18\n"
     ]
    }
   ],
   "source": [
    "# lets talk about a third argument that we can give to range\n",
    "# print out numbers from 0 through 20 but in steps of 3\n",
    "\n",
    "# You should be familiar with these 3 configurations of the range function\n",
    "\n",
    "for i in range(0, 20, 3):\n",
    "    print(i)"
   ]
  },
  {
   "cell_type": "markdown",
   "metadata": {},
   "source": [
    "# 2. Loops on strings\n",
    "***\n",
    "\n",
    "In this section we present another way to process string objects."
   ]
  },
  {
   "cell_type": "code",
   "execution_count": 11,
   "metadata": {
    "ExecuteTime": {
     "end_time": "2018-09-23T22:34:51.119996Z",
     "start_time": "2018-09-23T22:34:51.112884Z"
    }
   },
   "outputs": [
    {
     "name": "stdout",
     "output_type": "stream",
     "text": [
      "c\n",
      "s\n",
      "c\n",
      "i\n",
      "1\n",
      "2\n",
      "0\n",
      "0\n"
     ]
    }
   ],
   "source": [
    "# lets see what happens if we replace the list in loops with a string variable\n",
    "\n",
    "mystring = \"csci1200\"\n",
    "\n",
    "for i in mystring:\n",
    "    print(i)\n",
    "    \n",
    "# a string can be viewed as a list of letters and therefore we can run loops on it as well!"
   ]
  },
  {
   "cell_type": "code",
   "execution_count": 12,
   "metadata": {
    "ExecuteTime": {
     "end_time": "2018-09-23T22:34:51.128299Z",
     "start_time": "2018-09-23T22:34:51.121885Z"
    }
   },
   "outputs": [
    {
     "name": "stdout",
     "output_type": "stream",
     "text": [
      "c\n",
      "s\n",
      "c\n",
      "i\n",
      "1\n",
      "2\n",
      "0\n",
      "0\n"
     ]
    }
   ],
   "source": [
    "# another way to do the same thing as above, but this time using the range function\n",
    "# remember that strings are what we call \"0-indexed\"\n",
    "\n",
    "mystring = \"csci1200\"\n",
    "\n",
    "for i in range(len(mystring)):\n",
    "    print(mystring[i]) # we access the string at that particular index\n"
   ]
  },
  {
   "cell_type": "code",
   "execution_count": 13,
   "metadata": {
    "ExecuteTime": {
     "end_time": "2018-09-23T22:34:51.138161Z",
     "start_time": "2018-09-23T22:34:51.130636Z"
    }
   },
   "outputs": [
    {
     "name": "stdout",
     "output_type": "stream",
     "text": [
      "0\n",
      "1\n",
      "2\n",
      "3\n",
      "4\n",
      "5\n",
      "6\n",
      "7\n",
      "8\n",
      "9\n",
      "10\n",
      "11\n",
      "12\n",
      "13\n",
      "14\n"
     ]
    }
   ],
   "source": [
    "# lets play around the index of string\n",
    "\n",
    "a = \"this is a class\"\n",
    "\n",
    "for i in range(len(a)):\n",
    "    print(i)"
   ]
  },
  {
   "cell_type": "code",
   "execution_count": 14,
   "metadata": {
    "ExecuteTime": {
     "end_time": "2018-09-23T22:34:51.147247Z",
     "start_time": "2018-09-23T22:34:51.141664Z"
    }
   },
   "outputs": [
    {
     "name": "stdout",
     "output_type": "stream",
     "text": [
      "0 is the index of character 'h'\n",
      "1 is the index of character 'a'\n",
      "2 is the index of character 'k'\n",
      "3 is the index of character 'u'\n",
      "4 is the index of character 'n'\n",
      "5 is the index of character 'a'\n",
      "6 is the index of character ' '\n",
      "7 is the index of character 'm'\n",
      "8 is the index of character 'a'\n",
      "9 is the index of character 't'\n",
      "10 is the index of character 'a'\n",
      "11 is the index of character 't'\n",
      "12 is the index of character 'a'\n"
     ]
    }
   ],
   "source": [
    "# lets play around the index of string\n",
    "\n",
    "a = \"hakuna matata\"\n",
    "\n",
    "for i in range(len(a)):\n",
    "    print(str(i) + \" is the index of character '\" + a[i] + \"'\")"
   ]
  },
  {
   "cell_type": "code",
   "execution_count": 15,
   "metadata": {
    "ExecuteTime": {
     "end_time": "2018-09-23T22:48:24.129453Z",
     "start_time": "2018-09-23T22:48:24.125554Z"
    }
   },
   "outputs": [
    {
     "name": "stdout",
     "output_type": "stream",
     "text": [
      "0\n",
      "0\n",
      "2\n",
      "1\n",
      "i\n",
      "c\n",
      "s\n",
      "c\n"
     ]
    }
   ],
   "source": [
    "# can we only access this string left to right? lets try another way!\n",
    "\n",
    "a = \"csci1200\"\n",
    "\n",
    "for i in range(len(a)):\n",
    "    print(a[len(a) - i - 1])  # why do we need to say - 1 here?"
   ]
  },
  {
   "cell_type": "code",
   "execution_count": 16,
   "metadata": {
    "ExecuteTime": {
     "end_time": "2018-09-23T22:49:06.522130Z",
     "start_time": "2018-09-23T22:49:06.518827Z"
    }
   },
   "outputs": [
    {
     "name": "stdout",
     "output_type": "stream",
     "text": [
      "7 is the index of character '0'\n",
      "6 is the index of character '0'\n",
      "5 is the index of character '2'\n",
      "4 is the index of character '1'\n",
      "3 is the index of character 'i'\n",
      "2 is the index of character 'c'\n",
      "1 is the index of character 's'\n",
      "0 is the index of character 'c'\n"
     ]
    }
   ],
   "source": [
    "for i in range(len(a)):\n",
    "    print(str(len(a) - i - 1) + \" is the index of character '\"+a[len(a) - i - 1]+\"'\")"
   ]
  },
  {
   "cell_type": "code",
   "execution_count": 17,
   "metadata": {
    "ExecuteTime": {
     "end_time": "2018-09-23T22:34:51.155242Z",
     "start_time": "2018-09-23T22:34:51.150553Z"
    }
   },
   "outputs": [
    {
     "name": "stdout",
     "output_type": "stream",
     "text": [
      "b\n",
      "b\n",
      "b\n",
      "b\n"
     ]
    }
   ],
   "source": [
    "# lets try and use the third argument and see what happens\n",
    "\n",
    "some_string = \"blahblahblahblah\"\n",
    "\n",
    "for i in range(0, len(some_string),4):\n",
    "    print(some_string[i])"
   ]
  },
  {
   "cell_type": "code",
   "execution_count": 18,
   "metadata": {
    "ExecuteTime": {
     "end_time": "2018-09-23T22:34:51.161252Z",
     "start_time": "2018-09-23T22:34:51.157648Z"
    }
   },
   "outputs": [
    {
     "name": "stdout",
     "output_type": "stream",
     "text": [
      "l\n",
      "l\n",
      "l\n",
      "l\n"
     ]
    }
   ],
   "source": [
    "for i in range(1, len(some_string),4):\n",
    "    print(some_string[i])"
   ]
  },
  {
   "cell_type": "markdown",
   "metadata": {},
   "source": [
    "# 3. Revisiting Functions\n",
    "***\n",
    "Now that we know about loops, how can we do more things with functions?"
   ]
  },
  {
   "cell_type": "code",
   "execution_count": 19,
   "metadata": {
    "ExecuteTime": {
     "end_time": "2018-09-23T22:34:51.167023Z",
     "start_time": "2018-09-23T22:34:51.164027Z"
    }
   },
   "outputs": [],
   "source": [
    "# print y string x number of times!\n",
    "\n",
    "def print_more(x, y):\n",
    "    for i in range(x):\n",
    "        print(y)"
   ]
  },
  {
   "cell_type": "code",
   "execution_count": 20,
   "metadata": {
    "ExecuteTime": {
     "end_time": "2018-09-23T22:34:51.177461Z",
     "start_time": "2018-09-23T22:34:51.171543Z"
    }
   },
   "outputs": [
    {
     "name": "stdout",
     "output_type": "stream",
     "text": [
      "this is csci 1200\n",
      "this is csci 1200\n",
      "this is csci 1200\n",
      "this is csci 1200\n",
      "this is csci 1200\n",
      "this is csci 1200\n",
      "this is csci 1200\n",
      "this is csci 1200\n",
      "this is csci 1200\n",
      "this is csci 1200\n",
      "this is csci 1200\n",
      "this is csci 1200\n",
      "this is csci 1200\n",
      "this is csci 1200\n",
      "this is csci 1200\n",
      "this is csci 1200\n",
      "this is csci 1200\n",
      "this is csci 1200\n",
      "this is csci 1200\n",
      "this is csci 1200\n",
      "this is csci 1200\n",
      "this is csci 1200\n",
      "this is csci 1200\n",
      "this is csci 1200\n",
      "this is csci 1200\n",
      "this is csci 1200\n",
      "this is csci 1200\n",
      "this is csci 1200\n",
      "this is csci 1200\n",
      "this is csci 1200\n",
      "this is csci 1200\n",
      "this is csci 1200\n",
      "this is csci 1200\n",
      "this is csci 1200\n",
      "this is csci 1200\n",
      "this is csci 1200\n",
      "this is csci 1200\n",
      "this is csci 1200\n",
      "this is csci 1200\n",
      "this is csci 1200\n",
      "this is csci 1200\n",
      "this is csci 1200\n",
      "this is csci 1200\n",
      "this is csci 1200\n",
      "this is csci 1200\n",
      "this is csci 1200\n",
      "this is csci 1200\n",
      "this is csci 1200\n",
      "this is csci 1200\n",
      "this is csci 1200\n",
      "this is csci 1200\n",
      "this is csci 1200\n",
      "this is csci 1200\n",
      "this is csci 1200\n",
      "this is csci 1200\n",
      "this is csci 1200\n",
      "this is csci 1200\n",
      "this is csci 1200\n",
      "this is csci 1200\n",
      "this is csci 1200\n",
      "this is csci 1200\n",
      "this is csci 1200\n",
      "this is csci 1200\n",
      "this is csci 1200\n",
      "this is csci 1200\n",
      "this is csci 1200\n",
      "this is csci 1200\n",
      "this is csci 1200\n",
      "this is csci 1200\n",
      "this is csci 1200\n",
      "this is csci 1200\n",
      "this is csci 1200\n",
      "this is csci 1200\n",
      "this is csci 1200\n",
      "this is csci 1200\n",
      "this is csci 1200\n",
      "this is csci 1200\n",
      "this is csci 1200\n",
      "this is csci 1200\n",
      "this is csci 1200\n",
      "this is csci 1200\n",
      "this is csci 1200\n",
      "this is csci 1200\n",
      "this is csci 1200\n",
      "this is csci 1200\n",
      "this is csci 1200\n",
      "this is csci 1200\n",
      "this is csci 1200\n",
      "this is csci 1200\n",
      "this is csci 1200\n",
      "this is csci 1200\n",
      "this is csci 1200\n",
      "this is csci 1200\n",
      "this is csci 1200\n",
      "this is csci 1200\n",
      "this is csci 1200\n",
      "this is csci 1200\n",
      "this is csci 1200\n",
      "this is csci 1200\n",
      "this is csci 1200\n"
     ]
    }
   ],
   "source": [
    "print_more(100, \"this is csci 1200\")"
   ]
  },
  {
   "cell_type": "code",
   "execution_count": 21,
   "metadata": {
    "ExecuteTime": {
     "end_time": "2018-09-23T22:37:35.763043Z",
     "start_time": "2018-09-23T22:37:35.759558Z"
    }
   },
   "outputs": [],
   "source": [
    "# return a string that is made from every xth character of the original string\n",
    "\n",
    "def magic_str(given_string, x):\n",
    "    result = \"\"\n",
    "    for i in range(0, len(given_string),x):\n",
    "        result += given_string[i]\n",
    "    return result"
   ]
  },
  {
   "cell_type": "code",
   "execution_count": 22,
   "metadata": {
    "ExecuteTime": {
     "end_time": "2018-09-23T22:37:34.029268Z",
     "start_time": "2018-09-23T22:37:34.025247Z"
    }
   },
   "outputs": [
    {
     "data": {
      "text/plain": [
       "'hat i'"
      ]
     },
     "execution_count": 22,
     "metadata": {},
     "output_type": "execute_result"
    }
   ],
   "source": [
    "magic_str(\"hahaha that was amazing!\", 5)\n"
   ]
  },
  {
   "cell_type": "code",
   "execution_count": 23,
   "metadata": {
    "ExecuteTime": {
     "end_time": "2018-09-23T22:37:32.198070Z",
     "start_time": "2018-09-23T22:37:32.193414Z"
    }
   },
   "outputs": [
    {
     "data": {
      "text/plain": [
       "'hhh htwsaaig'"
      ]
     },
     "execution_count": 23,
     "metadata": {},
     "output_type": "execute_result"
    }
   ],
   "source": [
    "magic_str(\"hahaha that was amazing!\", 2)"
   ]
  },
  {
   "cell_type": "code",
   "execution_count": null,
   "metadata": {},
   "outputs": [],
   "source": []
  },
  {
   "cell_type": "markdown",
   "metadata": {},
   "source": [
    "# PAPER TIME!\n",
    "***\n",
    "Go ahead and solve the exercises on paper!"
   ]
  },
  {
   "cell_type": "markdown",
   "metadata": {},
   "source": [
    "# COMPUTER TIME!\n",
    "***\n",
    "Go ahead and solve the following exercises"
   ]
  },
  {
   "cell_type": "markdown",
   "metadata": {},
   "source": [
    "0. Write your own examples of the three different configurations of for loops that we have looked at so far."
   ]
  },
  {
   "cell_type": "code",
   "execution_count": 24,
   "metadata": {},
   "outputs": [],
   "source": [
    "# for loop using a list\n"
   ]
  },
  {
   "cell_type": "code",
   "execution_count": 25,
   "metadata": {},
   "outputs": [],
   "source": [
    "# for loop using the range() function"
   ]
  },
  {
   "cell_type": "code",
   "execution_count": 26,
   "metadata": {},
   "outputs": [],
   "source": [
    "# for loop over a string"
   ]
  },
  {
   "cell_type": "markdown",
   "metadata": {},
   "source": [
    "1. Write a function `box` that takes two numbers, `rows` and `columns` and prints out an `rows` by `columns` box of \"+\" signs. For example, if `rows` was 3 and `columns` was 5:\n",
    "\n",
    "```\n",
    "+++++\n",
    "+++++\n",
    "+++++\n",
    "```\n",
    "\n",
    "Remember that you can use the * operator with strings!"
   ]
  },
  {
   "cell_type": "code",
   "execution_count": 27,
   "metadata": {},
   "outputs": [
    {
     "name": "stdout",
     "output_type": "stream",
     "text": [
      "+++++\n",
      "+++++\n",
      "+++++\n",
      "++++++\n",
      "++++++\n",
      "++++++\n",
      "++++++\n"
     ]
    }
   ],
   "source": [
    "def box(rows, columns):\n",
    "    for x in range(rows):\n",
    "        print(\"+\" * columns)\n",
    "    \n",
    "def main():\n",
    "    box(3,5)\n",
    "    box(4,6)\n",
    "    \n",
    "if __name__ == \"__main__\":\n",
    "    main()"
   ]
  },
  {
   "cell_type": "code",
   "execution_count": null,
   "metadata": {},
   "outputs": [],
   "source": []
  },
  {
   "cell_type": "markdown",
   "metadata": {},
   "source": [
    "2. Write a function, `num_words`, that takes a string parameter and uses the string `split` function to create a list of words, then returns the number of words in the string parameter. You may assume that all words have spaces separating them. "
   ]
  },
  {
   "cell_type": "code",
   "execution_count": 1,
   "metadata": {},
   "outputs": [
    {
     "name": "stdout",
     "output_type": "stream",
     "text": [
      "Type a sentence: one small step\n",
      "3\n"
     ]
    }
   ],
   "source": [
    "#def string_list():\n",
    "#    string = input(\"Type a sentence: \")\n",
    "#    string = string.split()\n",
    "#    return string\n",
    "\n",
    "def num_words(string):\n",
    "    length = len(string)\n",
    "    #print(len(string))\n",
    "    return length\n",
    "    \n",
    "def main():\n",
    "    string = input(\"Type a sentence: \")\n",
    "    string = string.split()\n",
    "    answer = num_words(string)\n",
    "    print(answer)\n",
    "    \n",
    "if __name__ == \"__main__\":\n",
    "    main()"
   ]
  },
  {
   "cell_type": "code",
   "execution_count": null,
   "metadata": {},
   "outputs": [],
   "source": []
  },
  {
   "cell_type": "code",
   "execution_count": null,
   "metadata": {},
   "outputs": [],
   "source": []
  },
  {
   "cell_type": "markdown",
   "metadata": {},
   "source": [
    "3. Write a function, ```secret_string```, that makes a new string from every 3rd character in a given string parameter starting from 0 and returns the result as a string. Example, if we pass in ```\"introductiontocomputerscience\"```, the answer should be ```\"iruitouric\"```."
   ]
  },
  {
   "cell_type": "code",
   "execution_count": 2,
   "metadata": {
    "ExecuteTime": {
     "end_time": "2018-09-23T22:34:51.185628Z",
     "start_time": "2018-09-23T22:34:51.182366Z"
    }
   },
   "outputs": [
    {
     "name": "stdout",
     "output_type": "stream",
     "text": [
      "Type a sentence: one small step\n"
     ]
    },
    {
     "ename": "TypeError",
     "evalue": "string indices must be integers",
     "output_type": "error",
     "traceback": [
      "\u001b[1;31m---------------------------------------------------------------------------\u001b[0m",
      "\u001b[1;31mTypeError\u001b[0m                                 Traceback (most recent call last)",
      "\u001b[1;32m<ipython-input-2-dc3b99bad31a>\u001b[0m in \u001b[0;36m<module>\u001b[1;34m()\u001b[0m\n\u001b[0;32m      9\u001b[0m \u001b[1;33m\u001b[0m\u001b[0m\n\u001b[0;32m     10\u001b[0m \u001b[1;32mif\u001b[0m \u001b[0m__name__\u001b[0m \u001b[1;33m==\u001b[0m \u001b[1;34m\"__main__\"\u001b[0m\u001b[1;33m:\u001b[0m\u001b[1;33m\u001b[0m\u001b[0m\n\u001b[1;32m---> 11\u001b[1;33m     \u001b[0mmain\u001b[0m\u001b[1;33m(\u001b[0m\u001b[1;33m)\u001b[0m\u001b[1;33m\u001b[0m\u001b[0m\n\u001b[0m",
      "\u001b[1;32m<ipython-input-2-dc3b99bad31a>\u001b[0m in \u001b[0;36mmain\u001b[1;34m()\u001b[0m\n\u001b[0;32m      5\u001b[0m         \u001b[0mprint\u001b[0m\u001b[1;33m(\u001b[0m\u001b[0mstring\u001b[0m\u001b[1;33m[\u001b[0m\u001b[0mx\u001b[0m\u001b[1;33m]\u001b[0m\u001b[1;33m)\u001b[0m\u001b[1;33m\u001b[0m\u001b[0m\n\u001b[0;32m      6\u001b[0m \u001b[1;32mdef\u001b[0m \u001b[0mmain\u001b[0m\u001b[1;33m(\u001b[0m\u001b[1;33m)\u001b[0m\u001b[1;33m:\u001b[0m\u001b[1;33m\u001b[0m\u001b[0m\n\u001b[1;32m----> 7\u001b[1;33m     \u001b[0msecret_string\u001b[0m\u001b[1;33m(\u001b[0m\u001b[0minput\u001b[0m\u001b[1;33m(\u001b[0m\u001b[1;34m\"Type a sentence: \"\u001b[0m\u001b[1;33m)\u001b[0m\u001b[1;33m)\u001b[0m\u001b[1;33m\u001b[0m\u001b[0m\n\u001b[0m\u001b[0;32m      8\u001b[0m     \u001b[0msecret_string\u001b[0m\u001b[1;33m(\u001b[0m\u001b[0mstring\u001b[0m\u001b[1;33m)\u001b[0m\u001b[1;33m\u001b[0m\u001b[0m\n\u001b[0;32m      9\u001b[0m \u001b[1;33m\u001b[0m\u001b[0m\n",
      "\u001b[1;32m<ipython-input-2-dc3b99bad31a>\u001b[0m in \u001b[0;36msecret_string\u001b[1;34m(string)\u001b[0m\n\u001b[0;32m      3\u001b[0m     \u001b[0mnumber\u001b[0m \u001b[1;33m=\u001b[0m \u001b[0mint\u001b[0m\u001b[1;33m(\u001b[0m\u001b[0mnumber\u001b[0m\u001b[1;33m)\u001b[0m\u001b[1;33m\u001b[0m\u001b[0m\n\u001b[0;32m      4\u001b[0m     \u001b[1;32mfor\u001b[0m \u001b[0mx\u001b[0m \u001b[1;32min\u001b[0m \u001b[0mstring\u001b[0m\u001b[1;33m:\u001b[0m\u001b[1;33m\u001b[0m\u001b[0m\n\u001b[1;32m----> 5\u001b[1;33m         \u001b[0mprint\u001b[0m\u001b[1;33m(\u001b[0m\u001b[0mstring\u001b[0m\u001b[1;33m[\u001b[0m\u001b[0mx\u001b[0m\u001b[1;33m]\u001b[0m\u001b[1;33m)\u001b[0m\u001b[1;33m\u001b[0m\u001b[0m\n\u001b[0m\u001b[0;32m      6\u001b[0m \u001b[1;32mdef\u001b[0m \u001b[0mmain\u001b[0m\u001b[1;33m(\u001b[0m\u001b[1;33m)\u001b[0m\u001b[1;33m:\u001b[0m\u001b[1;33m\u001b[0m\u001b[0m\n\u001b[0;32m      7\u001b[0m     \u001b[0msecret_string\u001b[0m\u001b[1;33m(\u001b[0m\u001b[0minput\u001b[0m\u001b[1;33m(\u001b[0m\u001b[1;34m\"Type a sentence: \"\u001b[0m\u001b[1;33m)\u001b[0m\u001b[1;33m)\u001b[0m\u001b[1;33m\u001b[0m\u001b[0m\n",
      "\u001b[1;31mTypeError\u001b[0m: string indices must be integers"
     ]
    }
   ],
   "source": [
    "def secret_string(string):\n",
    "    number = len(string)\n",
    "    number = int(number)\n",
    "    for x in string:\n",
    "        print(string[x]) \n",
    "def main():\n",
    "    secret_string(input(\"Type a sentence: \"))\n",
    "    secret_string(string)\n",
    "    \n",
    "if __name__ == \"__main__\":\n",
    "    main()"
   ]
  },
  {
   "cell_type": "code",
   "execution_count": null,
   "metadata": {
    "ExecuteTime": {
     "end_time": "2018-09-23T22:34:51.200988Z",
     "start_time": "2018-09-23T22:34:51.190361Z"
    }
   },
   "outputs": [],
   "source": []
  },
  {
   "cell_type": "code",
   "execution_count": null,
   "metadata": {},
   "outputs": [],
   "source": []
  },
  {
   "cell_type": "markdown",
   "metadata": {},
   "source": [
    "4. Write a function, ```days_left```, that takes in ```deadline``` and ```date_today``` as parameters and prints the days from today leading up to the deadline. For simplicity, you can assume that you the deadline and date_today are in the same month. Example, ```days_left(29, 23)``` should print\n",
    "```\n",
    "23\n",
    "24\n",
    "25\n",
    "26\n",
    "27\n",
    "28\n",
    "29\n",
    "```"
   ]
  },
  {
   "cell_type": "code",
   "execution_count": null,
   "metadata": {
    "ExecuteTime": {
     "end_time": "2018-09-23T22:34:51.205438Z",
     "start_time": "2018-09-23T22:34:51.202936Z"
    }
   },
   "outputs": [],
   "source": []
  },
  {
   "cell_type": "code",
   "execution_count": null,
   "metadata": {
    "ExecuteTime": {
     "end_time": "2018-09-23T22:34:51.211295Z",
     "start_time": "2018-09-23T22:34:51.207786Z"
    }
   },
   "outputs": [],
   "source": []
  },
  {
   "cell_type": "markdown",
   "metadata": {},
   "source": [
    "5. Write a function with a for loop that concatenates a given string x, y times. Then write the function that does this without a for loop."
   ]
  },
  {
   "cell_type": "code",
   "execution_count": null,
   "metadata": {},
   "outputs": [],
   "source": []
  },
  {
   "cell_type": "code",
   "execution_count": null,
   "metadata": {},
   "outputs": [],
   "source": []
  },
  {
   "cell_type": "code",
   "execution_count": null,
   "metadata": {},
   "outputs": [],
   "source": []
  },
  {
   "cell_type": "markdown",
   "metadata": {},
   "source": [
    "6. Test out the function you wrote in question 3rd of section 'For loops and functions' of paper time to print out the month name and number of days in that month. Correct your mistakes!\n",
    "\n",
    "```python\n",
    "def month_info():\n",
    "    months = [31, 28, 30, 30, 31, 29, 31, 31, 30, 31, 30, 31]\n",
    "    month_names = [\"Jan\", \"Feb\", \"Mar\", \"Apr\", \"May\", \"Jun\", \"Jul\", \"Aug\", \"Sep\", \"Oct\", \"Nov\", \"Dec\"]\n",
    "```\n",
    "\n",
    "(we copy and pasted the starter code that we gave you above)"
   ]
  },
  {
   "cell_type": "code",
   "execution_count": null,
   "metadata": {},
   "outputs": [],
   "source": []
  },
  {
   "cell_type": "code",
   "execution_count": null,
   "metadata": {},
   "outputs": [],
   "source": []
  },
  {
   "cell_type": "markdown",
   "metadata": {},
   "source": [
    "7. Write a function `count_letter` that takes a list of strings and a letter as parameters and counts the number of times the given letter occurs in the list of strings. Use a for loop and the string `count()` function.\n",
    "\n",
    "```python\n",
    "num_es = count_letter([\"here\", \"is\", \"a\", \"list\"], \"e\")\n",
    "print(num_es)  # prints 2\n",
    "```"
   ]
  },
  {
   "cell_type": "code",
   "execution_count": null,
   "metadata": {},
   "outputs": [],
   "source": []
  },
  {
   "cell_type": "code",
   "execution_count": null,
   "metadata": {},
   "outputs": [],
   "source": []
  },
  {
   "cell_type": "markdown",
   "metadata": {},
   "source": [
    "7. Write a function, `fibonacci`, that takes an int that is greater than or equal to 1 and returns the nth number of the fibonacci sequence. The fibonacci sequence is as follows:\n",
    "\n",
    "```\n",
    "1, 1, 2, 3, 5, 8, 13, 21, ...\n",
    "```\n",
    "\n",
    "(each number is the sum of the preceding two numbers)"
   ]
  },
  {
   "cell_type": "code",
   "execution_count": null,
   "metadata": {},
   "outputs": [],
   "source": []
  },
  {
   "cell_type": "code",
   "execution_count": null,
   "metadata": {},
   "outputs": [],
   "source": []
  }
 ],
 "metadata": {
  "kernelspec": {
   "display_name": "Python 3",
   "language": "python",
   "name": "python3"
  },
  "language_info": {
   "codemirror_mode": {
    "name": "ipython",
    "version": 3
   },
   "file_extension": ".py",
   "mimetype": "text/x-python",
   "name": "python",
   "nbconvert_exporter": "python",
   "pygments_lexer": "ipython3",
   "version": "3.6.5"
  }
 },
 "nbformat": 4,
 "nbformat_minor": 2
}
